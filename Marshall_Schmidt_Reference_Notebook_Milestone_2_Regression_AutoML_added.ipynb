{
 "cells": [
  {
   "cell_type": "markdown",
   "metadata": {
    "id": "xWKrvyhfVL3e"
   },
   "source": [
    "# **Milestone 2**"
   ]
  },
  {
   "cell_type": "markdown",
   "metadata": {
    "id": "Rzh8pcvmtOS8"
   },
   "source": [
    "## **Model Building**\n",
    "\n",
    "1. What we want to predict is the \"Price\". We will use the normalized version 'price_log' for modeling.\n",
    "2. Before we proceed to the model, we'll have to encode categorical features. We will drop categorical features like Name. \n",
    "3. We'll split the data into train and test, to be able to evaluate the model that we build on the train data.\n",
    "4. Build Regression models using train data.\n",
    "5. Evaluate the model performance."
   ]
  },
  {
   "cell_type": "markdown",
   "metadata": {
    "id": "8dVPYay0_Qtf"
   },
   "source": [
    "**Note:** Please load the data frame that was saved in Milestone 1 here before separating the data, and then proceed to the next step in Milestone 2."
   ]
  },
  {
   "cell_type": "markdown",
   "metadata": {
    "id": "tU1JQaHL_Qtg"
   },
   "source": [
    "### **Load the data**"
   ]
  },
  {
   "cell_type": "code",
   "execution_count": 1,
   "metadata": {
    "id": "8XfT42O8_Qtg"
   },
   "outputs": [],
   "source": [
    "import pandas as pd\n",
    "\n"
   ]
  },
  {
   "cell_type": "code",
   "execution_count": 2,
   "metadata": {
    "id": "00yRV4daABiR"
   },
   "outputs": [],
   "source": [
    "import pandas as pd\n",
    "\n",
    "cars_data = pd.read_csv(\"cars_data_updated_cleaned_3.csv\")"
   ]
  },
  {
   "cell_type": "code",
   "execution_count": 3,
   "metadata": {
    "colab": {
     "base_uri": "https://localhost:8080/",
     "height": 300
    },
    "id": "oeHeGSZk_Qth",
    "outputId": "c6db32ed-5514-4c78-9290-85c818a8aff0"
   },
   "outputs": [
    {
     "data": {
      "text/html": [
       "<div>\n",
       "<style scoped>\n",
       "    .dataframe tbody tr th:only-of-type {\n",
       "        vertical-align: middle;\n",
       "    }\n",
       "\n",
       "    .dataframe tbody tr th {\n",
       "        vertical-align: top;\n",
       "    }\n",
       "\n",
       "    .dataframe thead th {\n",
       "        text-align: right;\n",
       "    }\n",
       "</style>\n",
       "<table border=\"1\" class=\"dataframe\">\n",
       "  <thead>\n",
       "    <tr style=\"text-align: right;\">\n",
       "      <th></th>\n",
       "      <th>count</th>\n",
       "      <th>unique</th>\n",
       "      <th>top</th>\n",
       "      <th>freq</th>\n",
       "    </tr>\n",
       "  </thead>\n",
       "  <tbody>\n",
       "    <tr>\n",
       "      <th>Name</th>\n",
       "      <td>7249</td>\n",
       "      <td>2038</td>\n",
       "      <td>Mahindra XUV500 W8 2WD</td>\n",
       "      <td>55</td>\n",
       "    </tr>\n",
       "    <tr>\n",
       "      <th>Location</th>\n",
       "      <td>7249</td>\n",
       "      <td>11</td>\n",
       "      <td>Mumbai</td>\n",
       "      <td>949</td>\n",
       "    </tr>\n",
       "    <tr>\n",
       "      <th>Fuel_Type</th>\n",
       "      <td>7249</td>\n",
       "      <td>5</td>\n",
       "      <td>Diesel</td>\n",
       "      <td>3849</td>\n",
       "    </tr>\n",
       "    <tr>\n",
       "      <th>Transmission</th>\n",
       "      <td>7249</td>\n",
       "      <td>2</td>\n",
       "      <td>Manual</td>\n",
       "      <td>5204</td>\n",
       "    </tr>\n",
       "    <tr>\n",
       "      <th>Owner_Type</th>\n",
       "      <td>7249</td>\n",
       "      <td>4</td>\n",
       "      <td>First</td>\n",
       "      <td>5949</td>\n",
       "    </tr>\n",
       "    <tr>\n",
       "      <th>Brand</th>\n",
       "      <td>7249</td>\n",
       "      <td>32</td>\n",
       "      <td>Maruti</td>\n",
       "      <td>1444</td>\n",
       "    </tr>\n",
       "    <tr>\n",
       "      <th>Model</th>\n",
       "      <td>7249</td>\n",
       "      <td>218</td>\n",
       "      <td>Swift</td>\n",
       "      <td>418</td>\n",
       "    </tr>\n",
       "    <tr>\n",
       "      <th>Brand_model</th>\n",
       "      <td>7249</td>\n",
       "      <td>222</td>\n",
       "      <td>Maruti_Swift</td>\n",
       "      <td>418</td>\n",
       "    </tr>\n",
       "  </tbody>\n",
       "</table>\n",
       "</div>"
      ],
      "text/plain": [
       "             count unique                     top  freq\n",
       "Name          7249   2038  Mahindra XUV500 W8 2WD    55\n",
       "Location      7249     11                  Mumbai   949\n",
       "Fuel_Type     7249      5                  Diesel  3849\n",
       "Transmission  7249      2                  Manual  5204\n",
       "Owner_Type    7249      4                   First  5949\n",
       "Brand         7249     32                  Maruti  1444\n",
       "Model         7249    218                   Swift   418\n",
       "Brand_model   7249    222            Maruti_Swift   418"
      ]
     },
     "execution_count": 3,
     "metadata": {},
     "output_type": "execute_result"
    }
   ],
   "source": [
    "cars_data.describe(include = ['object']).T"
   ]
  },
  {
   "cell_type": "code",
   "execution_count": null,
   "metadata": {
    "id": "xMr6b6dC_Qti"
   },
   "outputs": [],
   "source": []
  },
  {
   "cell_type": "code",
   "execution_count": 4,
   "metadata": {
    "colab": {
     "base_uri": "https://localhost:8080/",
     "height": 363
    },
    "id": "iZMIdjJu_Qti",
    "outputId": "f4edd9d6-9ebb-4a68-f953-0b228ceb5d6d"
   },
   "outputs": [
    {
     "data": {
      "text/html": [
       "<div>\n",
       "<style scoped>\n",
       "    .dataframe tbody tr th:only-of-type {\n",
       "        vertical-align: middle;\n",
       "    }\n",
       "\n",
       "    .dataframe tbody tr th {\n",
       "        vertical-align: top;\n",
       "    }\n",
       "\n",
       "    .dataframe thead th {\n",
       "        text-align: right;\n",
       "    }\n",
       "</style>\n",
       "<table border=\"1\" class=\"dataframe\">\n",
       "  <thead>\n",
       "    <tr style=\"text-align: right;\">\n",
       "      <th></th>\n",
       "      <th>count</th>\n",
       "      <th>mean</th>\n",
       "      <th>std</th>\n",
       "      <th>min</th>\n",
       "      <th>25%</th>\n",
       "      <th>50%</th>\n",
       "      <th>75%</th>\n",
       "      <th>max</th>\n",
       "    </tr>\n",
       "  </thead>\n",
       "  <tbody>\n",
       "    <tr>\n",
       "      <th>Year</th>\n",
       "      <td>7249.0</td>\n",
       "      <td>2013.364740</td>\n",
       "      <td>3.254637</td>\n",
       "      <td>1996.000000</td>\n",
       "      <td>2011.000000</td>\n",
       "      <td>2014.000000</td>\n",
       "      <td>2016.000000</td>\n",
       "      <td>2019.000000</td>\n",
       "    </tr>\n",
       "    <tr>\n",
       "      <th>Kilometers_Driven</th>\n",
       "      <td>7249.0</td>\n",
       "      <td>57723.521175</td>\n",
       "      <td>36541.922680</td>\n",
       "      <td>171.000000</td>\n",
       "      <td>34000.000000</td>\n",
       "      <td>53416.000000</td>\n",
       "      <td>73000.000000</td>\n",
       "      <td>720000.000000</td>\n",
       "    </tr>\n",
       "    <tr>\n",
       "      <th>Mileage</th>\n",
       "      <td>7249.0</td>\n",
       "      <td>18.318437</td>\n",
       "      <td>4.148297</td>\n",
       "      <td>7.500000</td>\n",
       "      <td>15.290000</td>\n",
       "      <td>18.160000</td>\n",
       "      <td>21.100000</td>\n",
       "      <td>33.540000</td>\n",
       "    </tr>\n",
       "    <tr>\n",
       "      <th>Engine</th>\n",
       "      <td>7249.0</td>\n",
       "      <td>1615.675417</td>\n",
       "      <td>591.603602</td>\n",
       "      <td>72.000000</td>\n",
       "      <td>1198.000000</td>\n",
       "      <td>1493.000000</td>\n",
       "      <td>1968.000000</td>\n",
       "      <td>5998.000000</td>\n",
       "    </tr>\n",
       "    <tr>\n",
       "      <th>Power</th>\n",
       "      <td>7249.0</td>\n",
       "      <td>112.341877</td>\n",
       "      <td>52.850118</td>\n",
       "      <td>34.200000</td>\n",
       "      <td>75.000000</td>\n",
       "      <td>94.000000</td>\n",
       "      <td>138.030000</td>\n",
       "      <td>616.000000</td>\n",
       "    </tr>\n",
       "    <tr>\n",
       "      <th>Seats</th>\n",
       "      <td>7249.0</td>\n",
       "      <td>5.279487</td>\n",
       "      <td>0.806445</td>\n",
       "      <td>2.000000</td>\n",
       "      <td>5.000000</td>\n",
       "      <td>5.000000</td>\n",
       "      <td>5.000000</td>\n",
       "      <td>10.000000</td>\n",
       "    </tr>\n",
       "    <tr>\n",
       "      <th>New_price</th>\n",
       "      <td>7249.0</td>\n",
       "      <td>21.218825</td>\n",
       "      <td>24.325179</td>\n",
       "      <td>3.910000</td>\n",
       "      <td>7.920000</td>\n",
       "      <td>11.480000</td>\n",
       "      <td>22.370000</td>\n",
       "      <td>375.000000</td>\n",
       "    </tr>\n",
       "    <tr>\n",
       "      <th>Price</th>\n",
       "      <td>7249.0</td>\n",
       "      <td>9.322196</td>\n",
       "      <td>10.685974</td>\n",
       "      <td>0.440000</td>\n",
       "      <td>3.500000</td>\n",
       "      <td>5.600000</td>\n",
       "      <td>9.890000</td>\n",
       "      <td>100.000000</td>\n",
       "    </tr>\n",
       "    <tr>\n",
       "      <th>kilometers_driven_log</th>\n",
       "      <td>7249.0</td>\n",
       "      <td>10.760273</td>\n",
       "      <td>0.713008</td>\n",
       "      <td>5.141664</td>\n",
       "      <td>10.434116</td>\n",
       "      <td>10.885866</td>\n",
       "      <td>11.198215</td>\n",
       "      <td>13.487006</td>\n",
       "    </tr>\n",
       "    <tr>\n",
       "      <th>Price_log</th>\n",
       "      <td>7249.0</td>\n",
       "      <td>1.819207</td>\n",
       "      <td>0.864312</td>\n",
       "      <td>-0.820981</td>\n",
       "      <td>1.252763</td>\n",
       "      <td>1.722767</td>\n",
       "      <td>2.291524</td>\n",
       "      <td>4.605170</td>\n",
       "    </tr>\n",
       "  </tbody>\n",
       "</table>\n",
       "</div>"
      ],
      "text/plain": [
       "                        count          mean           std          min  \\\n",
       "Year                   7249.0   2013.364740      3.254637  1996.000000   \n",
       "Kilometers_Driven      7249.0  57723.521175  36541.922680   171.000000   \n",
       "Mileage                7249.0     18.318437      4.148297     7.500000   \n",
       "Engine                 7249.0   1615.675417    591.603602    72.000000   \n",
       "Power                  7249.0    112.341877     52.850118    34.200000   \n",
       "Seats                  7249.0      5.279487      0.806445     2.000000   \n",
       "New_price              7249.0     21.218825     24.325179     3.910000   \n",
       "Price                  7249.0      9.322196     10.685974     0.440000   \n",
       "kilometers_driven_log  7249.0     10.760273      0.713008     5.141664   \n",
       "Price_log              7249.0      1.819207      0.864312    -0.820981   \n",
       "\n",
       "                                25%           50%           75%            max  \n",
       "Year                    2011.000000   2014.000000   2016.000000    2019.000000  \n",
       "Kilometers_Driven      34000.000000  53416.000000  73000.000000  720000.000000  \n",
       "Mileage                   15.290000     18.160000     21.100000      33.540000  \n",
       "Engine                  1198.000000   1493.000000   1968.000000    5998.000000  \n",
       "Power                     75.000000     94.000000    138.030000     616.000000  \n",
       "Seats                      5.000000      5.000000      5.000000      10.000000  \n",
       "New_price                  7.920000     11.480000     22.370000     375.000000  \n",
       "Price                      3.500000      5.600000      9.890000     100.000000  \n",
       "kilometers_driven_log     10.434116     10.885866     11.198215      13.487006  \n",
       "Price_log                  1.252763      1.722767      2.291524       4.605170  "
      ]
     },
     "execution_count": 4,
     "metadata": {},
     "output_type": "execute_result"
    }
   ],
   "source": [
    "cars_data.describe().T"
   ]
  },
  {
   "cell_type": "markdown",
   "metadata": {
    "id": "0L-oAMItxLP-"
   },
   "source": [
    "### **Split the Data**"
   ]
  },
  {
   "cell_type": "markdown",
   "metadata": {
    "id": "Aat-Ne-ZVL3e"
   },
   "source": [
    "<li>Step1: Seperating the indepdent variables (X) and the dependent variable (y). \n",
    "<li>Step2: Eliminate variables adding unncessary complexity.   \n",
    "<li>Step3: Encode the categorical variables in X using pd.dummies.\n",
    "<li>Step4: Split the data into train and test using train_test_split."
   ]
  },
  {
   "cell_type": "markdown",
   "metadata": {
    "id": "Cwh_IhfqVL3f"
   },
   "source": [
    "**Think about it:** Why we should drop 'Name','Price','price_log','Kilometers_Driven' from X before splitting? \n",
    "- We don't need name column, since we have already extracted the relevant information in the brand and model columns. We can also drop the Name_brand column, since it is redundant and may lead to overfitting the dataset. \n",
    "- Price and price_log are depedent variables that we are attempting to model for, so we don't want to use them as inputs. \n",
    "- We are using the normalized data 'kilometers_driven_log' to account for the KM driven, so we can drop the raw 'Kilometers_Driven' from the input dataset. \n",
    "- Let's also drop Model, since it has 218 unique values, thus simplifying the dataset."
   ]
  },
  {
   "cell_type": "code",
   "execution_count": 5,
   "metadata": {
    "colab": {
     "base_uri": "https://localhost:8080/",
     "height": 206
    },
    "id": "NTly1jIxtOS8",
    "outputId": "1902b3c2-8e29-43a2-ec2a-3ec342d58ff6",
    "scrolled": true
   },
   "outputs": [
    {
     "data": {
      "text/html": [
       "<div>\n",
       "<style scoped>\n",
       "    .dataframe tbody tr th:only-of-type {\n",
       "        vertical-align: middle;\n",
       "    }\n",
       "\n",
       "    .dataframe tbody tr th {\n",
       "        vertical-align: top;\n",
       "    }\n",
       "\n",
       "    .dataframe thead th {\n",
       "        text-align: right;\n",
       "    }\n",
       "</style>\n",
       "<table border=\"1\" class=\"dataframe\">\n",
       "  <thead>\n",
       "    <tr style=\"text-align: right;\">\n",
       "      <th></th>\n",
       "      <th>count</th>\n",
       "      <th>unique</th>\n",
       "      <th>top</th>\n",
       "      <th>freq</th>\n",
       "    </tr>\n",
       "  </thead>\n",
       "  <tbody>\n",
       "    <tr>\n",
       "      <th>Location</th>\n",
       "      <td>7249</td>\n",
       "      <td>11</td>\n",
       "      <td>Mumbai</td>\n",
       "      <td>949</td>\n",
       "    </tr>\n",
       "    <tr>\n",
       "      <th>Fuel_Type</th>\n",
       "      <td>7249</td>\n",
       "      <td>5</td>\n",
       "      <td>Diesel</td>\n",
       "      <td>3849</td>\n",
       "    </tr>\n",
       "    <tr>\n",
       "      <th>Transmission</th>\n",
       "      <td>7249</td>\n",
       "      <td>2</td>\n",
       "      <td>Manual</td>\n",
       "      <td>5204</td>\n",
       "    </tr>\n",
       "    <tr>\n",
       "      <th>Owner_Type</th>\n",
       "      <td>7249</td>\n",
       "      <td>4</td>\n",
       "      <td>First</td>\n",
       "      <td>5949</td>\n",
       "    </tr>\n",
       "    <tr>\n",
       "      <th>Brand</th>\n",
       "      <td>7249</td>\n",
       "      <td>32</td>\n",
       "      <td>Maruti</td>\n",
       "      <td>1444</td>\n",
       "    </tr>\n",
       "  </tbody>\n",
       "</table>\n",
       "</div>"
      ],
      "text/plain": [
       "             count unique     top  freq\n",
       "Location      7249     11  Mumbai   949\n",
       "Fuel_Type     7249      5  Diesel  3849\n",
       "Transmission  7249      2  Manual  5204\n",
       "Owner_Type    7249      4   First  5949\n",
       "Brand         7249     32  Maruti  1444"
      ]
     },
     "execution_count": 5,
     "metadata": {},
     "output_type": "execute_result"
    }
   ],
   "source": [
    "# Step-1\n",
    "X = cars_data.drop(['Name','Price','Price_log','Kilometers_Driven','Brand_model','Model'], axis = 1)\n",
    "\n",
    "\n",
    "y = cars_data[[\"Price_log\", \"Price\"]]\n",
    "\n",
    "X.describe(include = ['object']).T"
   ]
  },
  {
   "cell_type": "code",
   "execution_count": 6,
   "metadata": {
    "colab": {
     "base_uri": "https://localhost:8080/",
     "height": 269
    },
    "id": "GOqWgFbV_Qtl",
    "outputId": "9967e542-0125-4b7a-9126-ba95d065bd03"
   },
   "outputs": [
    {
     "data": {
      "text/html": [
       "<div>\n",
       "<style scoped>\n",
       "    .dataframe tbody tr th:only-of-type {\n",
       "        vertical-align: middle;\n",
       "    }\n",
       "\n",
       "    .dataframe tbody tr th {\n",
       "        vertical-align: top;\n",
       "    }\n",
       "\n",
       "    .dataframe thead th {\n",
       "        text-align: right;\n",
       "    }\n",
       "</style>\n",
       "<table border=\"1\" class=\"dataframe\">\n",
       "  <thead>\n",
       "    <tr style=\"text-align: right;\">\n",
       "      <th></th>\n",
       "      <th>count</th>\n",
       "      <th>mean</th>\n",
       "      <th>std</th>\n",
       "      <th>min</th>\n",
       "      <th>25%</th>\n",
       "      <th>50%</th>\n",
       "      <th>75%</th>\n",
       "      <th>max</th>\n",
       "    </tr>\n",
       "  </thead>\n",
       "  <tbody>\n",
       "    <tr>\n",
       "      <th>Year</th>\n",
       "      <td>7249.0</td>\n",
       "      <td>2013.364740</td>\n",
       "      <td>3.254637</td>\n",
       "      <td>1996.000000</td>\n",
       "      <td>2011.000000</td>\n",
       "      <td>2014.000000</td>\n",
       "      <td>2016.000000</td>\n",
       "      <td>2019.000000</td>\n",
       "    </tr>\n",
       "    <tr>\n",
       "      <th>Mileage</th>\n",
       "      <td>7249.0</td>\n",
       "      <td>18.318437</td>\n",
       "      <td>4.148297</td>\n",
       "      <td>7.500000</td>\n",
       "      <td>15.290000</td>\n",
       "      <td>18.160000</td>\n",
       "      <td>21.100000</td>\n",
       "      <td>33.540000</td>\n",
       "    </tr>\n",
       "    <tr>\n",
       "      <th>Engine</th>\n",
       "      <td>7249.0</td>\n",
       "      <td>1615.675417</td>\n",
       "      <td>591.603602</td>\n",
       "      <td>72.000000</td>\n",
       "      <td>1198.000000</td>\n",
       "      <td>1493.000000</td>\n",
       "      <td>1968.000000</td>\n",
       "      <td>5998.000000</td>\n",
       "    </tr>\n",
       "    <tr>\n",
       "      <th>Power</th>\n",
       "      <td>7249.0</td>\n",
       "      <td>112.341877</td>\n",
       "      <td>52.850118</td>\n",
       "      <td>34.200000</td>\n",
       "      <td>75.000000</td>\n",
       "      <td>94.000000</td>\n",
       "      <td>138.030000</td>\n",
       "      <td>616.000000</td>\n",
       "    </tr>\n",
       "    <tr>\n",
       "      <th>Seats</th>\n",
       "      <td>7249.0</td>\n",
       "      <td>5.279487</td>\n",
       "      <td>0.806445</td>\n",
       "      <td>2.000000</td>\n",
       "      <td>5.000000</td>\n",
       "      <td>5.000000</td>\n",
       "      <td>5.000000</td>\n",
       "      <td>10.000000</td>\n",
       "    </tr>\n",
       "    <tr>\n",
       "      <th>New_price</th>\n",
       "      <td>7249.0</td>\n",
       "      <td>21.218825</td>\n",
       "      <td>24.325179</td>\n",
       "      <td>3.910000</td>\n",
       "      <td>7.920000</td>\n",
       "      <td>11.480000</td>\n",
       "      <td>22.370000</td>\n",
       "      <td>375.000000</td>\n",
       "    </tr>\n",
       "    <tr>\n",
       "      <th>kilometers_driven_log</th>\n",
       "      <td>7249.0</td>\n",
       "      <td>10.760273</td>\n",
       "      <td>0.713008</td>\n",
       "      <td>5.141664</td>\n",
       "      <td>10.434116</td>\n",
       "      <td>10.885866</td>\n",
       "      <td>11.198215</td>\n",
       "      <td>13.487006</td>\n",
       "    </tr>\n",
       "  </tbody>\n",
       "</table>\n",
       "</div>"
      ],
      "text/plain": [
       "                        count         mean         std          min  \\\n",
       "Year                   7249.0  2013.364740    3.254637  1996.000000   \n",
       "Mileage                7249.0    18.318437    4.148297     7.500000   \n",
       "Engine                 7249.0  1615.675417  591.603602    72.000000   \n",
       "Power                  7249.0   112.341877   52.850118    34.200000   \n",
       "Seats                  7249.0     5.279487    0.806445     2.000000   \n",
       "New_price              7249.0    21.218825   24.325179     3.910000   \n",
       "kilometers_driven_log  7249.0    10.760273    0.713008     5.141664   \n",
       "\n",
       "                               25%          50%          75%          max  \n",
       "Year                   2011.000000  2014.000000  2016.000000  2019.000000  \n",
       "Mileage                  15.290000    18.160000    21.100000    33.540000  \n",
       "Engine                 1198.000000  1493.000000  1968.000000  5998.000000  \n",
       "Power                    75.000000    94.000000   138.030000   616.000000  \n",
       "Seats                     5.000000     5.000000     5.000000    10.000000  \n",
       "New_price                 7.920000    11.480000    22.370000   375.000000  \n",
       "kilometers_driven_log    10.434116    10.885866    11.198215    13.487006  "
      ]
     },
     "execution_count": 6,
     "metadata": {},
     "output_type": "execute_result"
    }
   ],
   "source": [
    "X.describe().T"
   ]
  },
  {
   "cell_type": "code",
   "execution_count": 7,
   "metadata": {
    "id": "s1EkkQQH_Qtl"
   },
   "outputs": [],
   "source": [
    "\n",
    "# Import Statsmodels \n",
    "import statsmodels.api as sm\n",
    "\n",
    "\n"
   ]
  },
  {
   "cell_type": "code",
   "execution_count": 8,
   "metadata": {
    "colab": {
     "base_uri": "https://localhost:8080/"
    },
    "id": "vzCLGMzbVL3f",
    "outputId": "14115d90-f6ab-4b1e-ddfa-462ae5d08913"
   },
   "outputs": [],
   "source": [
    "# Step-2 Use pd.get_dummies(drop_first = True)\n",
    "X = pd.get_dummies(X, drop_first = True)\n",
    "#add constants to X\n",
    "X = sm.add_constant(X)"
   ]
  },
  {
   "cell_type": "markdown",
   "metadata": {
    "id": "RRpigRdw_Qtm"
   },
   "source": [
    "### **Check for Multicollinearity**\n",
    "\n",
    "We will use the Variance Inflation Factor (VIF), to check if there is multicollinearity in the data. We can further eliminate columns that are colinear before we split the data for modeling purposes.\n",
    "\n",
    "Features having a VIF score > 5 will be dropped / treated till all the features have a VIF score < 5"
   ]
  },
  {
   "cell_type": "code",
   "execution_count": 9,
   "metadata": {
    "id": "EpZBHm9__Qtm"
   },
   "outputs": [],
   "source": [
    "#create new variable to remove multicolinear variables\n",
    "X_col = X"
   ]
  },
  {
   "cell_type": "code",
   "execution_count": 10,
   "metadata": {
    "colab": {
     "base_uri": "https://localhost:8080/",
     "height": 1000
    },
    "id": "xSCGwMKL_Qtm",
    "outputId": "d2a41069-7c27-45df-c925-0695abd84bff",
    "scrolled": false
   },
   "outputs": [
    {
     "data": {
      "text/html": [
       "<div>\n",
       "<style scoped>\n",
       "    .dataframe tbody tr th:only-of-type {\n",
       "        vertical-align: middle;\n",
       "    }\n",
       "\n",
       "    .dataframe tbody tr th {\n",
       "        vertical-align: top;\n",
       "    }\n",
       "\n",
       "    .dataframe thead th {\n",
       "        text-align: right;\n",
       "    }\n",
       "</style>\n",
       "<table border=\"1\" class=\"dataframe\">\n",
       "  <thead>\n",
       "    <tr style=\"text-align: right;\">\n",
       "      <th></th>\n",
       "      <th>feature</th>\n",
       "      <th>VIF</th>\n",
       "    </tr>\n",
       "  </thead>\n",
       "  <tbody>\n",
       "    <tr>\n",
       "      <th>0</th>\n",
       "      <td>const</td>\n",
       "      <td>864005.442069</td>\n",
       "    </tr>\n",
       "    <tr>\n",
       "      <th>43</th>\n",
       "      <td>Brand_Maruti</td>\n",
       "      <td>1171.865320</td>\n",
       "    </tr>\n",
       "    <tr>\n",
       "      <th>36</th>\n",
       "      <td>Brand_Hyundai</td>\n",
       "      <td>1106.644797</td>\n",
       "    </tr>\n",
       "    <tr>\n",
       "      <th>35</th>\n",
       "      <td>Brand_Honda</td>\n",
       "      <td>676.415291</td>\n",
       "    </tr>\n",
       "    <tr>\n",
       "      <th>54</th>\n",
       "      <td>Brand_Toyota</td>\n",
       "      <td>478.314293</td>\n",
       "    </tr>\n",
       "    <tr>\n",
       "      <th>44</th>\n",
       "      <td>Brand_Mercedes-Benz</td>\n",
       "      <td>367.195872</td>\n",
       "    </tr>\n",
       "    <tr>\n",
       "      <th>55</th>\n",
       "      <td>Brand_Volkswagen</td>\n",
       "      <td>359.714120</td>\n",
       "    </tr>\n",
       "    <tr>\n",
       "      <th>33</th>\n",
       "      <td>Brand_Ford</td>\n",
       "      <td>338.578222</td>\n",
       "    </tr>\n",
       "    <tr>\n",
       "      <th>42</th>\n",
       "      <td>Brand_Mahindra</td>\n",
       "      <td>320.853973</td>\n",
       "    </tr>\n",
       "    <tr>\n",
       "      <th>27</th>\n",
       "      <td>Brand_BMW</td>\n",
       "      <td>304.213966</td>\n",
       "    </tr>\n",
       "    <tr>\n",
       "      <th>26</th>\n",
       "      <td>Brand_Audi</td>\n",
       "      <td>279.552003</td>\n",
       "    </tr>\n",
       "    <tr>\n",
       "      <th>53</th>\n",
       "      <td>Brand_Tata</td>\n",
       "      <td>224.364607</td>\n",
       "    </tr>\n",
       "    <tr>\n",
       "      <th>51</th>\n",
       "      <td>Brand_Skoda</td>\n",
       "      <td>198.873444</td>\n",
       "    </tr>\n",
       "    <tr>\n",
       "      <th>50</th>\n",
       "      <td>Brand_Renault</td>\n",
       "      <td>169.022216</td>\n",
       "    </tr>\n",
       "    <tr>\n",
       "      <th>29</th>\n",
       "      <td>Brand_Chevrolet</td>\n",
       "      <td>150.487780</td>\n",
       "    </tr>\n",
       "    <tr>\n",
       "      <th>47</th>\n",
       "      <td>Brand_Nissan</td>\n",
       "      <td>117.429568</td>\n",
       "    </tr>\n",
       "    <tr>\n",
       "      <th>41</th>\n",
       "      <td>Brand_Land</td>\n",
       "      <td>68.515218</td>\n",
       "    </tr>\n",
       "    <tr>\n",
       "      <th>39</th>\n",
       "      <td>Brand_Jaguar</td>\n",
       "      <td>49.640619</td>\n",
       "    </tr>\n",
       "    <tr>\n",
       "      <th>31</th>\n",
       "      <td>Brand_Fiat</td>\n",
       "      <td>39.216879</td>\n",
       "    </tr>\n",
       "    <tr>\n",
       "      <th>46</th>\n",
       "      <td>Brand_Mitsubishi</td>\n",
       "      <td>37.205186</td>\n",
       "    </tr>\n",
       "    <tr>\n",
       "      <th>45</th>\n",
       "      <td>Brand_Mini</td>\n",
       "      <td>32.333675</td>\n",
       "    </tr>\n",
       "    <tr>\n",
       "      <th>21</th>\n",
       "      <td>Fuel_Type_Petrol</td>\n",
       "      <td>32.295827</td>\n",
       "    </tr>\n",
       "    <tr>\n",
       "      <th>18</th>\n",
       "      <td>Fuel_Type_Diesel</td>\n",
       "      <td>31.158144</td>\n",
       "    </tr>\n",
       "    <tr>\n",
       "      <th>56</th>\n",
       "      <td>Brand_Volvo</td>\n",
       "      <td>29.322367</td>\n",
       "    </tr>\n",
       "    <tr>\n",
       "      <th>49</th>\n",
       "      <td>Brand_Porsche</td>\n",
       "      <td>20.734436</td>\n",
       "    </tr>\n",
       "    <tr>\n",
       "      <th>40</th>\n",
       "      <td>Brand_Jeep</td>\n",
       "      <td>20.224014</td>\n",
       "    </tr>\n",
       "    <tr>\n",
       "      <th>30</th>\n",
       "      <td>Brand_Datsun</td>\n",
       "      <td>18.200337</td>\n",
       "    </tr>\n",
       "    <tr>\n",
       "      <th>3</th>\n",
       "      <td>Engine</td>\n",
       "      <td>10.959256</td>\n",
       "    </tr>\n",
       "    <tr>\n",
       "      <th>4</th>\n",
       "      <td>Power</td>\n",
       "      <td>9.875831</td>\n",
       "    </tr>\n",
       "    <tr>\n",
       "      <th>6</th>\n",
       "      <td>New_price</td>\n",
       "      <td>8.491922</td>\n",
       "    </tr>\n",
       "    <tr>\n",
       "      <th>32</th>\n",
       "      <td>Brand_Force</td>\n",
       "      <td>4.041403</td>\n",
       "    </tr>\n",
       "    <tr>\n",
       "      <th>37</th>\n",
       "      <td>Brand_ISUZU</td>\n",
       "      <td>4.040818</td>\n",
       "    </tr>\n",
       "    <tr>\n",
       "      <th>16</th>\n",
       "      <td>Location_Mumbai</td>\n",
       "      <td>3.963368</td>\n",
       "    </tr>\n",
       "    <tr>\n",
       "      <th>2</th>\n",
       "      <td>Mileage</td>\n",
       "      <td>3.897549</td>\n",
       "    </tr>\n",
       "    <tr>\n",
       "      <th>12</th>\n",
       "      <td>Location_Hyderabad</td>\n",
       "      <td>3.715364</td>\n",
       "    </tr>\n",
       "    <tr>\n",
       "      <th>10</th>\n",
       "      <td>Location_Coimbatore</td>\n",
       "      <td>3.505855</td>\n",
       "    </tr>\n",
       "    <tr>\n",
       "      <th>14</th>\n",
       "      <td>Location_Kochi</td>\n",
       "      <td>3.501922</td>\n",
       "    </tr>\n",
       "    <tr>\n",
       "      <th>28</th>\n",
       "      <td>Brand_Bentley</td>\n",
       "      <td>3.484496</td>\n",
       "    </tr>\n",
       "    <tr>\n",
       "      <th>17</th>\n",
       "      <td>Location_Pune</td>\n",
       "      <td>3.441237</td>\n",
       "    </tr>\n",
       "    <tr>\n",
       "      <th>15</th>\n",
       "      <td>Location_Kolkata</td>\n",
       "      <td>3.134064</td>\n",
       "    </tr>\n",
       "    <tr>\n",
       "      <th>11</th>\n",
       "      <td>Location_Delhi</td>\n",
       "      <td>3.110878</td>\n",
       "    </tr>\n",
       "    <tr>\n",
       "      <th>38</th>\n",
       "      <td>Brand_Isuzu</td>\n",
       "      <td>3.032230</td>\n",
       "    </tr>\n",
       "    <tr>\n",
       "      <th>9</th>\n",
       "      <td>Location_Chennai</td>\n",
       "      <td>2.950219</td>\n",
       "    </tr>\n",
       "    <tr>\n",
       "      <th>13</th>\n",
       "      <td>Location_Jaipur</td>\n",
       "      <td>2.664266</td>\n",
       "    </tr>\n",
       "    <tr>\n",
       "      <th>5</th>\n",
       "      <td>Seats</td>\n",
       "      <td>2.563747</td>\n",
       "    </tr>\n",
       "    <tr>\n",
       "      <th>8</th>\n",
       "      <td>Location_Bangalore</td>\n",
       "      <td>2.483789</td>\n",
       "    </tr>\n",
       "    <tr>\n",
       "      <th>22</th>\n",
       "      <td>Transmission_Manual</td>\n",
       "      <td>2.263819</td>\n",
       "    </tr>\n",
       "    <tr>\n",
       "      <th>1</th>\n",
       "      <td>Year</td>\n",
       "      <td>2.217297</td>\n",
       "    </tr>\n",
       "    <tr>\n",
       "      <th>34</th>\n",
       "      <td>Brand_Hindustan</td>\n",
       "      <td>2.017714</td>\n",
       "    </tr>\n",
       "    <tr>\n",
       "      <th>52</th>\n",
       "      <td>Brand_Smart</td>\n",
       "      <td>2.017406</td>\n",
       "    </tr>\n",
       "    <tr>\n",
       "      <th>48</th>\n",
       "      <td>Brand_OpelCorsa</td>\n",
       "      <td>2.013455</td>\n",
       "    </tr>\n",
       "    <tr>\n",
       "      <th>7</th>\n",
       "      <td>kilometers_driven_log</td>\n",
       "      <td>1.785028</td>\n",
       "    </tr>\n",
       "    <tr>\n",
       "      <th>20</th>\n",
       "      <td>Fuel_Type_LPG</td>\n",
       "      <td>1.215655</td>\n",
       "    </tr>\n",
       "    <tr>\n",
       "      <th>24</th>\n",
       "      <td>Owner_Type_Second</td>\n",
       "      <td>1.178034</td>\n",
       "    </tr>\n",
       "    <tr>\n",
       "      <th>25</th>\n",
       "      <td>Owner_Type_Third</td>\n",
       "      <td>1.114032</td>\n",
       "    </tr>\n",
       "    <tr>\n",
       "      <th>19</th>\n",
       "      <td>Fuel_Type_Electric</td>\n",
       "      <td>1.049932</td>\n",
       "    </tr>\n",
       "    <tr>\n",
       "      <th>23</th>\n",
       "      <td>Owner_Type_Fourth &amp; Above</td>\n",
       "      <td>1.017052</td>\n",
       "    </tr>\n",
       "  </tbody>\n",
       "</table>\n",
       "</div>"
      ],
      "text/plain": [
       "                      feature            VIF\n",
       "0                       const  864005.442069\n",
       "43               Brand_Maruti    1171.865320\n",
       "36              Brand_Hyundai    1106.644797\n",
       "35                Brand_Honda     676.415291\n",
       "54               Brand_Toyota     478.314293\n",
       "44        Brand_Mercedes-Benz     367.195872\n",
       "55           Brand_Volkswagen     359.714120\n",
       "33                 Brand_Ford     338.578222\n",
       "42             Brand_Mahindra     320.853973\n",
       "27                  Brand_BMW     304.213966\n",
       "26                 Brand_Audi     279.552003\n",
       "53                 Brand_Tata     224.364607\n",
       "51                Brand_Skoda     198.873444\n",
       "50              Brand_Renault     169.022216\n",
       "29            Brand_Chevrolet     150.487780\n",
       "47               Brand_Nissan     117.429568\n",
       "41                 Brand_Land      68.515218\n",
       "39               Brand_Jaguar      49.640619\n",
       "31                 Brand_Fiat      39.216879\n",
       "46           Brand_Mitsubishi      37.205186\n",
       "45                 Brand_Mini      32.333675\n",
       "21           Fuel_Type_Petrol      32.295827\n",
       "18           Fuel_Type_Diesel      31.158144\n",
       "56                Brand_Volvo      29.322367\n",
       "49              Brand_Porsche      20.734436\n",
       "40                 Brand_Jeep      20.224014\n",
       "30               Brand_Datsun      18.200337\n",
       "3                      Engine      10.959256\n",
       "4                       Power       9.875831\n",
       "6                   New_price       8.491922\n",
       "32                Brand_Force       4.041403\n",
       "37                Brand_ISUZU       4.040818\n",
       "16            Location_Mumbai       3.963368\n",
       "2                     Mileage       3.897549\n",
       "12         Location_Hyderabad       3.715364\n",
       "10        Location_Coimbatore       3.505855\n",
       "14             Location_Kochi       3.501922\n",
       "28              Brand_Bentley       3.484496\n",
       "17              Location_Pune       3.441237\n",
       "15           Location_Kolkata       3.134064\n",
       "11             Location_Delhi       3.110878\n",
       "38                Brand_Isuzu       3.032230\n",
       "9            Location_Chennai       2.950219\n",
       "13            Location_Jaipur       2.664266\n",
       "5                       Seats       2.563747\n",
       "8          Location_Bangalore       2.483789\n",
       "22        Transmission_Manual       2.263819\n",
       "1                        Year       2.217297\n",
       "34            Brand_Hindustan       2.017714\n",
       "52                Brand_Smart       2.017406\n",
       "48            Brand_OpelCorsa       2.013455\n",
       "7       kilometers_driven_log       1.785028\n",
       "20              Fuel_Type_LPG       1.215655\n",
       "24          Owner_Type_Second       1.178034\n",
       "25           Owner_Type_Third       1.114032\n",
       "19         Fuel_Type_Electric       1.049932\n",
       "23  Owner_Type_Fourth & Above       1.017052"
      ]
     },
     "execution_count": 10,
     "metadata": {},
     "output_type": "execute_result"
    }
   ],
   "source": [
    "from statsmodels.stats.outliers_influence import variance_inflation_factor\n",
    "\n",
    "def checking_vif(train):\n",
    "    vif = pd.DataFrame()\n",
    "    vif[\"feature\"] = train.columns\n",
    "\n",
    "    # Calculating VIF for each feature\n",
    "    vif[\"VIF\"] = [\n",
    "        variance_inflation_factor(train.values, i) for i in range(len(train.columns))\n",
    "    ]\n",
    "    return vif.sort_values(by='VIF',ascending = False)\n",
    "\n",
    "\n",
    "checking_vif(X_col)\n",
    "\n"
   ]
  },
  {
   "cell_type": "markdown",
   "metadata": {
    "id": "IOTjDQi8_Qtm"
   },
   "source": [
    "We have more than 50 variables, with 'Brand_Maruti' having the highest VIF score. Let's start the process of eliminating the highest VIF column and then running the function again to check for the updatee VIF scores."
   ]
  },
  {
   "cell_type": "code",
   "execution_count": 11,
   "metadata": {
    "colab": {
     "base_uri": "https://localhost:8080/"
    },
    "id": "WKykFFFA_Qtm",
    "outputId": "e53ebe68-23b7-493a-f214-c29af62ec3ec",
    "scrolled": true
   },
   "outputs": [
    {
     "name": "stdout",
     "output_type": "stream",
     "text": [
      "                      feature            VIF\n",
      "0                       const  858622.053918\n",
      "21           Fuel_Type_Petrol      32.294320\n",
      "18           Fuel_Type_Diesel      31.157081\n",
      "3                      Engine      10.957605\n",
      "4                       Power       9.865058\n",
      "6                   New_price       8.491853\n",
      "16            Location_Mumbai       3.963368\n",
      "2                     Mileage       3.890703\n",
      "12         Location_Hyderabad       3.715357\n",
      "10        Location_Coimbatore       3.505804\n",
      "14             Location_Kochi       3.501858\n",
      "17              Location_Pune       3.441166\n",
      "43        Brand_Mercedes-Benz       3.309937\n",
      "15           Location_Kolkata       3.134063\n",
      "11             Location_Delhi       3.110871\n",
      "27                  Brand_BMW       3.082426\n",
      "9            Location_Chennai       2.949365\n",
      "26                 Brand_Audi       2.801954\n",
      "13            Location_Jaipur       2.664216\n",
      "5                       Seats       2.562070\n",
      "41                 Brand_Land       2.533784\n",
      "8          Location_Bangalore       2.483784\n",
      "22        Transmission_Manual       2.263819\n",
      "1                        Year       2.216975\n",
      "53               Brand_Toyota       2.153982\n",
      "42             Brand_Mahindra       1.801007\n",
      "7       kilometers_driven_log       1.784271\n",
      "36              Brand_Hyundai       1.728028\n",
      "48              Brand_Porsche       1.555486\n",
      "35                Brand_Honda       1.536666\n",
      "28              Brand_Bentley       1.446023\n",
      "39               Brand_Jaguar       1.406983\n",
      "54           Brand_Volkswagen       1.332552\n",
      "33                 Brand_Ford       1.326401\n",
      "50                Brand_Skoda       1.323663\n",
      "20              Fuel_Type_LPG       1.215641\n",
      "24          Owner_Type_Second       1.177998\n",
      "52                 Brand_Tata       1.170714\n",
      "49              Brand_Renault       1.137099\n",
      "55                Brand_Volvo       1.127623\n",
      "45           Brand_Mitsubishi       1.123826\n",
      "29            Brand_Chevrolet       1.119882\n",
      "44                 Brand_Mini       1.119391\n",
      "25           Owner_Type_Third       1.107805\n",
      "46               Brand_Nissan       1.104737\n",
      "40                 Brand_Jeep       1.066282\n",
      "19         Fuel_Type_Electric       1.049926\n",
      "31                 Brand_Fiat       1.040534\n",
      "37                Brand_ISUZU       1.020339\n",
      "30               Brand_Datsun       1.019718\n",
      "23  Owner_Type_Fourth & Above       1.017046\n",
      "51                Brand_Smart       1.012803\n",
      "38                Brand_Isuzu       1.012163\n",
      "34            Brand_Hindustan       1.010502\n",
      "32                Brand_Force       1.009882\n",
      "47            Brand_OpelCorsa       1.003727\n"
     ]
    }
   ],
   "source": [
    "#drop Brand_Maruti, and then rerun\n",
    "X_col = X_col.drop('Brand_Maruti', axis = 1)\n",
    "\n",
    "print(checking_vif(X_col))"
   ]
  },
  {
   "cell_type": "markdown",
   "metadata": {
    "id": "tkmfc1V0_Qtn"
   },
   "source": [
    "Let's drop Fuel_Type_Petrol, since it has the highest VIF score above 5 and see how that adjusts the data."
   ]
  },
  {
   "cell_type": "code",
   "execution_count": 12,
   "metadata": {
    "colab": {
     "base_uri": "https://localhost:8080/"
    },
    "id": "EhZ5I9xL_Qtn",
    "outputId": "a0684e03-cf65-41c3-b931-b4b607f65501",
    "scrolled": true
   },
   "outputs": [
    {
     "name": "stdout",
     "output_type": "stream",
     "text": [
      "                      feature            VIF\n",
      "0                       const  858324.269285\n",
      "3                      Engine      10.806339\n",
      "4                       Power       9.841764\n",
      "6                   New_price       8.491842\n",
      "16            Location_Mumbai       3.961293\n",
      "12         Location_Hyderabad       3.714755\n",
      "2                     Mileage       3.700159\n",
      "10        Location_Coimbatore       3.504817\n",
      "14             Location_Kochi       3.501827\n",
      "17              Location_Pune       3.440980\n",
      "42        Brand_Mercedes-Benz       3.308882\n",
      "15           Location_Kolkata       3.133238\n",
      "11             Location_Delhi       3.110392\n",
      "26                  Brand_BMW       3.082335\n",
      "9            Location_Chennai       2.948726\n",
      "25                 Brand_Audi       2.800278\n",
      "18           Fuel_Type_Diesel       2.720657\n",
      "13            Location_Jaipur       2.662805\n",
      "5                       Seats       2.558152\n",
      "40                 Brand_Land       2.532729\n",
      "8          Location_Bangalore       2.483767\n",
      "21        Transmission_Manual       2.263697\n",
      "1                        Year       2.216964\n",
      "52               Brand_Toyota       2.151830\n",
      "41             Brand_Mahindra       1.800912\n",
      "7       kilometers_driven_log       1.776125\n",
      "35              Brand_Hyundai       1.720483\n",
      "47              Brand_Porsche       1.555441\n",
      "34                Brand_Honda       1.522793\n",
      "27              Brand_Bentley       1.445697\n",
      "38               Brand_Jaguar       1.406547\n",
      "53           Brand_Volkswagen       1.331896\n",
      "32                 Brand_Ford       1.325580\n",
      "49                Brand_Skoda       1.323172\n",
      "23          Owner_Type_Second       1.177909\n",
      "51                 Brand_Tata       1.170395\n",
      "48              Brand_Renault       1.136305\n",
      "54                Brand_Volvo       1.127243\n",
      "44           Brand_Mitsubishi       1.123820\n",
      "43                 Brand_Mini       1.119367\n",
      "28            Brand_Chevrolet       1.119343\n",
      "24           Owner_Type_Third       1.107781\n",
      "45               Brand_Nissan       1.103938\n",
      "39                 Brand_Jeep       1.065961\n",
      "30                 Brand_Fiat       1.040534\n",
      "36                Brand_ISUZU       1.020288\n",
      "29               Brand_Datsun       1.019046\n",
      "22  Owner_Type_Fourth & Above       1.017043\n",
      "50                Brand_Smart       1.012722\n",
      "19         Fuel_Type_Electric       1.012322\n",
      "37                Brand_Isuzu       1.012162\n",
      "33            Brand_Hindustan       1.010488\n",
      "20              Fuel_Type_LPG       1.009994\n",
      "31                Brand_Force       1.009880\n",
      "46            Brand_OpelCorsa       1.003727\n"
     ]
    }
   ],
   "source": [
    "\n",
    "#drop Brand_Maruti, and then rerun\n",
    "X_col = X_col.drop('Fuel_Type_Petrol', axis = 1)\n",
    "\n",
    "print(checking_vif(X_col))"
   ]
  },
  {
   "cell_type": "code",
   "execution_count": 13,
   "metadata": {
    "colab": {
     "base_uri": "https://localhost:8080/"
    },
    "id": "SKA5eK2e_Qtn",
    "outputId": "fe419c6c-b156-4c22-cbb7-3ec7b9f43781",
    "scrolled": true
   },
   "outputs": [
    {
     "name": "stdout",
     "output_type": "stream",
     "text": [
      "                      feature            VIF\n",
      "0                       const  852561.403222\n",
      "5                   New_price       8.446555\n",
      "3                       Power       4.765931\n",
      "15            Location_Mumbai       3.961112\n",
      "11         Location_Hyderabad       3.714217\n",
      "9         Location_Coimbatore       3.504732\n",
      "13             Location_Kochi       3.501551\n",
      "16              Location_Pune       3.440690\n",
      "2                     Mileage       3.336779\n",
      "41        Brand_Mercedes-Benz       3.304356\n",
      "14           Location_Kolkata       3.133212\n",
      "10             Location_Delhi       3.110390\n",
      "25                  Brand_BMW       3.042729\n",
      "8            Location_Chennai       2.948444\n",
      "24                 Brand_Audi       2.767441\n",
      "12            Location_Jaipur       2.662765\n",
      "39                 Brand_Land       2.527176\n",
      "7          Location_Bangalore       2.483722\n",
      "4                       Seats       2.403013\n",
      "17           Fuel_Type_Diesel       2.299107\n",
      "20        Transmission_Manual       2.263687\n",
      "1                        Year       2.203235\n",
      "51               Brand_Toyota       1.934064\n",
      "6       kilometers_driven_log       1.775982\n",
      "40             Brand_Mahindra       1.770280\n",
      "34              Brand_Hyundai       1.719424\n",
      "46              Brand_Porsche       1.555192\n",
      "33                Brand_Honda       1.516305\n",
      "26              Brand_Bentley       1.445520\n",
      "37               Brand_Jaguar       1.400343\n",
      "52           Brand_Volkswagen       1.331252\n",
      "48                Brand_Skoda       1.320800\n",
      "31                 Brand_Ford       1.313478\n",
      "22          Owner_Type_Second       1.177875\n",
      "50                 Brand_Tata       1.167972\n",
      "47              Brand_Renault       1.136180\n",
      "53                Brand_Volvo       1.120675\n",
      "42                 Brand_Mini       1.119232\n",
      "27            Brand_Chevrolet       1.118028\n",
      "23           Owner_Type_Third       1.107770\n",
      "43           Brand_Mitsubishi       1.105390\n",
      "44               Brand_Nissan       1.098423\n",
      "38                 Brand_Jeep       1.062306\n",
      "29                 Brand_Fiat       1.039311\n",
      "28               Brand_Datsun       1.018926\n",
      "35                Brand_ISUZU       1.016823\n",
      "21  Owner_Type_Fourth & Above       1.016715\n",
      "49                Brand_Smart       1.012560\n",
      "18         Fuel_Type_Electric       1.010755\n",
      "32            Brand_Hindustan       1.010397\n",
      "19              Fuel_Type_LPG       1.009958\n",
      "30                Brand_Force       1.009773\n",
      "36                Brand_Isuzu       1.009303\n",
      "45            Brand_OpelCorsa       1.003724\n"
     ]
    }
   ],
   "source": [
    "##drop Brand_Maruti, and then rerun\n",
    "X_col = X_col.drop('Engine', axis = 1)\n",
    "\n",
    "print(checking_vif(X_col))"
   ]
  },
  {
   "cell_type": "code",
   "execution_count": 14,
   "metadata": {
    "colab": {
     "base_uri": "https://localhost:8080/"
    },
    "id": "x5QT9kM4_Qtn",
    "outputId": "510ef6b2-01a2-423e-e8f6-14c03bb5a889",
    "scrolled": true
   },
   "outputs": [
    {
     "name": "stdout",
     "output_type": "stream",
     "text": [
      "                      feature            VIF\n",
      "0                       const  851313.297225\n",
      "3                       Power       4.059524\n",
      "14            Location_Mumbai       3.961107\n",
      "10         Location_Hyderabad       3.714170\n",
      "8         Location_Coimbatore       3.503165\n",
      "12             Location_Kochi       3.500566\n",
      "15              Location_Pune       3.440669\n",
      "2                     Mileage       3.334755\n",
      "13           Location_Kolkata       3.133190\n",
      "9              Location_Delhi       3.110378\n",
      "7            Location_Chennai       2.948444\n",
      "11            Location_Jaipur       2.662615\n",
      "6          Location_Bangalore       2.483383\n",
      "4                       Seats       2.376239\n",
      "16           Fuel_Type_Diesel       2.295888\n",
      "40        Brand_Mercedes-Benz       2.284316\n",
      "19        Transmission_Manual       2.263511\n",
      "24                  Brand_BMW       2.210777\n",
      "1                        Year       2.199768\n",
      "23                 Brand_Audi       1.965199\n",
      "50               Brand_Toyota       1.895720\n",
      "5       kilometers_driven_log       1.775951\n",
      "39             Brand_Mahindra       1.764125\n",
      "33              Brand_Hyundai       1.714253\n",
      "32                Brand_Honda       1.516298\n",
      "51           Brand_Volkswagen       1.331026\n",
      "30                 Brand_Ford       1.310460\n",
      "47                Brand_Skoda       1.275450\n",
      "38                 Brand_Land       1.264123\n",
      "36               Brand_Jaguar       1.260758\n",
      "45              Brand_Porsche       1.204991\n",
      "21          Owner_Type_Second       1.177839\n",
      "49                 Brand_Tata       1.167931\n",
      "46              Brand_Renault       1.133254\n",
      "26            Brand_Chevrolet       1.117952\n",
      "22           Owner_Type_Third       1.107740\n",
      "43               Brand_Nissan       1.098061\n",
      "52                Brand_Volvo       1.097983\n",
      "42           Brand_Mitsubishi       1.093507\n",
      "25              Brand_Bentley       1.092098\n",
      "41                 Brand_Mini       1.081980\n",
      "37                 Brand_Jeep       1.062107\n",
      "28                 Brand_Fiat       1.039244\n",
      "27               Brand_Datsun       1.018921\n",
      "20  Owner_Type_Fourth & Above       1.016691\n",
      "34                Brand_ISUZU       1.016523\n",
      "48                Brand_Smart       1.012378\n",
      "31            Brand_Hindustan       1.010237\n",
      "17         Fuel_Type_Electric       1.010159\n",
      "18              Fuel_Type_LPG       1.009956\n",
      "29                Brand_Force       1.009763\n",
      "35                Brand_Isuzu       1.008925\n",
      "44            Brand_OpelCorsa       1.003697\n"
     ]
    }
   ],
   "source": [
    "##drop Brand_Maruti, and then rerun\n",
    "X_col = X_col.drop('New_price', axis = 1)\n",
    "\n",
    "print(checking_vif(X_col))"
   ]
  },
  {
   "cell_type": "markdown",
   "metadata": {
    "id": "tGNARCWN_Qto"
   },
   "source": [
    "**Multicolinearity analysis complete - all features have VIF score <5**\n",
    "\n",
    "- Now that we have elminated features with significant multicolinearity, we can proceed to create our datasets for testing and training."
   ]
  },
  {
   "cell_type": "code",
   "execution_count": 15,
   "metadata": {
    "colab": {
     "base_uri": "https://localhost:8080/"
    },
    "id": "GAE8nig4_Qto",
    "outputId": "f6409fb0-cb2d-4903-b7a2-975a8f696375"
   },
   "outputs": [
    {
     "data": {
      "text/plain": [
       "Price_log    0\n",
       "Price        0\n",
       "dtype: int64"
      ]
     },
     "execution_count": 15,
     "metadata": {},
     "output_type": "execute_result"
    }
   ],
   "source": [
    "y.isna().sum()"
   ]
  },
  {
   "cell_type": "code",
   "execution_count": 16,
   "metadata": {
    "colab": {
     "base_uri": "https://localhost:8080/"
    },
    "id": "JqVHLEHVRRKK",
    "outputId": "194e7de7-eb29-432c-b75f-1e46395398af"
   },
   "outputs": [
    {
     "name": "stdout",
     "output_type": "stream",
     "text": [
      "(5074, 53) (2175, 53)\n"
     ]
    }
   ],
   "source": [
    "# Step-3 Splitting data into training and test set:\n",
    "\n",
    "# Import library for preparing data\n",
    "from sklearn.model_selection import train_test_split\n",
    "\n",
    "X_train, X_test, y_train, y_test = train_test_split(X_col, y, test_size = 0.30, random_state = 1)\n",
    "\n",
    "\n",
    "print(X_train.shape, X_test.shape)"
   ]
  },
  {
   "cell_type": "code",
   "execution_count": 17,
   "metadata": {
    "id": "glAH2vMFtOS8"
   },
   "outputs": [],
   "source": [
    "# Let us write a function for calculating r2_score and RMSE on train and test data\n",
    "# This function takes model as an input on which we have trained particular algorithm\n",
    "# The categorical column as the input and returns the boxplots and histograms for the variable\n",
    "\n",
    "import numpy as np\n",
    "from sklearn import metrics\n",
    "\n",
    "def get_model_score(model, flag = True):\n",
    "    '''\n",
    "    model : regressor to predict values of X\n",
    "\n",
    "    '''\n",
    "    # Defining an empty list to store train and test results\n",
    "    score_list = [] \n",
    "    \n",
    "    pred_train = model.predict(X_train)\n",
    "    \n",
    "    pred_train_ = np.exp(pred_train)\n",
    "    \n",
    "    pred_test = model.predict(X_test)\n",
    "\n",
    "    \n",
    "    pred_test_ = np.exp(pred_test)\n",
    "    \n",
    "    train_r2 = metrics.r2_score(y_train['Price'], pred_train_)\n",
    "    \n",
    "    test_r2 = metrics.r2_score(y_test['Price'], pred_test_)\n",
    "    \n",
    "    train_rmse = metrics.mean_squared_error(y_train['Price'], pred_train_, squared = False)\n",
    "    \n",
    "    test_rmse = metrics.mean_squared_error(y_test['Price'], pred_test_, squared = False)\n",
    "    \n",
    "    # Adding all scores in the list\n",
    "    score_list.extend((train_r2, test_r2, train_rmse, test_rmse))\n",
    "    \n",
    "    # If the flag is set to True then only the following print statements will be dispayed, the default value is True\n",
    "    if flag == True: \n",
    "        \n",
    "        print(\"R-square on training set : \", metrics.r2_score(y_train['Price'], pred_train_))\n",
    "        \n",
    "        print(\"R-square on test set : \", metrics.r2_score(y_test['Price'], pred_test_))\n",
    "        \n",
    "        print(\"RMSE on training set : \", np.sqrt(metrics.mean_squared_error(y_train['Price'], pred_train_)))\n",
    "        \n",
    "        print(\"RMSE on test set : \", np.sqrt(metrics.mean_squared_error(y_test['Price'], pred_test_)))\n",
    "    \n",
    "    # Returning the list with train and test scores\n",
    "    return score_list"
   ]
  },
  {
   "cell_type": "markdown",
   "metadata": {
    "id": "o8qcI692VL3g"
   },
   "source": [
    "<hr>"
   ]
  },
  {
   "cell_type": "markdown",
   "metadata": {
    "id": "gaj2riZFVL3g"
   },
   "source": [
    "For Regression Problems, some of the algorithms used are :<br>\n",
    "\n",
    "**1) Linear Regression** <br>\n",
    "**2) Ridge / Lasso Regression** <br>\n",
    "**3) Decision Trees** <br>\n",
    "**4) Random Forest** <br>"
   ]
  },
  {
   "cell_type": "markdown",
   "metadata": {
    "id": "xwL33RaztOS9"
   },
   "source": [
    "### **Fitting a linear model**"
   ]
  },
  {
   "cell_type": "markdown",
   "metadata": {
    "id": "kXj-84YCVL3h"
   },
   "source": [
    "Linear Regression can be implemented using: <br>\n",
    "\n",
    "**1) Sklearn:** https://scikit-learn.org/stable/modules/generated/sklearn.linear_model.LinearRegression.html <br>\n",
    "**2) Statsmodels:** https://www.statsmodels.org/stable/regression.html"
   ]
  },
  {
   "cell_type": "markdown",
   "metadata": {
    "id": "epawlPP8_Qtq"
   },
   "source": [
    "Let's first model the data using the LinearRegression function found in the sklearn package."
   ]
  },
  {
   "cell_type": "code",
   "execution_count": 18,
   "metadata": {
    "id": "tABeKbbNVL3h"
   },
   "outputs": [],
   "source": [
    "# Import Linear Regression from sklearn\n",
    "from sklearn.linear_model import LinearRegression"
   ]
  },
  {
   "cell_type": "code",
   "execution_count": 19,
   "metadata": {
    "id": "FT3gcKDetOS9"
   },
   "outputs": [],
   "source": [
    "# Create a linear regression model\n",
    "lr = LinearRegression()"
   ]
  },
  {
   "cell_type": "code",
   "execution_count": 20,
   "metadata": {
    "colab": {
     "base_uri": "https://localhost:8080/"
    },
    "id": "rMmX-FJatOS9",
    "outputId": "24d8fa4e-75e9-4488-8c48-99dc61555c2f"
   },
   "outputs": [
    {
     "data": {
      "text/plain": [
       "LinearRegression()"
      ]
     },
     "execution_count": 20,
     "metadata": {},
     "output_type": "execute_result"
    }
   ],
   "source": [
    "# Fit linear regression model\n",
    "lr.fit(X_train, y_train['Price_log']) "
   ]
  },
  {
   "cell_type": "code",
   "execution_count": 21,
   "metadata": {
    "colab": {
     "base_uri": "https://localhost:8080/"
    },
    "id": "ABshmMPAtOS9",
    "outputId": "5e98608c-c24d-4560-fe8b-723a0442b4f6"
   },
   "outputs": [
    {
     "name": "stdout",
     "output_type": "stream",
     "text": [
      "R-square on training set :  0.8719205541656581\n",
      "R-square on test set :  0.8551970455891145\n",
      "RMSE on training set :  3.8811187240917393\n",
      "RMSE on test set :  3.9206798561514185\n"
     ]
    }
   ],
   "source": [
    "# Get score of the model\n",
    "LR_score = get_model_score(lr)\n",
    "\n"
   ]
  },
  {
   "cell_type": "markdown",
   "metadata": {
    "id": "NgNkZ0HctOS9"
   },
   "source": [
    "**Observations from results: _____**\n",
    "- This model has very high predictive power, given that both the R-square values on the training and testing set are between .85 and.9, indicating that the input parameters can explain nearly 90% of the given price.  \n",
    "- The model is well fit, since the difference between R-square values is only .016 between the training set and the test set, thus the model is neither over and underfit, having avoided bias.\n",
    "- The RMSE values are similar and both less than 4, again indicating a properly fit model for the test dataset."
   ]
  },
  {
   "cell_type": "markdown",
   "metadata": {
    "id": "NyKxdVyhVL3i"
   },
   "source": [
    "**Let's now build an Ordinary Least Squares (OLS) Linear Regression model using the statsmodels package.**"
   ]
  },
  {
   "cell_type": "code",
   "execution_count": 22,
   "metadata": {
    "colab": {
     "base_uri": "https://localhost:8080/"
    },
    "id": "vHyqhuVMIrdC",
    "outputId": "2f647b20-4ec7-4cf6-c56d-a793126f999c",
    "scrolled": true
   },
   "outputs": [
    {
     "name": "stdout",
     "output_type": "stream",
     "text": [
      "                            OLS Regression Results                            \n",
      "==============================================================================\n",
      "Dep. Variable:              Price_log   R-squared:                       0.921\n",
      "Model:                            OLS   Adj. R-squared:                  0.920\n",
      "Method:                 Least Squares   F-statistic:                     1152.\n",
      "Date:                Sat, 17 Dec 2022   Prob (F-statistic):               0.00\n",
      "Time:                        07:57:09   Log-Likelihood:                -51.255\n",
      "No. Observations:                5074   AIC:                             206.5\n",
      "Df Residuals:                    5022   BIC:                             546.2\n",
      "Df Model:                          51                                         \n",
      "Covariance Type:            nonrobust                                         \n",
      "=============================================================================================\n",
      "                                coef    std err          t      P>|t|      [0.025      0.975]\n",
      "---------------------------------------------------------------------------------------------\n",
      "const                      -239.6505      3.203    -74.812      0.000    -245.930    -233.371\n",
      "Year                          0.1198      0.002     75.721      0.000       0.117       0.123\n",
      "Mileage                      -0.0217      0.002    -14.193      0.000      -0.025      -0.019\n",
      "Power                         0.0062      0.000     47.943      0.000       0.006       0.006\n",
      "Seats                         0.0616      0.007      9.308      0.000       0.049       0.075\n",
      "kilometers_driven_log        -0.0475      0.006     -7.354      0.000      -0.060      -0.035\n",
      "Location_Bangalore            0.1213      0.023      5.337      0.000       0.077       0.166\n",
      "Location_Chennai              0.0299      0.021      1.394      0.163      -0.012       0.072\n",
      "Location_Coimbatore           0.0749      0.021      3.606      0.000       0.034       0.116\n",
      "Location_Delhi               -0.0544      0.021     -2.583      0.010      -0.096      -0.013\n",
      "Location_Hyderabad            0.0815      0.020      4.023      0.000       0.042       0.121\n",
      "Location_Jaipur              -0.0705      0.022     -3.216      0.001      -0.113      -0.028\n",
      "Location_Kochi               -0.0232      0.021     -1.117      0.264      -0.064       0.018\n",
      "Location_Kolkata             -0.2078      0.021     -9.822      0.000      -0.249      -0.166\n",
      "Location_Mumbai              -0.0438      0.020     -2.157      0.031      -0.084      -0.004\n",
      "Location_Pune                -0.0565      0.021     -2.730      0.006      -0.097      -0.016\n",
      "Fuel_Type_Diesel              0.3070      0.010     29.473      0.000       0.287       0.327\n",
      "Fuel_Type_Electric            1.1075      0.175      6.327      0.000       0.764       1.451\n",
      "Fuel_Type_LPG                -0.0257      0.087     -0.295      0.768      -0.197       0.145\n",
      "Transmission_Manual          -0.1001      0.012     -8.612      0.000      -0.123      -0.077\n",
      "Owner_Type_Fourth & Above    -0.0165      0.083     -0.200      0.842      -0.179       0.146\n",
      "Owner_Type_Second            -0.0563      0.010     -5.490      0.000      -0.076      -0.036\n",
      "Owner_Type_Third             -0.1126      0.026     -4.267      0.000      -0.164      -0.061\n",
      "Brand_Audi                    0.5917      0.025     23.806      0.000       0.543       0.640\n",
      "Brand_BMW                     0.5837      0.025     23.179      0.000       0.534       0.633\n",
      "Brand_Bentley                 0.0219      0.185      0.118      0.906      -0.340       0.384\n",
      "Brand_Chevrolet              -0.3622      0.025    -14.473      0.000      -0.411      -0.313\n",
      "Brand_Datsun                 -0.4647      0.072     -6.481      0.000      -0.605      -0.324\n",
      "Brand_Fiat                   -0.3167      0.049     -6.422      0.000      -0.413      -0.220\n",
      "Brand_Force                   0.1263      0.175      0.723      0.469      -0.216       0.468\n",
      "Brand_Ford                   -0.0436      0.018     -2.365      0.018      -0.080      -0.007\n",
      "Brand_Hindustan               2.7176      0.248     10.979      0.000       2.232       3.203\n",
      "Brand_Honda                   0.0420      0.014      3.005      0.003       0.015       0.069\n",
      "Brand_Hyundai                 0.0025      0.012      0.218      0.827      -0.020       0.025\n",
      "Brand_ISUZU                  -0.3113      0.247     -1.260      0.208      -0.796       0.173\n",
      "Brand_Isuzu                   0.0586      0.247      0.237      0.812      -0.425       0.542\n",
      "Brand_Jaguar                  0.5668      0.049     11.652      0.000       0.471       0.662\n",
      "Brand_Jeep                    0.1918      0.073      2.624      0.009       0.048       0.335\n",
      "Brand_Land                    0.9261      0.040     23.041      0.000       0.847       1.005\n",
      "Brand_Mahindra               -0.1442      0.022     -6.533      0.000      -0.187      -0.101\n",
      "Brand_Mercedes-Benz           0.6660      0.024     28.296      0.000       0.620       0.712\n",
      "Brand_Mini                    1.0779      0.053     20.525      0.000       0.975       1.181\n",
      "Brand_Mitsubishi              0.2201      0.048      4.565      0.000       0.126       0.315\n",
      "Brand_Nissan                 -0.0345      0.029     -1.196      0.232      -0.091       0.022\n",
      "Brand_OpelCorsa             6.84e-16   5.85e-17     11.689      0.000    5.69e-16    7.99e-16\n",
      "Brand_Porsche                 0.1823      0.078      2.332      0.020       0.029       0.336\n",
      "Brand_Renault                -0.0434      0.025     -1.762      0.078      -0.092       0.005\n",
      "Brand_Skoda                   0.1011      0.024      4.248      0.000       0.054       0.148\n",
      "Brand_Smart                   0.4808      0.248      1.940      0.052      -0.005       0.967\n",
      "Brand_Tata                   -0.4981      0.022    -23.132      0.000      -0.540      -0.456\n",
      "Brand_Toyota                  0.2385      0.019     12.709      0.000       0.202       0.275\n",
      "Brand_Volkswagen             -0.0211      0.018     -1.171      0.242      -0.056       0.014\n",
      "Brand_Volvo                   0.3797      0.062      6.100      0.000       0.258       0.502\n",
      "==============================================================================\n",
      "Omnibus:                     1119.515   Durbin-Watson:                   1.992\n",
      "Prob(Omnibus):                  0.000   Jarque-Bera (JB):            20601.034\n",
      "Skew:                          -0.566   Prob(JB):                         0.00\n",
      "Kurtosis:                      12.806   Cond. No.                     1.00e+16\n",
      "==============================================================================\n",
      "\n",
      "Notes:\n",
      "[1] Standard Errors assume that the covariance matrix of the errors is correctly specified.\n",
      "[2] The smallest eigenvalue is 2.06e-22. This might indicate that there are\n",
      "strong multicollinearity problems or that the design matrix is singular.\n"
     ]
    }
   ],
   "source": [
    "#First set training, testing sets to be downsized for the ols test to current X_train, X_test\n",
    "X_train_ols =X_train\n",
    "X_test_ols = X_test\n",
    "\n",
    "#create ols model function\n",
    "\n",
    "def build_ols_model(train):\n",
    "    \n",
    "    # Create the model\n",
    "    olsmodel = sm.OLS(y_train[\"Price_log\"], train)\n",
    "    \n",
    "    return olsmodel.fit()\n",
    "\n",
    "\n",
    "# Fit linear model on new dataset\n",
    "olsmodel1 = build_ols_model(X_train_ols)\n",
    "\n",
    "print(olsmodel1.summary())"
   ]
  },
  {
   "cell_type": "code",
   "execution_count": 23,
   "metadata": {
    "id": "o3Cx3HRz_Qts"
   },
   "outputs": [],
   "source": [
    "#Write a new get model score function to read the OLS test/train data only, as we plan to eliminate any insigniticant variables to optimize a model.\n",
    "def get_model_score_ols(model, X_train_ols, X_test_ols, flag = True):\n",
    "    '''\n",
    "    model : regressor to predict values of X\n",
    "\n",
    "    '''\n",
    "    # Defining an empty list to store train and test results\n",
    "    score_list = [] \n",
    "    \n",
    "    \n",
    "    \n",
    "    pred_train = model.predict(X_train_ols)\n",
    "    \n",
    "    pred_train_ = np.exp(pred_train)\n",
    "    \n",
    "    pred_test = model.predict(X_test_ols)\n",
    "\n",
    "    \n",
    "    pred_test_ = np.exp(pred_test)\n",
    "    \n",
    "    train_r2 = metrics.r2_score(y_train['Price'], pred_train_)\n",
    "    \n",
    "    test_r2 = metrics.r2_score(y_test['Price'], pred_test_)\n",
    "    \n",
    "    train_rmse = metrics.mean_squared_error(y_train['Price'], pred_train_, squared = False)\n",
    "    \n",
    "    test_rmse = metrics.mean_squared_error(y_test['Price'], pred_test_, squared = False)\n",
    "    \n",
    "    # Adding all scores in the list\n",
    "    score_list.extend((train_r2, test_r2, train_rmse, test_rmse))\n",
    "    \n",
    "    # If the flag is set to True then only the following print statements will be dispayed, the default value is True\n",
    "    if flag == True: \n",
    "        \n",
    "        print(\"R-square on training set : \", metrics.r2_score(y_train['Price'], pred_train_))\n",
    "        \n",
    "        print(\"R-square on test set : \", metrics.r2_score(y_test['Price'], pred_test_))\n",
    "        \n",
    "        print(\"RMSE on training set : \", np.sqrt(metrics.mean_squared_error(y_train['Price'], pred_train_)))\n",
    "        \n",
    "        print(\"RMSE on test set : \", np.sqrt(metrics.mean_squared_error(y_test['Price'], pred_test_)))\n",
    "    \n",
    "    # Returning the list with train and test scores\n",
    "    return score_list"
   ]
  },
  {
   "cell_type": "code",
   "execution_count": 24,
   "metadata": {
    "colab": {
     "base_uri": "https://localhost:8080/"
    },
    "id": "gjTzNEyM_Qts",
    "outputId": "434ebfcf-70f4-43b2-c842-02185a370854"
   },
   "outputs": [
    {
     "name": "stdout",
     "output_type": "stream",
     "text": [
      "R-square on training set :  0.8719205541656947\n",
      "R-square on test set :  0.8551970455891215\n",
      "RMSE on training set :  3.881118724091183\n",
      "RMSE on test set :  3.9206798561513243\n"
     ]
    },
    {
     "data": {
      "text/plain": [
       "[0.8719205541656947, 0.8551970455891215, 3.881118724091183, 3.9206798561513243]"
      ]
     },
     "execution_count": 24,
     "metadata": {},
     "output_type": "execute_result"
    }
   ],
   "source": [
    "get_model_score_ols(olsmodel1, X_train_ols, X_test_ols)"
   ]
  },
  {
   "cell_type": "markdown",
   "metadata": {
    "id": "yx8VJuUw_Qts"
   },
   "source": [
    "- While the training data R-square and RMSE values were nearly identical to the LinearRegression resuts, 13 features were found to have a p-value greater than or equal to .05.\n",
    "- This model should be revised further by removing insignificant input variables to see if results may be improved."
   ]
  },
  {
   "cell_type": "markdown",
   "metadata": {
    "id": "eK0KV_li_Qtt"
   },
   "source": [
    "Let's remove the insignicant columns (ie. p-values >.05) from the test set and run the OLS model again."
   ]
  },
  {
   "cell_type": "code",
   "execution_count": 25,
   "metadata": {
    "colab": {
     "base_uri": "https://localhost:8080/"
    },
    "id": "C01l5EucVL3i",
    "outputId": "60b121c8-c539-4654-c752-f67ac1baf9ce",
    "scrolled": true
   },
   "outputs": [
    {
     "data": {
      "text/plain": [
       "Index(['const', 'Year', 'Mileage', 'Power', 'Seats', 'kilometers_driven_log',\n",
       "       'Location_Bangalore', 'Location_Coimbatore', 'Location_Delhi',\n",
       "       'Location_Hyderabad', 'Location_Jaipur', 'Location_Kolkata',\n",
       "       'Location_Mumbai', 'Location_Pune', 'Fuel_Type_Diesel',\n",
       "       'Fuel_Type_Electric', 'Transmission_Manual', 'Owner_Type_Second',\n",
       "       'Owner_Type_Third', 'Brand_Audi', 'Brand_BMW', 'Brand_Chevrolet',\n",
       "       'Brand_Datsun', 'Brand_Fiat', 'Brand_Ford', 'Brand_Hindustan',\n",
       "       'Brand_Honda', 'Brand_Jaguar', 'Brand_Jeep', 'Brand_Land',\n",
       "       'Brand_Mahindra', 'Brand_Mercedes-Benz', 'Brand_Mini',\n",
       "       'Brand_Mitsubishi', 'Brand_OpelCorsa', 'Brand_Porsche', 'Brand_Skoda',\n",
       "       'Brand_Tata', 'Brand_Toyota', 'Brand_Volvo'],\n",
       "      dtype='object')"
      ]
     },
     "execution_count": 25,
     "metadata": {},
     "output_type": "execute_result"
    }
   ],
   "source": [
    "#Let's omit features with p-values less than or equal to .05 in the test, training sets of the ols.\n",
    "\n",
    "olsmod_omit = pd.DataFrame(olsmodel1.params, columns = ['coef'])\n",
    "olsmod_omit['pval'] = olsmodel1.pvalues\n",
    "    # Filter by significant p-value (pval >= 0.05) and sort descending by Odds ratio\n",
    "\n",
    "olsmod_omit = olsmod_omit[olsmod_omit.pval>= 0.05].sort_values(by = \"pval\", ascending = False)\n",
    "    \n",
    "#identify list of insignificant features that can be dropped for next OMS iteration\n",
    "insig_var_list = list(olsmod_omit.index.values)\n",
    "#remove insignificant features from ols train and test sets\n",
    "X_train_ols= X_train_ols.drop(insig_var_list,axis=1)\n",
    "X_test_ols=  X_test_ols.drop(insig_var_list,axis=1)\n",
    "    \n",
    "X_train_ols.columns\n",
    "\n"
   ]
  },
  {
   "cell_type": "code",
   "execution_count": 26,
   "metadata": {
    "colab": {
     "base_uri": "https://localhost:8080/"
    },
    "id": "D8zpyN_m_Qtt",
    "outputId": "8b9fd05f-7d41-42ea-f419-a0409a01f2f2"
   },
   "outputs": [
    {
     "data": {
      "text/plain": [
       "(5074, 40)"
      ]
     },
     "execution_count": 26,
     "metadata": {},
     "output_type": "execute_result"
    }
   ],
   "source": [
    "X_train_ols.shape"
   ]
  },
  {
   "cell_type": "code",
   "execution_count": 27,
   "metadata": {
    "colab": {
     "base_uri": "https://localhost:8080/"
    },
    "id": "cf1nZo09_Qtt",
    "outputId": "20070e32-e5fd-48dd-81d7-d986f6a3b464"
   },
   "outputs": [
    {
     "name": "stdout",
     "output_type": "stream",
     "text": [
      "['Brand_Bentley', 'Owner_Type_Fourth & Above', 'Brand_Hyundai', 'Brand_Isuzu', 'Fuel_Type_LPG', 'Brand_Force', 'Location_Kochi', 'Brand_Volkswagen', 'Brand_Nissan', 'Brand_ISUZU', 'Location_Chennai', 'Brand_Renault', 'Brand_Smart']\n"
     ]
    }
   ],
   "source": [
    "#let's see the insignificant variables removed from the dataset\n",
    "print(insig_var_list)"
   ]
  },
  {
   "cell_type": "code",
   "execution_count": 28,
   "metadata": {
    "colab": {
     "base_uri": "https://localhost:8080/"
    },
    "id": "DQGbH5Yx_Qtt",
    "outputId": "125a9727-926d-4add-8098-28e70a945899",
    "scrolled": true
   },
   "outputs": [
    {
     "name": "stdout",
     "output_type": "stream",
     "text": [
      "                            OLS Regression Results                            \n",
      "==============================================================================\n",
      "Dep. Variable:              Price_log   R-squared:                       0.921\n",
      "Model:                            OLS   Adj. R-squared:                  0.920\n",
      "Method:                 Least Squares   F-statistic:                     1543.\n",
      "Date:                Sat, 17 Dec 2022   Prob (F-statistic):               0.00\n",
      "Time:                        07:57:09   Log-Likelihood:                -62.359\n",
      "No. Observations:                5074   AIC:                             202.7\n",
      "Df Residuals:                    5035   BIC:                             457.5\n",
      "Df Model:                          38                                         \n",
      "Covariance Type:            nonrobust                                         \n",
      "=========================================================================================\n",
      "                            coef    std err          t      P>|t|      [0.025      0.975]\n",
      "-----------------------------------------------------------------------------------------\n",
      "const                  -237.1799      3.112    -76.212      0.000    -243.281    -231.079\n",
      "Year                      0.1186      0.002     77.233      0.000       0.116       0.122\n",
      "Mileage                  -0.0210      0.001    -14.545      0.000      -0.024      -0.018\n",
      "Power                     0.0062      0.000     50.781      0.000       0.006       0.006\n",
      "Seats                     0.0628      0.006      9.785      0.000       0.050       0.075\n",
      "kilometers_driven_log    -0.0487      0.006     -7.547      0.000      -0.061      -0.036\n",
      "Location_Bangalore        0.1202      0.016      7.444      0.000       0.089       0.152\n",
      "Location_Coimbatore       0.0773      0.013      5.941      0.000       0.052       0.103\n",
      "Location_Delhi           -0.0542      0.014     -3.961      0.000      -0.081      -0.027\n",
      "Location_Hyderabad        0.0806      0.013      6.432      0.000       0.056       0.105\n",
      "Location_Jaipur          -0.0738      0.015     -4.956      0.000      -0.103      -0.045\n",
      "Location_Kolkata         -0.2081      0.014    -14.918      0.000      -0.235      -0.181\n",
      "Location_Mumbai          -0.0457      0.012     -3.657      0.000      -0.070      -0.021\n",
      "Location_Pune            -0.0576      0.013     -4.408      0.000      -0.083      -0.032\n",
      "Fuel_Type_Diesel          0.3053      0.010     30.446      0.000       0.286       0.325\n",
      "Fuel_Type_Electric        1.1229      0.175      6.412      0.000       0.780       1.466\n",
      "Transmission_Manual      -0.1022      0.012     -8.809      0.000      -0.125      -0.079\n",
      "Owner_Type_Second        -0.0534      0.010     -5.224      0.000      -0.073      -0.033\n",
      "Owner_Type_Third         -0.1055      0.026     -4.017      0.000      -0.157      -0.054\n",
      "Brand_Audi                0.5951      0.023     26.104      0.000       0.550       0.640\n",
      "Brand_BMW                 0.5869      0.023     25.423      0.000       0.542       0.632\n",
      "Brand_Chevrolet          -0.3590      0.024    -14.886      0.000      -0.406      -0.312\n",
      "Brand_Datsun             -0.4561      0.072     -6.373      0.000      -0.596      -0.316\n",
      "Brand_Fiat               -0.3127      0.049     -6.408      0.000      -0.408      -0.217\n",
      "Brand_Ford               -0.0365      0.017     -2.150      0.032      -0.070      -0.003\n",
      "Brand_Hindustan           2.7036      0.248     10.923      0.000       2.218       3.189\n",
      "Brand_Honda               0.0445      0.012      3.610      0.000       0.020       0.069\n",
      "Brand_Jaguar              0.5690      0.047     12.031      0.000       0.476       0.662\n",
      "Brand_Jeep                0.2013      0.072      2.778      0.005       0.059       0.343\n",
      "Brand_Land                0.9301      0.039     24.000      0.000       0.854       1.006\n",
      "Brand_Mahindra           -0.1378      0.021     -6.591      0.000      -0.179      -0.097\n",
      "Brand_Mercedes-Benz       0.6718      0.021     31.789      0.000       0.630       0.713\n",
      "Brand_Mini                1.0799      0.052     20.829      0.000       0.978       1.182\n",
      "Brand_Mitsubishi          0.2275      0.047      4.801      0.000       0.135       0.320\n",
      "Brand_OpelCorsa       -1.261e-13   1.99e-14     -6.346      0.000   -1.65e-13   -8.72e-14\n",
      "Brand_Porsche             0.1814      0.077      2.362      0.018       0.031       0.332\n",
      "Brand_Skoda               0.1042      0.022      4.649      0.000       0.060       0.148\n",
      "Brand_Tata               -0.4906      0.020    -23.946      0.000      -0.531      -0.450\n",
      "Brand_Toyota              0.2456      0.017     14.260      0.000       0.212       0.279\n",
      "Brand_Volvo               0.3846      0.061      6.261      0.000       0.264       0.505\n",
      "==============================================================================\n",
      "Omnibus:                     1124.224   Durbin-Watson:                   1.991\n",
      "Prob(Omnibus):                  0.000   Jarque-Bera (JB):            20574.418\n",
      "Skew:                          -0.573   Prob(JB):                         0.00\n",
      "Kurtosis:                      12.798   Cond. No.                     1.00e+16\n",
      "==============================================================================\n",
      "\n",
      "Notes:\n",
      "[1] Standard Errors assume that the covariance matrix of the errors is correctly specified.\n",
      "[2] The smallest eigenvalue is 2.06e-22. This might indicate that there are\n",
      "strong multicollinearity problems or that the design matrix is singular.\n"
     ]
    }
   ],
   "source": [
    "# Fit linear model on new dataset\n",
    "olsmodel2 = build_ols_model(X_train_ols)\n",
    "\n",
    "print(olsmodel2.summary())"
   ]
  },
  {
   "cell_type": "code",
   "execution_count": 29,
   "metadata": {
    "colab": {
     "base_uri": "https://localhost:8080/"
    },
    "id": "9to0MGjg_Qtu",
    "outputId": "11148bc2-643e-4d42-cb45-ded2f642b586"
   },
   "outputs": [
    {
     "name": "stdout",
     "output_type": "stream",
     "text": [
      "R-square on training set :  0.8705021023453945\n",
      "R-square on test set :  0.8538188902424512\n",
      "RMSE on training set :  3.902550818600047\n",
      "RMSE on test set :  3.939293116906806\n"
     ]
    }
   ],
   "source": [
    "ols2score = get_model_score_ols(olsmodel2, X_train_ols, X_test_ols)"
   ]
  },
  {
   "cell_type": "code",
   "execution_count": 30,
   "metadata": {
    "colab": {
     "base_uri": "https://localhost:8080/"
    },
    "id": "4eKDWAd3_Qtu",
    "outputId": "ba3a3038-e557-4b2e-cb24-9fe1d2a2d335"
   },
   "outputs": [
    {
     "name": "stdout",
     "output_type": "stream",
     "text": [
      "[]\n"
     ]
    }
   ],
   "source": [
    "#Check to make sure no insignificant p-values remain\n",
    "olsmod_omit = pd.DataFrame(olsmodel2.params, columns = ['coef'])\n",
    "olsmod_omit['pval'] = olsmodel2.pvalues\n",
    "    # Filter by significant p-value (pval >= 0.05) and sort descending by Odds ratio\n",
    "\n",
    "olsmod_omit = olsmod_omit[olsmod_omit.pval>= 0.05].sort_values(by = \"pval\", ascending = False)\n",
    "    \n",
    "#identify list of insignificant features that can be dropped for next OMS iteration\n",
    "insig_var_list = list(olsmod_omit.index.values)\n",
    "print(insig_var_list)"
   ]
  },
  {
   "cell_type": "markdown",
   "metadata": {
    "id": "FbQQZacV9WMm"
   },
   "source": [
    "- After removing the insignificant variables, the OLS model generated a comparably fit model, with no notable change in the training or test R-square values. RMSE values remained the same, with nearly identical 3.9 values, which is the same as the first iteration.\n",
    "- These values are nearly identical to the LinearRegression() model found, suggesting both models are comparable for this case."
   ]
  },
  {
   "cell_type": "code",
   "execution_count": 31,
   "metadata": {
    "colab": {
     "base_uri": "https://localhost:8080/",
     "height": 1000
    },
    "id": "Hg1fipOy_Qtu",
    "outputId": "8e0044c1-7df8-4269-8bf0-534619334118"
   },
   "outputs": [
    {
     "data": {
      "text/html": [
       "<div>\n",
       "<style scoped>\n",
       "    .dataframe tbody tr th:only-of-type {\n",
       "        vertical-align: middle;\n",
       "    }\n",
       "\n",
       "    .dataframe tbody tr th {\n",
       "        vertical-align: top;\n",
       "    }\n",
       "\n",
       "    .dataframe thead th {\n",
       "        text-align: right;\n",
       "    }\n",
       "</style>\n",
       "<table border=\"1\" class=\"dataframe\">\n",
       "  <thead>\n",
       "    <tr style=\"text-align: right;\">\n",
       "      <th></th>\n",
       "      <th>coef</th>\n",
       "    </tr>\n",
       "  </thead>\n",
       "  <tbody>\n",
       "    <tr>\n",
       "      <th>Brand_Hindustan</th>\n",
       "      <td>2.703630e+00</td>\n",
       "    </tr>\n",
       "    <tr>\n",
       "      <th>Fuel_Type_Electric</th>\n",
       "      <td>1.122851e+00</td>\n",
       "    </tr>\n",
       "    <tr>\n",
       "      <th>Brand_Mini</th>\n",
       "      <td>1.079887e+00</td>\n",
       "    </tr>\n",
       "    <tr>\n",
       "      <th>Brand_Land</th>\n",
       "      <td>9.300887e-01</td>\n",
       "    </tr>\n",
       "    <tr>\n",
       "      <th>Brand_Mercedes-Benz</th>\n",
       "      <td>6.718424e-01</td>\n",
       "    </tr>\n",
       "    <tr>\n",
       "      <th>Brand_Audi</th>\n",
       "      <td>5.950729e-01</td>\n",
       "    </tr>\n",
       "    <tr>\n",
       "      <th>Brand_BMW</th>\n",
       "      <td>5.868910e-01</td>\n",
       "    </tr>\n",
       "    <tr>\n",
       "      <th>Brand_Jaguar</th>\n",
       "      <td>5.689654e-01</td>\n",
       "    </tr>\n",
       "    <tr>\n",
       "      <th>Brand_Volvo</th>\n",
       "      <td>3.846319e-01</td>\n",
       "    </tr>\n",
       "    <tr>\n",
       "      <th>Fuel_Type_Diesel</th>\n",
       "      <td>3.053143e-01</td>\n",
       "    </tr>\n",
       "    <tr>\n",
       "      <th>Brand_Toyota</th>\n",
       "      <td>2.455855e-01</td>\n",
       "    </tr>\n",
       "    <tr>\n",
       "      <th>Brand_Mitsubishi</th>\n",
       "      <td>2.274672e-01</td>\n",
       "    </tr>\n",
       "    <tr>\n",
       "      <th>Brand_Jeep</th>\n",
       "      <td>2.012841e-01</td>\n",
       "    </tr>\n",
       "    <tr>\n",
       "      <th>Brand_Porsche</th>\n",
       "      <td>1.813820e-01</td>\n",
       "    </tr>\n",
       "    <tr>\n",
       "      <th>Location_Bangalore</th>\n",
       "      <td>1.201854e-01</td>\n",
       "    </tr>\n",
       "    <tr>\n",
       "      <th>Year</th>\n",
       "      <td>1.185650e-01</td>\n",
       "    </tr>\n",
       "    <tr>\n",
       "      <th>Brand_Skoda</th>\n",
       "      <td>1.042250e-01</td>\n",
       "    </tr>\n",
       "    <tr>\n",
       "      <th>Location_Hyderabad</th>\n",
       "      <td>8.060350e-02</td>\n",
       "    </tr>\n",
       "    <tr>\n",
       "      <th>Location_Coimbatore</th>\n",
       "      <td>7.727577e-02</td>\n",
       "    </tr>\n",
       "    <tr>\n",
       "      <th>Seats</th>\n",
       "      <td>6.283499e-02</td>\n",
       "    </tr>\n",
       "    <tr>\n",
       "      <th>Brand_Honda</th>\n",
       "      <td>4.448138e-02</td>\n",
       "    </tr>\n",
       "    <tr>\n",
       "      <th>Power</th>\n",
       "      <td>6.224866e-03</td>\n",
       "    </tr>\n",
       "    <tr>\n",
       "      <th>Brand_OpelCorsa</th>\n",
       "      <td>-1.261343e-13</td>\n",
       "    </tr>\n",
       "    <tr>\n",
       "      <th>Mileage</th>\n",
       "      <td>-2.100109e-02</td>\n",
       "    </tr>\n",
       "    <tr>\n",
       "      <th>Brand_Ford</th>\n",
       "      <td>-3.646947e-02</td>\n",
       "    </tr>\n",
       "    <tr>\n",
       "      <th>Location_Mumbai</th>\n",
       "      <td>-4.568337e-02</td>\n",
       "    </tr>\n",
       "    <tr>\n",
       "      <th>kilometers_driven_log</th>\n",
       "      <td>-4.865947e-02</td>\n",
       "    </tr>\n",
       "    <tr>\n",
       "      <th>Owner_Type_Second</th>\n",
       "      <td>-5.339284e-02</td>\n",
       "    </tr>\n",
       "    <tr>\n",
       "      <th>Location_Delhi</th>\n",
       "      <td>-5.420640e-02</td>\n",
       "    </tr>\n",
       "    <tr>\n",
       "      <th>Location_Pune</th>\n",
       "      <td>-5.762931e-02</td>\n",
       "    </tr>\n",
       "    <tr>\n",
       "      <th>Location_Jaipur</th>\n",
       "      <td>-7.382024e-02</td>\n",
       "    </tr>\n",
       "    <tr>\n",
       "      <th>Transmission_Manual</th>\n",
       "      <td>-1.022126e-01</td>\n",
       "    </tr>\n",
       "    <tr>\n",
       "      <th>Owner_Type_Third</th>\n",
       "      <td>-1.055358e-01</td>\n",
       "    </tr>\n",
       "    <tr>\n",
       "      <th>Brand_Mahindra</th>\n",
       "      <td>-1.377891e-01</td>\n",
       "    </tr>\n",
       "    <tr>\n",
       "      <th>Location_Kolkata</th>\n",
       "      <td>-2.080978e-01</td>\n",
       "    </tr>\n",
       "    <tr>\n",
       "      <th>Brand_Fiat</th>\n",
       "      <td>-3.126824e-01</td>\n",
       "    </tr>\n",
       "    <tr>\n",
       "      <th>Brand_Chevrolet</th>\n",
       "      <td>-3.590349e-01</td>\n",
       "    </tr>\n",
       "    <tr>\n",
       "      <th>Brand_Datsun</th>\n",
       "      <td>-4.561038e-01</td>\n",
       "    </tr>\n",
       "    <tr>\n",
       "      <th>Brand_Tata</th>\n",
       "      <td>-4.905578e-01</td>\n",
       "    </tr>\n",
       "    <tr>\n",
       "      <th>const</th>\n",
       "      <td>-2.371799e+02</td>\n",
       "    </tr>\n",
       "  </tbody>\n",
       "</table>\n",
       "</div>"
      ],
      "text/plain": [
       "                               coef\n",
       "Brand_Hindustan        2.703630e+00\n",
       "Fuel_Type_Electric     1.122851e+00\n",
       "Brand_Mini             1.079887e+00\n",
       "Brand_Land             9.300887e-01\n",
       "Brand_Mercedes-Benz    6.718424e-01\n",
       "Brand_Audi             5.950729e-01\n",
       "Brand_BMW              5.868910e-01\n",
       "Brand_Jaguar           5.689654e-01\n",
       "Brand_Volvo            3.846319e-01\n",
       "Fuel_Type_Diesel       3.053143e-01\n",
       "Brand_Toyota           2.455855e-01\n",
       "Brand_Mitsubishi       2.274672e-01\n",
       "Brand_Jeep             2.012841e-01\n",
       "Brand_Porsche          1.813820e-01\n",
       "Location_Bangalore     1.201854e-01\n",
       "Year                   1.185650e-01\n",
       "Brand_Skoda            1.042250e-01\n",
       "Location_Hyderabad     8.060350e-02\n",
       "Location_Coimbatore    7.727577e-02\n",
       "Seats                  6.283499e-02\n",
       "Brand_Honda            4.448138e-02\n",
       "Power                  6.224866e-03\n",
       "Brand_OpelCorsa       -1.261343e-13\n",
       "Mileage               -2.100109e-02\n",
       "Brand_Ford            -3.646947e-02\n",
       "Location_Mumbai       -4.568337e-02\n",
       "kilometers_driven_log -4.865947e-02\n",
       "Owner_Type_Second     -5.339284e-02\n",
       "Location_Delhi        -5.420640e-02\n",
       "Location_Pune         -5.762931e-02\n",
       "Location_Jaipur       -7.382024e-02\n",
       "Transmission_Manual   -1.022126e-01\n",
       "Owner_Type_Third      -1.055358e-01\n",
       "Brand_Mahindra        -1.377891e-01\n",
       "Location_Kolkata      -2.080978e-01\n",
       "Brand_Fiat            -3.126824e-01\n",
       "Brand_Chevrolet       -3.590349e-01\n",
       "Brand_Datsun          -4.561038e-01\n",
       "Brand_Tata            -4.905578e-01\n",
       "const                 -2.371799e+02"
      ]
     },
     "execution_count": 31,
     "metadata": {},
     "output_type": "execute_result"
    }
   ],
   "source": [
    "olsmod_coeff = pd.DataFrame(olsmodel2.params, columns = ['coef'])\n",
    "olsmod_coeff.sort_values(by = \"coef\", ascending = False)"
   ]
  },
  {
   "cell_type": "code",
   "execution_count": 32,
   "metadata": {
    "colab": {
     "base_uri": "https://localhost:8080/"
    },
    "id": "lYfyXgH-_Qtu",
    "outputId": "776c587d-10ff-4bed-aa8b-020f5ddccbc0"
   },
   "outputs": [
    {
     "data": {
      "text/plain": [
       "Maruti           1444\n",
       "Hyundai          1340\n",
       "Honda             743\n",
       "Toyota            507\n",
       "Mercedes-Benz     380\n",
       "Volkswagen        374\n",
       "Ford              351\n",
       "Mahindra          331\n",
       "BMW               311\n",
       "Audi              285\n",
       "Tata              228\n",
       "Skoda             201\n",
       "Renault           170\n",
       "Chevrolet         151\n",
       "Nissan            117\n",
       "Land               66\n",
       "Jaguar             48\n",
       "Fiat               38\n",
       "Mitsubishi         36\n",
       "Mini               31\n",
       "Volvo              28\n",
       "Porsche            19\n",
       "Jeep               19\n",
       "Datsun             17\n",
       "ISUZU               3\n",
       "Force               3\n",
       "Isuzu               2\n",
       "Bentley             2\n",
       "Smart               1\n",
       "Ambassador          1\n",
       "Hindustan           1\n",
       "OpelCorsa           1\n",
       "Name: Brand, dtype: int64"
      ]
     },
     "execution_count": 32,
     "metadata": {},
     "output_type": "execute_result"
    }
   ],
   "source": [
    "#Brand seems to figure in. Let's see what what the most frequent brands are.\n",
    "cars_data.Brand.value_counts()"
   ]
  },
  {
   "cell_type": "code",
   "execution_count": 33,
   "metadata": {
    "colab": {
     "base_uri": "https://localhost:8080/"
    },
    "id": "a1RqO5Bb_Qtv",
    "outputId": "529e1e86-434f-49f5-bb9b-930939705dc8",
    "scrolled": false
   },
   "outputs": [
    {
     "data": {
      "text/plain": [
       "const                    5.074000e+03\n",
       "Year                     1.021577e+07\n",
       "Mileage                  9.316342e+04\n",
       "Power                    5.698933e+05\n",
       "Seats                    2.680400e+04\n",
       "kilometers_driven_log    5.460953e+04\n",
       "Location_Bangalore       3.030000e+02\n",
       "Location_Coimbatore      5.470000e+02\n",
       "Location_Delhi           4.570000e+02\n",
       "Location_Hyderabad       6.160000e+02\n",
       "Location_Jaipur          3.710000e+02\n",
       "Location_Kolkata         4.670000e+02\n",
       "Location_Mumbai          6.290000e+02\n",
       "Location_Pune            5.340000e+02\n",
       "Fuel_Type_Diesel         2.720000e+03\n",
       "Fuel_Type_Electric       2.000000e+00\n",
       "Transmission_Manual      3.654000e+03\n",
       "Owner_Type_Second        8.090000e+02\n",
       "Owner_Type_Third         9.900000e+01\n",
       "Brand_Audi               1.990000e+02\n",
       "Brand_BMW                2.230000e+02\n",
       "Brand_Chevrolet          1.110000e+02\n",
       "Brand_Datsun             1.200000e+01\n",
       "Brand_Fiat               2.600000e+01\n",
       "Brand_Ford               2.430000e+02\n",
       "Brand_Hindustan          1.000000e+00\n",
       "Brand_Honda              5.140000e+02\n",
       "Brand_Jaguar             3.200000e+01\n",
       "Brand_Jeep               1.200000e+01\n",
       "Brand_Land               4.800000e+01\n",
       "Brand_Mahindra           2.260000e+02\n",
       "Brand_Mercedes-Benz      2.600000e+02\n",
       "Brand_Mini               2.400000e+01\n",
       "Brand_Mitsubishi         2.900000e+01\n",
       "Brand_OpelCorsa          0.000000e+00\n",
       "Brand_Porsche            1.200000e+01\n",
       "Brand_Skoda              1.400000e+02\n",
       "Brand_Tata               1.570000e+02\n",
       "Brand_Toyota             3.470000e+02\n",
       "Brand_Volvo              1.700000e+01\n",
       "dtype: float64"
      ]
     },
     "execution_count": 33,
     "metadata": {},
     "output_type": "execute_result"
    }
   ],
   "source": [
    "s = X_train_ols.sum()\n",
    "s\n",
    "                                        "
   ]
  },
  {
   "cell_type": "markdown",
   "metadata": {
    "id": "ofUngOTg_Qtv"
   },
   "source": [
    "We can use the coefficients to assess the impact each variable has on the price. More will be said in the final review of the analysis."
   ]
  },
  {
   "cell_type": "markdown",
   "metadata": {
    "id": "piWiusT0_Qtv"
   },
   "source": [
    "*** Identify overall significant variables ***"
   ]
  },
  {
   "cell_type": "code",
   "execution_count": 34,
   "metadata": {
    "colab": {
     "base_uri": "https://localhost:8080/"
    },
    "id": "yjplRhssIrdC",
    "outputId": "6916c74a-7030-4014-fd31-877bea9994a7"
   },
   "outputs": [
    {
     "name": "stdout",
     "output_type": "stream",
     "text": [
      "\u001b[1mMost overall significant categorical varaibles of LINEAR REGRESSION  are \u001b[95m :\n",
      " ['Year', 'Mileage', 'Power', 'Seats', 'kilometers_driven_log', 'Location', 'Fuel_Type', 'Transmission', 'Owner_Type', 'Brand']\n"
     ]
    }
   ],
   "source": [
    "# Retrive Coeff values, p-values and store them in the dataframe\n",
    "olsmod = pd.DataFrame(olsmodel1.params, columns = ['coef'])\n",
    "\n",
    "olsmod['pval'] = olsmodel1.pvalues\n",
    "\n",
    "\n",
    "# We are looking are overall significant variable\n",
    "\n",
    "cars_data_sigvar = cars_data.drop(['Brand_model'],axis =1)\n",
    "\n",
    "pval_filter = olsmod['pval']<= 0.05\n",
    "imp_vars = olsmod[pval_filter].index.tolist()\n",
    "\n",
    "# We are going to get overall varaibles (un-one-hot encoded varables) from categorical variables\n",
    "sig_var = []\n",
    "for col in imp_vars:\n",
    "    if '' in col:\n",
    "        first_part = col.split('_')[0]\n",
    "        for c in cars_data_sigvar.columns:\n",
    "            if first_part in c and c not in sig_var :\n",
    "                sig_var.append(c)\n",
    "\n",
    "                \n",
    "start = '\\033[1m'\n",
    "end = '\\033[95m'\n",
    "print(start+ 'Most overall significant categorical varaibles of LINEAR REGRESSION  are ' +end,':\\n', sig_var)"
   ]
  },
  {
   "cell_type": "markdown",
   "metadata": {
    "id": "5uubmKLlVL3j"
   },
   "source": [
    "**Build Ridge / Lasso Regression similar to Linear Regression:**<br>\n",
    "\n",
    "https://scikit-learn.org/stable/modules/generated/sklearn.linear_model.Ridge.html"
   ]
  },
  {
   "cell_type": "code",
   "execution_count": 35,
   "metadata": {
    "id": "9--bgDNhVL3j"
   },
   "outputs": [],
   "source": [
    "# Import Ridge/ Lasso Regression from sklearn\n",
    "from sklearn.linear_model import Ridge\n",
    "from sklearn.linear_model import Lasso"
   ]
  },
  {
   "cell_type": "code",
   "execution_count": 36,
   "metadata": {
    "id": "TwSuk8Q9VL3j"
   },
   "outputs": [],
   "source": [
    "# Create a Ridge regression model\n",
    "target  = 'Price_log'\n",
    "features_added = [i for i in X.columns if i not in \"Sales\"]"
   ]
  },
  {
   "cell_type": "code",
   "execution_count": 37,
   "metadata": {
    "colab": {
     "base_uri": "https://localhost:8080/"
    },
    "id": "wB7FOm5x_Qtw",
    "outputId": "0bf4cda1-7003-4d13-cf6a-9fc51256f1d8"
   },
   "outputs": [
    {
     "data": {
      "text/plain": [
       "Ridge()"
      ]
     },
     "execution_count": 37,
     "metadata": {},
     "output_type": "execute_result"
    }
   ],
   "source": [
    "#fitting Ridge with the default features\n",
    "ridge = Ridge()\n",
    "ridge.fit(X_train, y_train[target])"
   ]
  },
  {
   "cell_type": "code",
   "execution_count": 38,
   "metadata": {
    "colab": {
     "base_uri": "https://localhost:8080/"
    },
    "id": "0ys6UYEU_Qtw",
    "outputId": "75cf837a-383e-4a68-e62a-5eadcf4d723c"
   },
   "outputs": [
    {
     "name": "stdout",
     "output_type": "stream",
     "text": [
      "R-square on training set :  0.8704177836327331\n",
      "R-square on test set :  0.8533529632253352\n",
      "RMSE on training set :  3.9038211269232415\n",
      "RMSE on test set :  3.9455660303401205\n"
     ]
    }
   ],
   "source": [
    "# Get score of the model\n",
    "Ridge_model = get_model_score(ridge)"
   ]
  },
  {
   "cell_type": "markdown",
   "metadata": {
    "id": "z75DwXMa_Qtw"
   },
   "source": [
    "**Observations from results: _____**\n",
    "- The R-squared for both training and test sets was .87 and .85, respectively, which indicates an identical strength as the previous models.  The RMSE values for both were 3.9, which is also identical to the previous models.  Thus, the ridge did not improve the results."
   ]
  },
  {
   "cell_type": "markdown",
   "metadata": {
    "id": "qm7-h-Dw_Qtx"
   },
   "source": [
    "## XGBoost"
   ]
  },
  {
   "cell_type": "code",
   "execution_count": 39,
   "metadata": {
    "colab": {
     "base_uri": "https://localhost:8080/"
    },
    "id": "wBs-EUVG_Qtx",
    "outputId": "10979462-b2ed-4d66-b509-327940dfcd22"
   },
   "outputs": [
    {
     "name": "stdout",
     "output_type": "stream",
     "text": [
      "Defaulting to user installation because normal site-packages is not writeable\n",
      "Requirement already satisfied: xgboost in c:\\users\\droem\\appdata\\roaming\\python\\python39\\site-packages (1.6.2)\n",
      "Requirement already satisfied: scipy in c:\\users\\droem\\appdata\\roaming\\python\\python39\\site-packages (from xgboost) (1.8.0)\n",
      "Requirement already satisfied: numpy in c:\\programdata\\anaconda3\\lib\\site-packages (from xgboost) (1.21.5)\n"
     ]
    },
    {
     "name": "stderr",
     "output_type": "stream",
     "text": [
      "\n",
      "[notice] A new release of pip available: 22.2.2 -> 22.3.1\n",
      "[notice] To update, run: python.exe -m pip install --upgrade pip\n"
     ]
    }
   ],
   "source": [
    "#install xgboost package\n",
    "!pip install xgboost"
   ]
  },
  {
   "cell_type": "code",
   "execution_count": 40,
   "metadata": {
    "colab": {
     "base_uri": "https://localhost:8080/"
    },
    "id": "lb2OIy9d_Qtx",
    "outputId": "3f40ec33-c27b-4187-a9e2-bd9f4be18d8b"
   },
   "outputs": [
    {
     "name": "stdout",
     "output_type": "stream",
     "text": [
      "1.6.2\n"
     ]
    }
   ],
   "source": [
    "import xgboost\n",
    "print(xgboost.__version__)"
   ]
  },
  {
   "cell_type": "code",
   "execution_count": 41,
   "metadata": {
    "id": "UoBJc_Kj_Qtx"
   },
   "outputs": [],
   "source": [
    "from numpy import absolute\n",
    "from sklearn.model_selection import cross_val_score\n",
    "from sklearn.model_selection import RepeatedKFold\n",
    "from xgboost import XGBRegressor"
   ]
  },
  {
   "cell_type": "code",
   "execution_count": 42,
   "metadata": {
    "id": "5zZFF0gC_Qtx"
   },
   "outputs": [],
   "source": [
    "# create an xgboost regression model, find Rsquare based on original x_train\n",
    "xgb = XGBRegressor(objective='reg:squarederror')\n",
    "\n",
    "# define model evaluation method\n",
    "#cv = RepeatedKFold(n_splits=120, n_repeats=6, random_state=1)\n",
    "# evaluate model\n",
    "#scores = cross_val_score(model, X_train, y_train[target], scoring='r2', cv=cv, n_jobs=-1)\n",
    "# force scores to be positive\n",
    "#scores = absolute(scores)\n",
    "#print('R-square: %.3f (%.3f)' % (scores.mean(), scores.std()))"
   ]
  },
  {
   "cell_type": "code",
   "execution_count": 43,
   "metadata": {
    "colab": {
     "base_uri": "https://localhost:8080/"
    },
    "id": "FL3tOT21_Qty",
    "outputId": "edcd6c66-3f58-405a-f483-7e0788e68172"
   },
   "outputs": [
    {
     "name": "stdout",
     "output_type": "stream",
     "text": [
      "R-square on training set :  0.98862525498481\n",
      "R-square on test set :  0.8888873139848621\n",
      "RMSE on training set :  1.1566129302503056\n",
      "RMSE on test set :  3.43442860799185\n"
     ]
    }
   ],
   "source": [
    "xgb.fit(X_train, y_train[target])\n",
    "# Get score of the model\n",
    "XGB_model = get_model_score(xgb)"
   ]
  },
  {
   "cell_type": "markdown",
   "metadata": {
    "id": "zK8T0b10CxN_"
   },
   "source": [
    "Results show an unbiased model that may work to predict expected sale price."
   ]
  },
  {
   "cell_type": "markdown",
   "metadata": {
    "id": "Pcdrl3JV_Qty"
   },
   "source": [
    "## Hypertune XGBoost model"
   ]
  },
  {
   "cell_type": "code",
   "execution_count": 44,
   "metadata": {
    "colab": {
     "base_uri": "https://localhost:8080/"
    },
    "id": "HG3TN6ak_Qty",
    "outputId": "654d1b5c-789c-4806-bf2d-8b65c38f0156"
   },
   "outputs": [
    {
     "data": {
      "text/plain": [
       "XGBRegressor(base_score=0.5, booster='gbtree', callbacks=None,\n",
       "             colsample_bylevel=1, colsample_bynode=1, colsample_bytree=1,\n",
       "             early_stopping_rounds=None, enable_categorical=False,\n",
       "             eval_metric=None, gamma=0, gpu_id=-1, grow_policy='depthwise',\n",
       "             importance_type=None, interaction_constraints='',\n",
       "             learning_rate=0.3, max_bin=256, max_cat_to_onehot=4,\n",
       "             max_delta_step=0, max_depth=7, max_leaves=0, min_child_weight=1,\n",
       "             missing=nan, monotone_constraints='()', n_estimators=150, n_jobs=0,\n",
       "             num_parallel_tree=1, predictor='auto', random_state=1, reg_alpha=0,\n",
       "             reg_lambda=1, ...)"
      ]
     },
     "execution_count": 44,
     "metadata": {},
     "output_type": "execute_result"
    }
   ],
   "source": [
    "# Choose the type of estimator \n",
    "xgb_tuned = XGBRegressor(random_state=1)\n",
    "\n",
    "# Grid of parameters to choose from\n",
    "# Check documentation for all the parametrs that the model takes and play with those\n",
    "parameters = { 'max_depth': [7],\n",
    "           'learning_rate': [.3],\n",
    "           'n_estimators': [150],\n",
    "           'colsample_bytree': [1],\n",
    "          'subsample':[1]\n",
    "           }\n",
    "\n",
    "# Type of scoring used to compare parameter combinations\n",
    "\n",
    "from sklearn.metrics import make_scorer,mean_squared_error, r2_score, mean_absolute_error\n",
    "#cv = RepeatedKFold(n_splits=120, n_repeats=6, random_state=1)\n",
    "scorer = make_scorer(mean_squared_error) #use criteria mean squared error to optimze\n",
    "\n",
    "# calculating different regression metrics\n",
    "from sklearn.model_selection import GridSearchCV\n",
    "\n",
    "# Run the grid search\n",
    "grid_obj_xgb = GridSearchCV(estimator=xgb_tuned, param_grid=parameters, scoring = scorer, cv=10, n_jobs=10)\n",
    "grid_obj_xgb = grid_obj_xgb.fit(X_train, y_train[target])\n",
    "\n",
    "# Set the model to the best combination of parameters\n",
    "xgb_tuned = grid_obj_xgb.best_estimator_\n",
    "\n",
    "# Fit the best algorithm to the data\n",
    "xgb_tuned.fit(X_train, y_train[target])"
   ]
  },
  {
   "cell_type": "code",
   "execution_count": 45,
   "metadata": {
    "colab": {
     "base_uri": "https://localhost:8080/"
    },
    "id": "hAr6gOHm_Qty",
    "outputId": "8e092e31-5224-461c-8863-5cfe542dd716"
   },
   "outputs": [
    {
     "name": "stdout",
     "output_type": "stream",
     "text": [
      "R-square on training set :  0.996847643280918\n",
      "R-square on test set :  0.9144483332464384\n",
      "RMSE on training set :  0.6088844545903481\n",
      "RMSE on test set :  3.0136090226360968\n"
     ]
    }
   ],
   "source": [
    "xgb_tuned.fit(X_train, y_train[target])\n",
    "# Get score of the model\n",
    "xgb_tuned_model = get_model_score(xgb_tuned)"
   ]
  },
  {
   "cell_type": "markdown",
   "metadata": {
    "id": "GVqM5nmnC8GU"
   },
   "source": [
    "While the R-square and RMSE values are improved on the test set, they are significantly less compared to the training set values, indicating this model is a bit overfit."
   ]
  },
  {
   "cell_type": "code",
   "execution_count": 46,
   "metadata": {
    "colab": {
     "base_uri": "https://localhost:8080/"
    },
    "id": "wbagpgch4DXA",
    "outputId": "6a84518a-7866-4837-d87b-39f2a8c75bc4"
   },
   "outputs": [
    {
     "data": {
      "text/plain": [
       "{'colsample_bytree': 1,\n",
       " 'learning_rate': 0.3,\n",
       " 'max_depth': 7,\n",
       " 'n_estimators': 150,\n",
       " 'subsample': 1}"
      ]
     },
     "execution_count": 46,
     "metadata": {},
     "output_type": "execute_result"
    }
   ],
   "source": [
    "grid_obj_xgb.best_params_"
   ]
  },
  {
   "cell_type": "markdown",
   "metadata": {
    "id": "owyg5IpstOS9"
   },
   "source": [
    "### **Decision Tree** \n",
    "\n",
    "https://scikit-learn.org/stable/auto_examples/tree/plot_tree_regression.html"
   ]
  },
  {
   "cell_type": "code",
   "execution_count": 47,
   "metadata": {
    "id": "GjZeRER6VL3k"
   },
   "outputs": [],
   "source": [
    "# Import Decision tree for Regression from sklearn\n",
    "from sklearn import tree\n",
    "\n",
    "from sklearn.tree import DecisionTreeRegressor"
   ]
  },
  {
   "cell_type": "code",
   "execution_count": 48,
   "metadata": {
    "id": "shBet9WztOS-"
   },
   "outputs": [],
   "source": [
    "# Create a decision tree regression model, use random_state = 1\n",
    "dtree = DecisionTreeRegressor(random_state = 1)"
   ]
  },
  {
   "cell_type": "code",
   "execution_count": 49,
   "metadata": {
    "colab": {
     "base_uri": "https://localhost:8080/"
    },
    "id": "eJxVYVXXtOS-",
    "outputId": "fc94fea1-2076-460b-d467-625bd5d2cf9f"
   },
   "outputs": [
    {
     "data": {
      "text/plain": [
       "DecisionTreeRegressor(random_state=1)"
      ]
     },
     "execution_count": 49,
     "metadata": {},
     "output_type": "execute_result"
    }
   ],
   "source": [
    "# Fit decision tree regression model\n",
    "dtree.fit(X_train, y_train[target])"
   ]
  },
  {
   "cell_type": "code",
   "execution_count": 50,
   "metadata": {
    "colab": {
     "base_uri": "https://localhost:8080/"
    },
    "id": "vGbEjda0tOS-",
    "outputId": "230726f3-868d-44aa-9fba-6dc584ad28a7",
    "scrolled": true
   },
   "outputs": [
    {
     "name": "stdout",
     "output_type": "stream",
     "text": [
      "R-square on training set :  0.9999919148475714\n",
      "R-square on test set :  0.7796366545435071\n",
      "RMSE on training set :  0.03083623268912661\n",
      "RMSE on test set :  4.836624243457745\n"
     ]
    }
   ],
   "source": [
    "# Get score of the model\n",
    "Dtree_model = get_model_score(dtree)"
   ]
  },
  {
   "cell_type": "markdown",
   "metadata": {
    "id": "UrCgLVKwtOS-"
   },
   "source": [
    "**Observations from results: _____**\n",
    "- This model is overfit, even though the training set R-square value is very high (.99), it is notably higher than the test set (.78).\n",
    "- The RMSE are also disparate, where the test set is more than 10x greater than the training set.\n",
    "- It is recommended that another model be used if possible to model, as these disparities indicate a biased model that is overfitting the training dataset."
   ]
  },
  {
   "cell_type": "markdown",
   "metadata": {
    "id": "6z2V0IwtVL3k"
   },
   "source": [
    "Print the importance of features in the tree building. The importance of a feature is computed as the (normalized) total reduction of the criterion brought by that feature. It is also known as the Gini importance.\n"
   ]
  },
  {
   "cell_type": "code",
   "execution_count": 51,
   "metadata": {
    "colab": {
     "base_uri": "https://localhost:8080/"
    },
    "id": "E8ro_i9vIrdF",
    "outputId": "b804fa41-2101-49c5-a5a3-bd31f9616909"
   },
   "outputs": [
    {
     "name": "stdout",
     "output_type": "stream",
     "text": [
      "                                    Imp\n",
      "Power                      6.410034e-01\n",
      "Year                       2.241740e-01\n",
      "Mileage                    2.525093e-02\n",
      "kilometers_driven_log      1.919618e-02\n",
      "Brand_Mahindra             1.038278e-02\n",
      "Brand_Mercedes-Benz        9.124087e-03\n",
      "Brand_Chevrolet            6.881867e-03\n",
      "Brand_Skoda                5.695154e-03\n",
      "Brand_Mini                 5.326716e-03\n",
      "Brand_Tata                 4.800286e-03\n",
      "Seats                      4.639159e-03\n",
      "Brand_Land                 4.286220e-03\n",
      "Location_Kolkata           3.595378e-03\n",
      "Fuel_Type_Diesel           3.292146e-03\n",
      "Location_Hyderabad         3.098636e-03\n",
      "Brand_Honda                3.078370e-03\n",
      "Brand_Hyundai              2.490765e-03\n",
      "Brand_Volkswagen           2.273522e-03\n",
      "Brand_Toyota               2.257867e-03\n",
      "Brand_BMW                  1.916113e-03\n",
      "Location_Coimbatore        1.597843e-03\n",
      "Transmission_Manual        1.461528e-03\n",
      "Brand_Ford                 1.313782e-03\n",
      "Location_Bangalore         1.222145e-03\n",
      "Owner_Type_Second          1.192646e-03\n",
      "Location_Kochi             1.166460e-03\n",
      "Location_Delhi             1.135361e-03\n",
      "Location_Chennai           1.127525e-03\n",
      "Location_Mumbai            1.024353e-03\n",
      "Location_Jaipur            9.776854e-04\n",
      "Owner_Type_Third           7.651848e-04\n",
      "Location_Pune              7.413039e-04\n",
      "Fuel_Type_Electric         5.916188e-04\n",
      "Brand_Porsche              5.798572e-04\n",
      "Brand_Nissan               5.403306e-04\n",
      "Brand_Renault              3.374963e-04\n",
      "Brand_Audi                 3.261214e-04\n",
      "Brand_Mitsubishi           3.236959e-04\n",
      "Brand_Fiat                 2.579298e-04\n",
      "Brand_Hindustan            2.394074e-04\n",
      "Brand_Jaguar               1.465351e-04\n",
      "Brand_Volvo                1.090643e-04\n",
      "Owner_Type_Fourth & Above  3.442853e-05\n",
      "Fuel_Type_LPG              1.446428e-05\n",
      "Brand_Datsun               9.070640e-06\n",
      "Brand_ISUZU                5.410306e-07\n",
      "Brand_Jeep                 0.000000e+00\n",
      "Brand_Isuzu                0.000000e+00\n",
      "Brand_OpelCorsa            0.000000e+00\n",
      "Brand_Force                0.000000e+00\n",
      "Brand_Smart                0.000000e+00\n",
      "Brand_Bentley              0.000000e+00\n",
      "const                      0.000000e+00\n"
     ]
    }
   ],
   "source": [
    "print(pd.DataFrame(dtree.feature_importances_, columns = [\"Imp\"], index = X_train.columns).sort_values(by = 'Imp', ascending = False))"
   ]
  },
  {
   "cell_type": "markdown",
   "metadata": {
    "id": "m9P0pzHHIrdG"
   },
   "source": [
    "**Observations and insights: _____**\n",
    "- The top 2 important variables account for nearly 90% significance, indicating a simpler model could be made by combining a number of the variables, especially brand. \n"
   ]
  },
  {
   "cell_type": "markdown",
   "metadata": {
    "id": "q8eFynaNtOS-"
   },
   "source": [
    "### **Random Forest**\n",
    "\n",
    "https://scikit-learn.org/stable/modules/generated/sklearn.ensemble.RandomForestRegressor.html"
   ]
  },
  {
   "cell_type": "code",
   "execution_count": 52,
   "metadata": {
    "id": "Jhw-0FsNVL3l"
   },
   "outputs": [],
   "source": [
    "# Import Randomforest for Regression from sklearn\n",
    "from sklearn.ensemble import RandomForestRegressor"
   ]
  },
  {
   "cell_type": "code",
   "execution_count": 53,
   "metadata": {
    "id": "-4S4FoDXtOS-"
   },
   "outputs": [],
   "source": [
    "# Create a Randomforest regression model\n",
    "rf_estimator = RandomForestRegressor(random_state = 1)"
   ]
  },
  {
   "cell_type": "code",
   "execution_count": 54,
   "metadata": {
    "colab": {
     "base_uri": "https://localhost:8080/"
    },
    "id": "gBlavhMTtOS-",
    "outputId": "dd9570e2-cf0d-4423-8b20-f64a1601b830"
   },
   "outputs": [
    {
     "data": {
      "text/plain": [
       "RandomForestRegressor(random_state=1)"
      ]
     },
     "execution_count": 54,
     "metadata": {},
     "output_type": "execute_result"
    }
   ],
   "source": [
    "# Fit Randomforest regression model\n",
    "rf_estimator.fit(X_train, y_train[target])"
   ]
  },
  {
   "cell_type": "code",
   "execution_count": 55,
   "metadata": {
    "colab": {
     "base_uri": "https://localhost:8080/"
    },
    "id": "VLDDeeAGtOS_",
    "outputId": "f203749a-c372-426d-b53c-ba705aabae77"
   },
   "outputs": [
    {
     "name": "stdout",
     "output_type": "stream",
     "text": [
      "R-square on training set :  0.9824833580939456\n",
      "R-square on test set :  0.8797299596096566\n",
      "RMSE on training set :  1.4352998320756742\n",
      "RMSE on test set :  3.5731512355164794\n"
     ]
    }
   ],
   "source": [
    "# Get score of the model\n",
    "\n",
    "Rf_model = get_model_score(rf_estimator)"
   ]
  },
  {
   "cell_type": "markdown",
   "metadata": {
    "id": "ZGNTRfaitOS_"
   },
   "source": [
    "**Observations and insights: _____**\n",
    "- Similar results as decision tree, where the model is still biased, given the near .10 difference between the training and test set R-square value.  The RMSE are closer, but still disparate."
   ]
  },
  {
   "cell_type": "markdown",
   "metadata": {
    "id": "pgwyNxUuIrdG"
   },
   "source": [
    "**Feature Importance**"
   ]
  },
  {
   "cell_type": "code",
   "execution_count": 56,
   "metadata": {
    "colab": {
     "base_uri": "https://localhost:8080/"
    },
    "id": "AWRS7zISIrdG",
    "outputId": "2bf5f8d7-2606-46df-bbc5-51111783c96c",
    "scrolled": true
   },
   "outputs": [
    {
     "name": "stdout",
     "output_type": "stream",
     "text": [
      "                                Imp\n",
      "Power                      0.646699\n",
      "Year                       0.224256\n",
      "Mileage                    0.025388\n",
      "kilometers_driven_log      0.018246\n",
      "Brand_Mercedes-Benz        0.006747\n",
      "Fuel_Type_Diesel           0.005903\n",
      "Brand_Mahindra             0.005687\n",
      "Seats                      0.005148\n",
      "Transmission_Manual        0.004843\n",
      "Brand_Tata                 0.004287\n",
      "Brand_Land                 0.004260\n",
      "Brand_Mini                 0.004211\n",
      "Brand_Chevrolet            0.003970\n",
      "Location_Kolkata           0.003933\n",
      "Brand_Honda                0.003668\n",
      "Brand_Skoda                0.003088\n",
      "Brand_Hyundai              0.002661\n",
      "Location_Hyderabad         0.002640\n",
      "Brand_Toyota               0.002474\n",
      "Brand_BMW                  0.002075\n",
      "Brand_Audi                 0.002066\n",
      "Brand_Volkswagen           0.001903\n",
      "Location_Coimbatore        0.001761\n",
      "Owner_Type_Second          0.001684\n",
      "Location_Mumbai            0.001356\n",
      "Location_Bangalore         0.001339\n",
      "Location_Pune              0.001296\n",
      "Location_Delhi             0.001232\n",
      "Location_Jaipur            0.000989\n",
      "Location_Kochi             0.000960\n",
      "Location_Chennai           0.000879\n",
      "Brand_Ford                 0.000724\n",
      "Owner_Type_Third           0.000713\n",
      "Brand_Porsche              0.000488\n",
      "Brand_Fiat                 0.000414\n",
      "Brand_Renault              0.000396\n",
      "Brand_Nissan               0.000367\n",
      "Brand_Mitsubishi           0.000302\n",
      "Fuel_Type_Electric         0.000239\n",
      "Brand_Hindustan            0.000209\n",
      "Brand_Jaguar               0.000142\n",
      "Brand_Jeep                 0.000141\n",
      "Brand_Volvo                0.000073\n",
      "Owner_Type_Fourth & Above  0.000053\n",
      "Brand_Datsun               0.000026\n",
      "Brand_Smart                0.000021\n",
      "Brand_Isuzu                0.000014\n",
      "Fuel_Type_LPG              0.000011\n",
      "Brand_Bentley              0.000008\n",
      "Brand_Force                0.000008\n",
      "Brand_ISUZU                0.000002\n",
      "Brand_OpelCorsa            0.000000\n",
      "const                      0.000000\n"
     ]
    }
   ],
   "source": [
    "# Print important features similar to random forest\n",
    "\n",
    "print(pd.DataFrame(rf_estimator.feature_importances_, columns = [\"Imp\"], index = X_train.columns).sort_values(by = 'Imp', ascending = False))"
   ]
  },
  {
   "cell_type": "markdown",
   "metadata": {
    "id": "cG9ZD9ozIrdH"
   },
   "source": [
    "**Observations and insights: _____**\n",
    "- Power and Year prove to be significant features as previously found in the decision tree analysis, accounting for close to 90% of the price.\n",
    "- This similarly indicates that only a few features need to be accounted for, and thus many, in the brand category especially, could be combined."
   ]
  },
  {
   "cell_type": "markdown",
   "metadata": {
    "id": "sw0dMSgetOS_"
   },
   "source": [
    "### **Hyperparameter Tuning: Decision Tree**"
   ]
  },
  {
   "cell_type": "code",
   "execution_count": 57,
   "metadata": {
    "colab": {
     "base_uri": "https://localhost:8080/"
    },
    "id": "4eF0aYHHtOS_",
    "outputId": "d13b85d5-ebb1-4baa-96e7-95be7814aaa8"
   },
   "outputs": [
    {
     "data": {
      "text/plain": [
       "DecisionTreeRegressor(max_depth=6, min_samples_leaf=2, random_state=1)"
      ]
     },
     "execution_count": 57,
     "metadata": {},
     "output_type": "execute_result"
    }
   ],
   "source": [
    "# Choose the type of estimator \n",
    "dtree_tuned = DecisionTreeRegressor(random_state = 1)\n",
    "\n",
    "# Grid of parameters to choose from\n",
    "# Check documentation for all the parametrs that the model takes and play with those\n",
    "parameters = {'max_depth': [6], \n",
    "              \n",
    "              'criterion': ['squared_error', 'friedman_mse'],\n",
    "              \n",
    "              'min_samples_leaf': [2,],\n",
    "              \n",
    "              'max_leaf_nodes': [ 7] + [None]\n",
    "             }\n",
    "\n",
    "# Type of scoring used to compare parameter combinations\n",
    "\n",
    "from sklearn.metrics import make_scorer,mean_squared_error, r2_score, mean_absolute_error\n",
    "\n",
    "scorer = make_scorer(r2_score)\n",
    "\n",
    "# calculating different regression metrics\n",
    "from sklearn.model_selection import GridSearchCV\n",
    "\n",
    "# Run the grid search\n",
    "grid_obj = GridSearchCV(dtree_tuned, parameters, scoring = scorer, cv = 5)\n",
    "grid_obj = grid_obj.fit(X_train, y_train[target])\n",
    "\n",
    "# Set the model to the best combination of parameters\n",
    "dtree_tuned = grid_obj.best_estimator_\n",
    "\n",
    "# Fit the best algorithm to the data\n",
    "dtree_tuned.fit(X_train, y_train[target])"
   ]
  },
  {
   "cell_type": "code",
   "execution_count": 58,
   "metadata": {
    "colab": {
     "base_uri": "https://localhost:8080/"
    },
    "id": "XzIthX3G_Qt1",
    "outputId": "e2d52f9d-4dea-4352-ac1d-5229ddf033ea"
   },
   "outputs": [
    {
     "name": "stdout",
     "output_type": "stream",
     "text": [
      "R-square on training set :  0.8519002684130002\n",
      "R-square on test set :  0.7968044509309221\n",
      "RMSE on training set :  4.173441630606136\n",
      "RMSE on test set :  4.644401591902103\n"
     ]
    }
   ],
   "source": [
    "# Get score of the dtree_tuned\n",
    "dtree_tuned_model = get_model_score(dtree_tuned)"
   ]
  },
  {
   "cell_type": "markdown",
   "metadata": {
    "id": "UsGmvq1StOS_"
   },
   "source": [
    "**Observations and insights: _____**\n",
    "\n",
    "- This tuned model is a significant improvement with regard to reducing the bias compared to the initial decision tree model. THe RMSE scores for both train and test sets are closer, although still higher than perhaps desired (3,5) range, and different by nearly 1.  \n",
    "\n",
    "- Bias has been reduced significantly, with the difference in R values only .05, and both in the .80-.9 range. This indicates the model has modest accuracy and reasonable precision. \n",
    "- However, the test set values on the linear regression models were .04 better, and the overfit was less as well (~.02 compared to ~.08 in this case)\n",
    "- We aim to have a model that closes this gap further, while maintaining or even improving accuracy."
   ]
  },
  {
   "cell_type": "markdown",
   "metadata": {
    "id": "5jssEF5eIrdH"
   },
   "source": [
    "**Feature Importance**"
   ]
  },
  {
   "cell_type": "code",
   "execution_count": 59,
   "metadata": {
    "colab": {
     "base_uri": "https://localhost:8080/"
    },
    "id": "OdzQWq8WtOTA",
    "outputId": "d4741c30-a3d9-4d93-da32-7c800e317408"
   },
   "outputs": [
    {
     "name": "stdout",
     "output_type": "stream",
     "text": [
      "                                Imp\n",
      "Power                      0.710104\n",
      "Year                       0.237712\n",
      "Mileage                    0.009344\n",
      "Brand_Mahindra             0.008987\n",
      "Brand_Mercedes-Benz        0.006850\n",
      "Brand_Skoda                0.004683\n",
      "Brand_Mini                 0.004314\n",
      "Brand_Chevrolet            0.004066\n",
      "Brand_Honda                0.002700\n",
      "Brand_Land                 0.002595\n",
      "kilometers_driven_log      0.001637\n",
      "Brand_Volkswagen           0.001425\n",
      "Brand_Toyota               0.001395\n",
      "Brand_Tata                 0.001358\n",
      "Brand_BMW                  0.001132\n",
      "Brand_Porsche              0.000657\n",
      "Fuel_Type_Diesel           0.000429\n",
      "Location_Hyderabad         0.000376\n",
      "Location_Mumbai            0.000131\n",
      "Location_Pune              0.000058\n",
      "Location_Bangalore         0.000045\n",
      "Brand_Mitsubishi           0.000000\n",
      "Brand_Nissan               0.000000\n",
      "Brand_OpelCorsa            0.000000\n",
      "Brand_Renault              0.000000\n",
      "Brand_Smart                0.000000\n",
      "Brand_Jeep                 0.000000\n",
      "Brand_Jaguar               0.000000\n",
      "Brand_Isuzu                0.000000\n",
      "Brand_ISUZU                0.000000\n",
      "Brand_Hyundai              0.000000\n",
      "const                      0.000000\n",
      "Brand_Hindustan            0.000000\n",
      "Fuel_Type_LPG              0.000000\n",
      "Seats                      0.000000\n",
      "Location_Chennai           0.000000\n",
      "Location_Coimbatore        0.000000\n",
      "Location_Delhi             0.000000\n",
      "Location_Jaipur            0.000000\n",
      "Location_Kochi             0.000000\n",
      "Location_Kolkata           0.000000\n",
      "Fuel_Type_Electric         0.000000\n",
      "Transmission_Manual        0.000000\n",
      "Brand_Ford                 0.000000\n",
      "Owner_Type_Fourth & Above  0.000000\n",
      "Owner_Type_Second          0.000000\n",
      "Owner_Type_Third           0.000000\n",
      "Brand_Audi                 0.000000\n",
      "Brand_Bentley              0.000000\n",
      "Brand_Datsun               0.000000\n",
      "Brand_Fiat                 0.000000\n",
      "Brand_Force                0.000000\n",
      "Brand_Volvo                0.000000\n"
     ]
    }
   ],
   "source": [
    "# Print important features of tuned decision tree similar to decision trees\n",
    "print(pd.DataFrame(dtree_tuned.feature_importances_, columns = [\"Imp\"], index = X_train.columns).sort_values(by = 'Imp', ascending = False))"
   ]
  },
  {
   "cell_type": "markdown",
   "metadata": {
    "id": "-r8AR_VotOTB"
   },
   "source": [
    "**Observations and insights: _____**\n",
    "\n",
    "- Power and Year are the most important features, with Power valued even higher (.7) than in the untuned Decision tree (.64).  \n",
    "- Mileage was not in the top 5, while Mahindra and Tata brands were valued higher, albeit very insignificantly (<.01).\n",
    "- It appears nearly half of the variables could be omitted or combined."
   ]
  },
  {
   "cell_type": "markdown",
   "metadata": {
    "id": "18uxHTy2tOTB"
   },
   "source": [
    "### **Hyperparameter Tuning: Random Forest**"
   ]
  },
  {
   "cell_type": "code",
   "execution_count": 60,
   "metadata": {
    "colab": {
     "base_uri": "https://localhost:8080/"
    },
    "id": "4P_Mj0JYtOTC",
    "outputId": "74065a5f-ff5f-4c2d-900a-f7f84e269f92"
   },
   "outputs": [
    {
     "data": {
      "text/plain": [
       "RandomForestRegressor(max_depth=7, max_features=0.3, n_estimators=500,\n",
       "                      random_state=1)"
      ]
     },
     "execution_count": 60,
     "metadata": {},
     "output_type": "execute_result"
    }
   ],
   "source": [
    "# Choose the type of Regressor\n",
    "rf_tuned = RandomForestRegressor(random_state = 1)\n",
    "\n",
    "# Define the parameters for Grid to choose from \n",
    "\n",
    "parameters = {\"n_estimators\": [500],\n",
    "              \n",
    "    \"max_depth\": [6,7],\n",
    "              \n",
    "    \"max_features\": [.3]\n",
    "             }\n",
    "# Check documentation for all the parametrs that the model takes and play with those\n",
    "\n",
    "# Type of scoring used to compare parameter combinations\n",
    "scorer = make_scorer(r2_score)\n",
    "\n",
    "# Run the grid search\n",
    "grid_obj = GridSearchCV(rf_tuned, parameters, scoring = scorer, cv = 5)\n",
    "grid_obj = grid_obj.fit(X_train, y_train[target])\n",
    "\n",
    "# Set the model to the best combination of parameters\n",
    "rf_tuned_regressor = grid_obj.best_estimator_\n",
    "# Fit the best algorithm to the data\n",
    "rf_tuned_regressor.fit(X_train, y_train[target])"
   ]
  },
  {
   "cell_type": "code",
   "execution_count": 61,
   "metadata": {
    "colab": {
     "base_uri": "https://localhost:8080/"
    },
    "id": "HSBtYgpctOTC",
    "outputId": "5dd8e493-c46e-4a74-f41d-f6b1a0a7d4f9"
   },
   "outputs": [
    {
     "name": "stdout",
     "output_type": "stream",
     "text": [
      "R-square on training set :  0.8446687788388183\n",
      "R-square on test set :  0.8079351453597531\n",
      "RMSE on training set :  4.274118771808161\n",
      "RMSE on test set :  4.515404078111758\n"
     ]
    }
   ],
   "source": [
    "# Get score of the rf_tuned_regressor\n",
    "Rf_tuned_model = get_model_score(rf_tuned_regressor)"
   ]
  },
  {
   "cell_type": "markdown",
   "metadata": {
    "id": "a1WHqIX9tOTC"
   },
   "source": [
    "**Observations and insights: _____**\n",
    "- Overfitting is reduced on this tuned model compared to the original random forest, reducing the gap from .1 to .05, approximately. Even still the accuracy overall was lower for both training and test sets, given the slightly lower R-square values for both by comparison.\n",
    "- RMSE values were closer in range, and higher than desired perhaps, also pointing to present, but less bias in the tuned model.\n",
    "- This model performed even slightly better than the tuned decision tree model, with an R-square value of .85 on the test set, but still lower than the training set by .05."
   ]
  },
  {
   "cell_type": "code",
   "execution_count": 62,
   "metadata": {
    "colab": {
     "base_uri": "https://localhost:8080/"
    },
    "id": "9khvM2ZhtOTC",
    "outputId": "841012bd-0c2d-4d13-a60c-dd957a26655e"
   },
   "outputs": [
    {
     "name": "stdout",
     "output_type": "stream",
     "text": [
      "                                Imp\n",
      "Power                      0.397101\n",
      "Transmission_Manual        0.187715\n",
      "Year                       0.159223\n",
      "Fuel_Type_Diesel           0.067194\n",
      "Mileage                    0.048319\n",
      "Brand_Mercedes-Benz        0.026070\n",
      "kilometers_driven_log      0.025254\n",
      "Seats                      0.015888\n",
      "Brand_BMW                  0.012470\n",
      "Brand_Audi                 0.011763\n",
      "Brand_Honda                0.006238\n",
      "Brand_Toyota               0.005119\n",
      "Brand_Tata                 0.004945\n",
      "Brand_Land                 0.003806\n",
      "Location_Coimbatore        0.003461\n",
      "Owner_Type_Second          0.002918\n",
      "Brand_Chevrolet            0.002301\n",
      "Brand_Mahindra             0.002253\n",
      "Brand_Mini                 0.002217\n",
      "Owner_Type_Third           0.002179\n",
      "Brand_Skoda                0.002139\n",
      "Brand_Hyundai              0.001968\n",
      "Location_Kolkata           0.001922\n",
      "Brand_Volkswagen           0.001447\n",
      "Location_Jaipur            0.000715\n",
      "Location_Kochi             0.000713\n",
      "Brand_Porsche              0.000519\n",
      "Location_Pune              0.000472\n",
      "Location_Mumbai            0.000428\n",
      "Location_Bangalore         0.000399\n",
      "Location_Hyderabad         0.000393\n",
      "Brand_Jeep                 0.000368\n",
      "Brand_Bentley              0.000319\n",
      "Brand_Jaguar               0.000304\n",
      "Brand_Ford                 0.000244\n",
      "Location_Chennai           0.000240\n",
      "Location_Delhi             0.000216\n",
      "Owner_Type_Fourth & Above  0.000151\n",
      "Fuel_Type_Electric         0.000145\n",
      "Brand_Mitsubishi           0.000102\n",
      "Brand_Fiat                 0.000100\n",
      "Brand_Renault              0.000079\n",
      "Brand_Hindustan            0.000050\n",
      "Brand_Datsun               0.000037\n",
      "Brand_Nissan               0.000036\n",
      "Brand_Volvo                0.000031\n",
      "Brand_Smart                0.000020\n",
      "Fuel_Type_LPG              0.000007\n",
      "Brand_ISUZU                0.000002\n",
      "Brand_Force                0.000001\n",
      "Brand_OpelCorsa            0.000000\n",
      "Brand_Isuzu                0.000000\n",
      "const                      0.000000\n"
     ]
    }
   ],
   "source": [
    "# Print important features of tuned decision tree similar to decision trees\n",
    "print(pd.DataFrame(rf_tuned_regressor.feature_importances_, columns = [\"Imp\"], index = X_train.columns).sort_values(by = 'Imp', ascending = False))"
   ]
  },
  {
   "cell_type": "markdown",
   "metadata": {},
   "source": [
    "## AutoML"
   ]
  },
  {
   "cell_type": "code",
   "execution_count": 63,
   "metadata": {},
   "outputs": [
    {
     "name": "stdout",
     "output_type": "stream",
     "text": [
      "Defaulting to user installation because normal site-packages is not writeable\n",
      "Looking in links: http://h2o-release.s3.amazonaws.com/h2o/latest_stable_Py.html\n",
      "Requirement already satisfied: h2o in c:\\users\\droem\\appdata\\roaming\\python\\python39\\site-packages (3.38.0.3)\n",
      "Requirement already satisfied: requests in c:\\programdata\\anaconda3\\lib\\site-packages (from h2o) (2.27.1)\n",
      "Requirement already satisfied: tabulate in c:\\programdata\\anaconda3\\lib\\site-packages (from h2o) (0.8.9)\n",
      "Requirement already satisfied: future in c:\\programdata\\anaconda3\\lib\\site-packages (from h2o) (0.18.2)\n",
      "Requirement already satisfied: urllib3<1.27,>=1.21.1 in c:\\programdata\\anaconda3\\lib\\site-packages (from requests->h2o) (1.26.9)\n",
      "Requirement already satisfied: certifi>=2017.4.17 in c:\\programdata\\anaconda3\\lib\\site-packages (from requests->h2o) (2021.10.8)\n",
      "Requirement already satisfied: idna<4,>=2.5 in c:\\programdata\\anaconda3\\lib\\site-packages (from requests->h2o) (3.3)\n",
      "Requirement already satisfied: charset-normalizer~=2.0.0 in c:\\programdata\\anaconda3\\lib\\site-packages (from requests->h2o) (2.0.4)\n"
     ]
    },
    {
     "name": "stderr",
     "output_type": "stream",
     "text": [
      "\n",
      "[notice] A new release of pip available: 22.2.2 -> 22.3.1\n",
      "[notice] To update, run: python.exe -m pip install --upgrade pip\n"
     ]
    }
   ],
   "source": [
    "!pip install -f http://h2o-release.s3.amazonaws.com/h2o/latest_stable_Py.html h2o"
   ]
  },
  {
   "cell_type": "code",
   "execution_count": 64,
   "metadata": {},
   "outputs": [
    {
     "name": "stdout",
     "output_type": "stream",
     "text": [
      "Checking whether there is an H2O instance running at http://127.0.0.1:8080 . connected.\n"
     ]
    },
    {
     "data": {
      "text/html": [
       "\n",
       "<style>\n",
       "\n",
       "#h2o-table-1.h2o-container {\n",
       "  overflow-x: auto;\n",
       "}\n",
       "#h2o-table-1 .h2o-table {\n",
       "  /* width: 100%; */\n",
       "  margin-top: 1em;\n",
       "  margin-bottom: 1em;\n",
       "}\n",
       "#h2o-table-1 .h2o-table caption {\n",
       "  white-space: nowrap;\n",
       "  caption-side: top;\n",
       "  text-align: left;\n",
       "  /* margin-left: 1em; */\n",
       "  margin: 0;\n",
       "  font-size: larger;\n",
       "}\n",
       "#h2o-table-1 .h2o-table thead {\n",
       "  white-space: nowrap; \n",
       "  position: sticky;\n",
       "  top: 0;\n",
       "  box-shadow: 0 -1px inset;\n",
       "}\n",
       "#h2o-table-1 .h2o-table tbody {\n",
       "  overflow: auto;\n",
       "}\n",
       "#h2o-table-1 .h2o-table th,\n",
       "#h2o-table-1 .h2o-table td {\n",
       "  text-align: right;\n",
       "  /* border: 1px solid; */\n",
       "}\n",
       "#h2o-table-1 .h2o-table tr:nth-child(even) {\n",
       "  /* background: #F5F5F5 */\n",
       "}\n",
       "\n",
       "</style>      \n",
       "<div id=\"h2o-table-1\" class=\"h2o-container\">\n",
       "  <table class=\"h2o-table\">\n",
       "    <caption></caption>\n",
       "    <thead></thead>\n",
       "    <tbody><tr><td>H2O_cluster_uptime:</td>\n",
       "<td>1 day 22 hours 23 mins</td></tr>\n",
       "<tr><td>H2O_cluster_timezone:</td>\n",
       "<td>America/Chicago</td></tr>\n",
       "<tr><td>H2O_data_parsing_timezone:</td>\n",
       "<td>UTC</td></tr>\n",
       "<tr><td>H2O_cluster_version:</td>\n",
       "<td>3.38.0.3</td></tr>\n",
       "<tr><td>H2O_cluster_version_age:</td>\n",
       "<td>23 days </td></tr>\n",
       "<tr><td>H2O_cluster_name:</td>\n",
       "<td>H2O_from_python_maschmidt87_tfbih7</td></tr>\n",
       "<tr><td>H2O_cluster_total_nodes:</td>\n",
       "<td>1</td></tr>\n",
       "<tr><td>H2O_cluster_free_memory:</td>\n",
       "<td>1.671 Gb</td></tr>\n",
       "<tr><td>H2O_cluster_total_cores:</td>\n",
       "<td>4</td></tr>\n",
       "<tr><td>H2O_cluster_allowed_cores:</td>\n",
       "<td>4</td></tr>\n",
       "<tr><td>H2O_cluster_status:</td>\n",
       "<td>locked, healthy</td></tr>\n",
       "<tr><td>H2O_connection_url:</td>\n",
       "<td>http://127.0.0.1:8080</td></tr>\n",
       "<tr><td>H2O_connection_proxy:</td>\n",
       "<td>{\"http\": null, \"https\": null}</td></tr>\n",
       "<tr><td>H2O_internal_security:</td>\n",
       "<td>False</td></tr>\n",
       "<tr><td>Python_version:</td>\n",
       "<td>3.9.12 final</td></tr></tbody>\n",
       "  </table>\n",
       "</div>\n"
      ],
      "text/plain": [
       "--------------------------  ----------------------------------\n",
       "H2O_cluster_uptime:         1 day 22 hours 23 mins\n",
       "H2O_cluster_timezone:       America/Chicago\n",
       "H2O_data_parsing_timezone:  UTC\n",
       "H2O_cluster_version:        3.38.0.3\n",
       "H2O_cluster_version_age:    23 days\n",
       "H2O_cluster_name:           H2O_from_python_maschmidt87_tfbih7\n",
       "H2O_cluster_total_nodes:    1\n",
       "H2O_cluster_free_memory:    1.671 Gb\n",
       "H2O_cluster_total_cores:    4\n",
       "H2O_cluster_allowed_cores:  4\n",
       "H2O_cluster_status:         locked, healthy\n",
       "H2O_connection_url:         http://127.0.0.1:8080\n",
       "H2O_connection_proxy:       {\"http\": null, \"https\": null}\n",
       "H2O_internal_security:      False\n",
       "Python_version:             3.9.12 final\n",
       "--------------------------  ----------------------------------"
      ]
     },
     "metadata": {},
     "output_type": "display_data"
    }
   ],
   "source": [
    "import h2o\n",
    "h2o.init(ip=\"127.0.0.1\", port=\"8080\")\n"
   ]
  },
  {
   "cell_type": "code",
   "execution_count": 65,
   "metadata": {},
   "outputs": [
    {
     "name": "stdout",
     "output_type": "stream",
     "text": [
      "Checking whether there is an H2O instance running at http://localhost:54321 . connected.\n"
     ]
    },
    {
     "data": {
      "text/html": [
       "\n",
       "<style>\n",
       "\n",
       "#h2o-table-2.h2o-container {\n",
       "  overflow-x: auto;\n",
       "}\n",
       "#h2o-table-2 .h2o-table {\n",
       "  /* width: 100%; */\n",
       "  margin-top: 1em;\n",
       "  margin-bottom: 1em;\n",
       "}\n",
       "#h2o-table-2 .h2o-table caption {\n",
       "  white-space: nowrap;\n",
       "  caption-side: top;\n",
       "  text-align: left;\n",
       "  /* margin-left: 1em; */\n",
       "  margin: 0;\n",
       "  font-size: larger;\n",
       "}\n",
       "#h2o-table-2 .h2o-table thead {\n",
       "  white-space: nowrap; \n",
       "  position: sticky;\n",
       "  top: 0;\n",
       "  box-shadow: 0 -1px inset;\n",
       "}\n",
       "#h2o-table-2 .h2o-table tbody {\n",
       "  overflow: auto;\n",
       "}\n",
       "#h2o-table-2 .h2o-table th,\n",
       "#h2o-table-2 .h2o-table td {\n",
       "  text-align: right;\n",
       "  /* border: 1px solid; */\n",
       "}\n",
       "#h2o-table-2 .h2o-table tr:nth-child(even) {\n",
       "  /* background: #F5F5F5 */\n",
       "}\n",
       "\n",
       "</style>      \n",
       "<div id=\"h2o-table-2\" class=\"h2o-container\">\n",
       "  <table class=\"h2o-table\">\n",
       "    <caption></caption>\n",
       "    <thead></thead>\n",
       "    <tbody><tr><td>H2O_cluster_uptime:</td>\n",
       "<td>1 day 22 hours 23 mins</td></tr>\n",
       "<tr><td>H2O_cluster_timezone:</td>\n",
       "<td>America/Chicago</td></tr>\n",
       "<tr><td>H2O_data_parsing_timezone:</td>\n",
       "<td>UTC</td></tr>\n",
       "<tr><td>H2O_cluster_version:</td>\n",
       "<td>3.38.0.3</td></tr>\n",
       "<tr><td>H2O_cluster_version_age:</td>\n",
       "<td>23 days </td></tr>\n",
       "<tr><td>H2O_cluster_name:</td>\n",
       "<td>H2O_from_python_maschmidt87_x19a7t</td></tr>\n",
       "<tr><td>H2O_cluster_total_nodes:</td>\n",
       "<td>1</td></tr>\n",
       "<tr><td>H2O_cluster_free_memory:</td>\n",
       "<td>1.571 Gb</td></tr>\n",
       "<tr><td>H2O_cluster_total_cores:</td>\n",
       "<td>4</td></tr>\n",
       "<tr><td>H2O_cluster_allowed_cores:</td>\n",
       "<td>4</td></tr>\n",
       "<tr><td>H2O_cluster_status:</td>\n",
       "<td>locked, healthy</td></tr>\n",
       "<tr><td>H2O_connection_url:</td>\n",
       "<td>http://localhost:54321</td></tr>\n",
       "<tr><td>H2O_connection_proxy:</td>\n",
       "<td>{\"http\": null, \"https\": null}</td></tr>\n",
       "<tr><td>H2O_internal_security:</td>\n",
       "<td>False</td></tr>\n",
       "<tr><td>Python_version:</td>\n",
       "<td>3.9.12 final</td></tr></tbody>\n",
       "  </table>\n",
       "</div>\n"
      ],
      "text/plain": [
       "--------------------------  ----------------------------------\n",
       "H2O_cluster_uptime:         1 day 22 hours 23 mins\n",
       "H2O_cluster_timezone:       America/Chicago\n",
       "H2O_data_parsing_timezone:  UTC\n",
       "H2O_cluster_version:        3.38.0.3\n",
       "H2O_cluster_version_age:    23 days\n",
       "H2O_cluster_name:           H2O_from_python_maschmidt87_x19a7t\n",
       "H2O_cluster_total_nodes:    1\n",
       "H2O_cluster_free_memory:    1.571 Gb\n",
       "H2O_cluster_total_cores:    4\n",
       "H2O_cluster_allowed_cores:  4\n",
       "H2O_cluster_status:         locked, healthy\n",
       "H2O_connection_url:         http://localhost:54321\n",
       "H2O_connection_proxy:       {\"http\": null, \"https\": null}\n",
       "H2O_internal_security:      False\n",
       "Python_version:             3.9.12 final\n",
       "--------------------------  ----------------------------------"
      ]
     },
     "metadata": {},
     "output_type": "display_data"
    }
   ],
   "source": [
    "import h2o\n",
    "from h2o.automl import H2OAutoML\n",
    "\n",
    "# Start the H2O cluster (locally)\n",
    "h2o.init()\n"
   ]
  },
  {
   "cell_type": "code",
   "execution_count": 66,
   "metadata": {},
   "outputs": [
    {
     "name": "stdout",
     "output_type": "stream",
     "text": [
      "Parse progress: |████████████████████████████████████████████████████████████████| (done) 100%\n"
     ]
    },
    {
     "data": {
      "text/html": [
       "<table class='dataframe'>\n",
       "<thead>\n",
       "<tr><th style=\"text-align: right;\">  const</th><th style=\"text-align: right;\">  Year</th><th style=\"text-align: right;\">  Mileage</th><th style=\"text-align: right;\">  Power</th><th style=\"text-align: right;\">  Seats</th><th style=\"text-align: right;\">  kilometers_driven_log</th><th style=\"text-align: right;\">  Location_Bangalore</th><th style=\"text-align: right;\">  Location_Chennai</th><th style=\"text-align: right;\">  Location_Coimbatore</th><th style=\"text-align: right;\">  Location_Delhi</th><th style=\"text-align: right;\">  Location_Hyderabad</th><th style=\"text-align: right;\">  Location_Jaipur</th><th style=\"text-align: right;\">  Location_Kochi</th><th style=\"text-align: right;\">  Location_Kolkata</th><th style=\"text-align: right;\">  Location_Mumbai</th><th style=\"text-align: right;\">  Location_Pune</th><th style=\"text-align: right;\">  Fuel_Type_Diesel</th><th style=\"text-align: right;\">  Fuel_Type_Electric</th><th style=\"text-align: right;\">  Fuel_Type_LPG</th><th style=\"text-align: right;\">  Transmission_Manual</th><th style=\"text-align: right;\">  Owner_Type_Fourth &amp; Above</th><th style=\"text-align: right;\">  Owner_Type_Second</th><th style=\"text-align: right;\">  Owner_Type_Third</th><th style=\"text-align: right;\">  Brand_Audi</th><th style=\"text-align: right;\">  Brand_BMW</th><th style=\"text-align: right;\">  Brand_Bentley</th><th style=\"text-align: right;\">  Brand_Chevrolet</th><th style=\"text-align: right;\">  Brand_Datsun</th><th style=\"text-align: right;\">  Brand_Fiat</th><th style=\"text-align: right;\">  Brand_Force</th><th style=\"text-align: right;\">  Brand_Ford</th><th style=\"text-align: right;\">  Brand_Hindustan</th><th style=\"text-align: right;\">  Brand_Honda</th><th style=\"text-align: right;\">  Brand_Hyundai</th><th style=\"text-align: right;\">  Brand_ISUZU</th><th style=\"text-align: right;\">  Brand_Isuzu</th><th style=\"text-align: right;\">  Brand_Jaguar</th><th style=\"text-align: right;\">  Brand_Jeep</th><th style=\"text-align: right;\">  Brand_Land</th><th style=\"text-align: right;\">  Brand_Mahindra</th><th style=\"text-align: right;\">  Brand_Mercedes-Benz</th><th style=\"text-align: right;\">  Brand_Mini</th><th style=\"text-align: right;\">  Brand_Mitsubishi</th><th style=\"text-align: right;\">  Brand_Nissan</th><th style=\"text-align: right;\">  Brand_OpelCorsa</th><th style=\"text-align: right;\">  Brand_Porsche</th><th style=\"text-align: right;\">  Brand_Renault</th><th style=\"text-align: right;\">  Brand_Skoda</th><th style=\"text-align: right;\">  Brand_Smart</th><th style=\"text-align: right;\">  Brand_Tata</th><th style=\"text-align: right;\">  Brand_Toyota</th><th style=\"text-align: right;\">  Brand_Volkswagen</th><th style=\"text-align: right;\">  Brand_Volvo</th><th style=\"text-align: right;\">  Price_log</th></tr>\n",
       "</thead>\n",
       "<tbody>\n",
       "<tr><td style=\"text-align: right;\">      1</td><td style=\"text-align: right;\">  2015</td><td style=\"text-align: right;\">    11.74</td><td style=\"text-align: right;\"> 186   </td><td style=\"text-align: right;\">      5</td><td style=\"text-align: right;\">               10.9682 </td><td style=\"text-align: right;\">                   0</td><td style=\"text-align: right;\">                 0</td><td style=\"text-align: right;\">                    0</td><td style=\"text-align: right;\">               1</td><td style=\"text-align: right;\">                   0</td><td style=\"text-align: right;\">                0</td><td style=\"text-align: right;\">               0</td><td style=\"text-align: right;\">                 0</td><td style=\"text-align: right;\">                0</td><td style=\"text-align: right;\">              0</td><td style=\"text-align: right;\">                 0</td><td style=\"text-align: right;\">                   0</td><td style=\"text-align: right;\">              0</td><td style=\"text-align: right;\">                    0</td><td style=\"text-align: right;\">                          0</td><td style=\"text-align: right;\">                  0</td><td style=\"text-align: right;\">                 0</td><td style=\"text-align: right;\">           0</td><td style=\"text-align: right;\">          0</td><td style=\"text-align: right;\">              0</td><td style=\"text-align: right;\">                0</td><td style=\"text-align: right;\">             0</td><td style=\"text-align: right;\">           0</td><td style=\"text-align: right;\">            0</td><td style=\"text-align: right;\">           0</td><td style=\"text-align: right;\">                0</td><td style=\"text-align: right;\">            0</td><td style=\"text-align: right;\">              0</td><td style=\"text-align: right;\">            0</td><td style=\"text-align: right;\">            0</td><td style=\"text-align: right;\">             0</td><td style=\"text-align: right;\">           0</td><td style=\"text-align: right;\">           0</td><td style=\"text-align: right;\">               0</td><td style=\"text-align: right;\">                    1</td><td style=\"text-align: right;\">           0</td><td style=\"text-align: right;\">                 0</td><td style=\"text-align: right;\">             0</td><td style=\"text-align: right;\">                0</td><td style=\"text-align: right;\">              0</td><td style=\"text-align: right;\">              0</td><td style=\"text-align: right;\">            0</td><td style=\"text-align: right;\">            0</td><td style=\"text-align: right;\">           0</td><td style=\"text-align: right;\">             0</td><td style=\"text-align: right;\">                 0</td><td style=\"text-align: right;\">            0</td><td style=\"text-align: right;\">   3.28466 </td></tr>\n",
       "<tr><td style=\"text-align: right;\">      1</td><td style=\"text-align: right;\">  2008</td><td style=\"text-align: right;\">    15   </td><td style=\"text-align: right;\"> 105   </td><td style=\"text-align: right;\">      5</td><td style=\"text-align: right;\">               11.783  </td><td style=\"text-align: right;\">                   0</td><td style=\"text-align: right;\">                 0</td><td style=\"text-align: right;\">                    0</td><td style=\"text-align: right;\">               0</td><td style=\"text-align: right;\">                   1</td><td style=\"text-align: right;\">                0</td><td style=\"text-align: right;\">               0</td><td style=\"text-align: right;\">                 0</td><td style=\"text-align: right;\">                0</td><td style=\"text-align: right;\">              0</td><td style=\"text-align: right;\">                 1</td><td style=\"text-align: right;\">                   0</td><td style=\"text-align: right;\">              0</td><td style=\"text-align: right;\">                    1</td><td style=\"text-align: right;\">                          0</td><td style=\"text-align: right;\">                  0</td><td style=\"text-align: right;\">                 0</td><td style=\"text-align: right;\">           0</td><td style=\"text-align: right;\">          0</td><td style=\"text-align: right;\">              0</td><td style=\"text-align: right;\">                0</td><td style=\"text-align: right;\">             0</td><td style=\"text-align: right;\">           0</td><td style=\"text-align: right;\">            0</td><td style=\"text-align: right;\">           0</td><td style=\"text-align: right;\">                0</td><td style=\"text-align: right;\">            0</td><td style=\"text-align: right;\">              0</td><td style=\"text-align: right;\">            0</td><td style=\"text-align: right;\">            0</td><td style=\"text-align: right;\">             0</td><td style=\"text-align: right;\">           0</td><td style=\"text-align: right;\">           0</td><td style=\"text-align: right;\">               0</td><td style=\"text-align: right;\">                    0</td><td style=\"text-align: right;\">           0</td><td style=\"text-align: right;\">                 0</td><td style=\"text-align: right;\">             0</td><td style=\"text-align: right;\">                0</td><td style=\"text-align: right;\">              0</td><td style=\"text-align: right;\">              0</td><td style=\"text-align: right;\">            0</td><td style=\"text-align: right;\">            0</td><td style=\"text-align: right;\">           0</td><td style=\"text-align: right;\">             0</td><td style=\"text-align: right;\">                 1</td><td style=\"text-align: right;\">            0</td><td style=\"text-align: right;\">   1.90211 </td></tr>\n",
       "<tr><td style=\"text-align: right;\">      1</td><td style=\"text-align: right;\">  2016</td><td style=\"text-align: right;\">    18.15</td><td style=\"text-align: right;\">  82   </td><td style=\"text-align: right;\">      6</td><td style=\"text-align: right;\">               10.0869 </td><td style=\"text-align: right;\">                   0</td><td style=\"text-align: right;\">                 0</td><td style=\"text-align: right;\">                    0</td><td style=\"text-align: right;\">               0</td><td style=\"text-align: right;\">                   1</td><td style=\"text-align: right;\">                0</td><td style=\"text-align: right;\">               0</td><td style=\"text-align: right;\">                 0</td><td style=\"text-align: right;\">                0</td><td style=\"text-align: right;\">              0</td><td style=\"text-align: right;\">                 0</td><td style=\"text-align: right;\">                   0</td><td style=\"text-align: right;\">              0</td><td style=\"text-align: right;\">                    1</td><td style=\"text-align: right;\">                          0</td><td style=\"text-align: right;\">                  0</td><td style=\"text-align: right;\">                 0</td><td style=\"text-align: right;\">           0</td><td style=\"text-align: right;\">          0</td><td style=\"text-align: right;\">              0</td><td style=\"text-align: right;\">                0</td><td style=\"text-align: right;\">             0</td><td style=\"text-align: right;\">           0</td><td style=\"text-align: right;\">            0</td><td style=\"text-align: right;\">           0</td><td style=\"text-align: right;\">                0</td><td style=\"text-align: right;\">            0</td><td style=\"text-align: right;\">              0</td><td style=\"text-align: right;\">            0</td><td style=\"text-align: right;\">            0</td><td style=\"text-align: right;\">             0</td><td style=\"text-align: right;\">           0</td><td style=\"text-align: right;\">           0</td><td style=\"text-align: right;\">               1</td><td style=\"text-align: right;\">                    0</td><td style=\"text-align: right;\">           0</td><td style=\"text-align: right;\">                 0</td><td style=\"text-align: right;\">             0</td><td style=\"text-align: right;\">                0</td><td style=\"text-align: right;\">              0</td><td style=\"text-align: right;\">              0</td><td style=\"text-align: right;\">            0</td><td style=\"text-align: right;\">            0</td><td style=\"text-align: right;\">           0</td><td style=\"text-align: right;\">             0</td><td style=\"text-align: right;\">                 0</td><td style=\"text-align: right;\">            0</td><td style=\"text-align: right;\">   1.41099 </td></tr>\n",
       "<tr><td style=\"text-align: right;\">      1</td><td style=\"text-align: right;\">  2016</td><td style=\"text-align: right;\">    15.8 </td><td style=\"text-align: right;\"> 121.3 </td><td style=\"text-align: right;\">      5</td><td style=\"text-align: right;\">               10.1002 </td><td style=\"text-align: right;\">                   0</td><td style=\"text-align: right;\">                 0</td><td style=\"text-align: right;\">                    0</td><td style=\"text-align: right;\">               1</td><td style=\"text-align: right;\">                   0</td><td style=\"text-align: right;\">                0</td><td style=\"text-align: right;\">               0</td><td style=\"text-align: right;\">                 0</td><td style=\"text-align: right;\">                0</td><td style=\"text-align: right;\">              0</td><td style=\"text-align: right;\">                 0</td><td style=\"text-align: right;\">                   0</td><td style=\"text-align: right;\">              0</td><td style=\"text-align: right;\">                    1</td><td style=\"text-align: right;\">                          0</td><td style=\"text-align: right;\">                  0</td><td style=\"text-align: right;\">                 0</td><td style=\"text-align: right;\">           0</td><td style=\"text-align: right;\">          0</td><td style=\"text-align: right;\">              0</td><td style=\"text-align: right;\">                0</td><td style=\"text-align: right;\">             0</td><td style=\"text-align: right;\">           0</td><td style=\"text-align: right;\">            0</td><td style=\"text-align: right;\">           0</td><td style=\"text-align: right;\">                0</td><td style=\"text-align: right;\">            0</td><td style=\"text-align: right;\">              1</td><td style=\"text-align: right;\">            0</td><td style=\"text-align: right;\">            0</td><td style=\"text-align: right;\">             0</td><td style=\"text-align: right;\">           0</td><td style=\"text-align: right;\">           0</td><td style=\"text-align: right;\">               0</td><td style=\"text-align: right;\">                    0</td><td style=\"text-align: right;\">           0</td><td style=\"text-align: right;\">                 0</td><td style=\"text-align: right;\">             0</td><td style=\"text-align: right;\">                0</td><td style=\"text-align: right;\">              0</td><td style=\"text-align: right;\">              0</td><td style=\"text-align: right;\">            0</td><td style=\"text-align: right;\">            0</td><td style=\"text-align: right;\">           0</td><td style=\"text-align: right;\">             0</td><td style=\"text-align: right;\">                 0</td><td style=\"text-align: right;\">            0</td><td style=\"text-align: right;\">   2.3979  </td></tr>\n",
       "<tr><td style=\"text-align: right;\">      1</td><td style=\"text-align: right;\">  2015</td><td style=\"text-align: right;\">    15.1 </td><td style=\"text-align: right;\"> 140   </td><td style=\"text-align: right;\">      7</td><td style=\"text-align: right;\">               10.5799 </td><td style=\"text-align: right;\">                   0</td><td style=\"text-align: right;\">                 0</td><td style=\"text-align: right;\">                    1</td><td style=\"text-align: right;\">               0</td><td style=\"text-align: right;\">                   0</td><td style=\"text-align: right;\">                0</td><td style=\"text-align: right;\">               0</td><td style=\"text-align: right;\">                 0</td><td style=\"text-align: right;\">                0</td><td style=\"text-align: right;\">              0</td><td style=\"text-align: right;\">                 1</td><td style=\"text-align: right;\">                   0</td><td style=\"text-align: right;\">              0</td><td style=\"text-align: right;\">                    1</td><td style=\"text-align: right;\">                          0</td><td style=\"text-align: right;\">                  0</td><td style=\"text-align: right;\">                 0</td><td style=\"text-align: right;\">           0</td><td style=\"text-align: right;\">          0</td><td style=\"text-align: right;\">              0</td><td style=\"text-align: right;\">                0</td><td style=\"text-align: right;\">             0</td><td style=\"text-align: right;\">           0</td><td style=\"text-align: right;\">            0</td><td style=\"text-align: right;\">           0</td><td style=\"text-align: right;\">                0</td><td style=\"text-align: right;\">            0</td><td style=\"text-align: right;\">              0</td><td style=\"text-align: right;\">            0</td><td style=\"text-align: right;\">            0</td><td style=\"text-align: right;\">             0</td><td style=\"text-align: right;\">           0</td><td style=\"text-align: right;\">           0</td><td style=\"text-align: right;\">               1</td><td style=\"text-align: right;\">                    0</td><td style=\"text-align: right;\">           0</td><td style=\"text-align: right;\">                 0</td><td style=\"text-align: right;\">             0</td><td style=\"text-align: right;\">                0</td><td style=\"text-align: right;\">              0</td><td style=\"text-align: right;\">              0</td><td style=\"text-align: right;\">            0</td><td style=\"text-align: right;\">            0</td><td style=\"text-align: right;\">           0</td><td style=\"text-align: right;\">             0</td><td style=\"text-align: right;\">                 0</td><td style=\"text-align: right;\">            0</td><td style=\"text-align: right;\">   2.53607 </td></tr>\n",
       "<tr><td style=\"text-align: right;\">      1</td><td style=\"text-align: right;\">  2016</td><td style=\"text-align: right;\">    18.5 </td><td style=\"text-align: right;\">  85.8 </td><td style=\"text-align: right;\">      5</td><td style=\"text-align: right;\">               10.0331 </td><td style=\"text-align: right;\">                   0</td><td style=\"text-align: right;\">                 0</td><td style=\"text-align: right;\">                    1</td><td style=\"text-align: right;\">               0</td><td style=\"text-align: right;\">                   0</td><td style=\"text-align: right;\">                0</td><td style=\"text-align: right;\">               0</td><td style=\"text-align: right;\">                 0</td><td style=\"text-align: right;\">                0</td><td style=\"text-align: right;\">              0</td><td style=\"text-align: right;\">                 0</td><td style=\"text-align: right;\">                   0</td><td style=\"text-align: right;\">              0</td><td style=\"text-align: right;\">                    1</td><td style=\"text-align: right;\">                          0</td><td style=\"text-align: right;\">                  0</td><td style=\"text-align: right;\">                 0</td><td style=\"text-align: right;\">           0</td><td style=\"text-align: right;\">          0</td><td style=\"text-align: right;\">              0</td><td style=\"text-align: right;\">                0</td><td style=\"text-align: right;\">             0</td><td style=\"text-align: right;\">           0</td><td style=\"text-align: right;\">            0</td><td style=\"text-align: right;\">           0</td><td style=\"text-align: right;\">                0</td><td style=\"text-align: right;\">            0</td><td style=\"text-align: right;\">              0</td><td style=\"text-align: right;\">            0</td><td style=\"text-align: right;\">            0</td><td style=\"text-align: right;\">             0</td><td style=\"text-align: right;\">           0</td><td style=\"text-align: right;\">           0</td><td style=\"text-align: right;\">               0</td><td style=\"text-align: right;\">                    0</td><td style=\"text-align: right;\">           0</td><td style=\"text-align: right;\">                 0</td><td style=\"text-align: right;\">             0</td><td style=\"text-align: right;\">                0</td><td style=\"text-align: right;\">              0</td><td style=\"text-align: right;\">              0</td><td style=\"text-align: right;\">            0</td><td style=\"text-align: right;\">            0</td><td style=\"text-align: right;\">           0</td><td style=\"text-align: right;\">             0</td><td style=\"text-align: right;\">                 0</td><td style=\"text-align: right;\">            0</td><td style=\"text-align: right;\">   1.81482 </td></tr>\n",
       "<tr><td style=\"text-align: right;\">      1</td><td style=\"text-align: right;\">  2017</td><td style=\"text-align: right;\">    17   </td><td style=\"text-align: right;\"> 121.36</td><td style=\"text-align: right;\">      5</td><td style=\"text-align: right;\">                9.98967</td><td style=\"text-align: right;\">                   0</td><td style=\"text-align: right;\">                 0</td><td style=\"text-align: right;\">                    0</td><td style=\"text-align: right;\">               0</td><td style=\"text-align: right;\">                   1</td><td style=\"text-align: right;\">                0</td><td style=\"text-align: right;\">               0</td><td style=\"text-align: right;\">                 0</td><td style=\"text-align: right;\">                0</td><td style=\"text-align: right;\">              0</td><td style=\"text-align: right;\">                 0</td><td style=\"text-align: right;\">                   0</td><td style=\"text-align: right;\">              0</td><td style=\"text-align: right;\">                    1</td><td style=\"text-align: right;\">                          0</td><td style=\"text-align: right;\">                  0</td><td style=\"text-align: right;\">                 0</td><td style=\"text-align: right;\">           0</td><td style=\"text-align: right;\">          0</td><td style=\"text-align: right;\">              0</td><td style=\"text-align: right;\">                0</td><td style=\"text-align: right;\">             0</td><td style=\"text-align: right;\">           0</td><td style=\"text-align: right;\">            0</td><td style=\"text-align: right;\">           1</td><td style=\"text-align: right;\">                0</td><td style=\"text-align: right;\">            0</td><td style=\"text-align: right;\">              0</td><td style=\"text-align: right;\">            0</td><td style=\"text-align: right;\">            0</td><td style=\"text-align: right;\">             0</td><td style=\"text-align: right;\">           0</td><td style=\"text-align: right;\">           0</td><td style=\"text-align: right;\">               0</td><td style=\"text-align: right;\">                    0</td><td style=\"text-align: right;\">           0</td><td style=\"text-align: right;\">                 0</td><td style=\"text-align: right;\">             0</td><td style=\"text-align: right;\">                0</td><td style=\"text-align: right;\">              0</td><td style=\"text-align: right;\">              0</td><td style=\"text-align: right;\">            0</td><td style=\"text-align: right;\">            0</td><td style=\"text-align: right;\">           0</td><td style=\"text-align: right;\">             0</td><td style=\"text-align: right;\">                 0</td><td style=\"text-align: right;\">            0</td><td style=\"text-align: right;\">   2.16905 </td></tr>\n",
       "<tr><td style=\"text-align: right;\">      1</td><td style=\"text-align: right;\">  2013</td><td style=\"text-align: right;\">    14.21</td><td style=\"text-align: right;\"> 203   </td><td style=\"text-align: right;\">      5</td><td style=\"text-align: right;\">               10.779  </td><td style=\"text-align: right;\">                   1</td><td style=\"text-align: right;\">                 0</td><td style=\"text-align: right;\">                    0</td><td style=\"text-align: right;\">               0</td><td style=\"text-align: right;\">                   0</td><td style=\"text-align: right;\">                0</td><td style=\"text-align: right;\">               0</td><td style=\"text-align: right;\">                 0</td><td style=\"text-align: right;\">                0</td><td style=\"text-align: right;\">              0</td><td style=\"text-align: right;\">                 1</td><td style=\"text-align: right;\">                   0</td><td style=\"text-align: right;\">              0</td><td style=\"text-align: right;\">                    0</td><td style=\"text-align: right;\">                          0</td><td style=\"text-align: right;\">                  0</td><td style=\"text-align: right;\">                 0</td><td style=\"text-align: right;\">           0</td><td style=\"text-align: right;\">          0</td><td style=\"text-align: right;\">              0</td><td style=\"text-align: right;\">                0</td><td style=\"text-align: right;\">             0</td><td style=\"text-align: right;\">           0</td><td style=\"text-align: right;\">            0</td><td style=\"text-align: right;\">           0</td><td style=\"text-align: right;\">                0</td><td style=\"text-align: right;\">            0</td><td style=\"text-align: right;\">              0</td><td style=\"text-align: right;\">            0</td><td style=\"text-align: right;\">            0</td><td style=\"text-align: right;\">             0</td><td style=\"text-align: right;\">           0</td><td style=\"text-align: right;\">           0</td><td style=\"text-align: right;\">               0</td><td style=\"text-align: right;\">                    1</td><td style=\"text-align: right;\">           0</td><td style=\"text-align: right;\">                 0</td><td style=\"text-align: right;\">             0</td><td style=\"text-align: right;\">                0</td><td style=\"text-align: right;\">              0</td><td style=\"text-align: right;\">              0</td><td style=\"text-align: right;\">            0</td><td style=\"text-align: right;\">            0</td><td style=\"text-align: right;\">           0</td><td style=\"text-align: right;\">             0</td><td style=\"text-align: right;\">                 0</td><td style=\"text-align: right;\">            0</td><td style=\"text-align: right;\">   3.09104 </td></tr>\n",
       "<tr><td style=\"text-align: right;\">      1</td><td style=\"text-align: right;\">  2015</td><td style=\"text-align: right;\">    25.2 </td><td style=\"text-align: right;\">  74   </td><td style=\"text-align: right;\">      5</td><td style=\"text-align: right;\">               11.0037 </td><td style=\"text-align: right;\">                   0</td><td style=\"text-align: right;\">                 0</td><td style=\"text-align: right;\">                    0</td><td style=\"text-align: right;\">               1</td><td style=\"text-align: right;\">                   0</td><td style=\"text-align: right;\">                0</td><td style=\"text-align: right;\">               0</td><td style=\"text-align: right;\">                 0</td><td style=\"text-align: right;\">                0</td><td style=\"text-align: right;\">              0</td><td style=\"text-align: right;\">                 1</td><td style=\"text-align: right;\">                   0</td><td style=\"text-align: right;\">              0</td><td style=\"text-align: right;\">                    1</td><td style=\"text-align: right;\">                          0</td><td style=\"text-align: right;\">                  0</td><td style=\"text-align: right;\">                 0</td><td style=\"text-align: right;\">           0</td><td style=\"text-align: right;\">          0</td><td style=\"text-align: right;\">              0</td><td style=\"text-align: right;\">                0</td><td style=\"text-align: right;\">             0</td><td style=\"text-align: right;\">           0</td><td style=\"text-align: right;\">            0</td><td style=\"text-align: right;\">           0</td><td style=\"text-align: right;\">                0</td><td style=\"text-align: right;\">            0</td><td style=\"text-align: right;\">              0</td><td style=\"text-align: right;\">            0</td><td style=\"text-align: right;\">            0</td><td style=\"text-align: right;\">             0</td><td style=\"text-align: right;\">           0</td><td style=\"text-align: right;\">           0</td><td style=\"text-align: right;\">               0</td><td style=\"text-align: right;\">                    0</td><td style=\"text-align: right;\">           0</td><td style=\"text-align: right;\">                 0</td><td style=\"text-align: right;\">             0</td><td style=\"text-align: right;\">                0</td><td style=\"text-align: right;\">              0</td><td style=\"text-align: right;\">              0</td><td style=\"text-align: right;\">            0</td><td style=\"text-align: right;\">            0</td><td style=\"text-align: right;\">           0</td><td style=\"text-align: right;\">             0</td><td style=\"text-align: right;\">                 0</td><td style=\"text-align: right;\">            0</td><td style=\"text-align: right;\">   1.55814 </td></tr>\n",
       "<tr><td style=\"text-align: right;\">      1</td><td style=\"text-align: right;\">  2012</td><td style=\"text-align: right;\">    19.7 </td><td style=\"text-align: right;\">  46.3 </td><td style=\"text-align: right;\">      5</td><td style=\"text-align: right;\">               11.1146 </td><td style=\"text-align: right;\">                   0</td><td style=\"text-align: right;\">                 0</td><td style=\"text-align: right;\">                    0</td><td style=\"text-align: right;\">               0</td><td style=\"text-align: right;\">                   1</td><td style=\"text-align: right;\">                0</td><td style=\"text-align: right;\">               0</td><td style=\"text-align: right;\">                 0</td><td style=\"text-align: right;\">                0</td><td style=\"text-align: right;\">              0</td><td style=\"text-align: right;\">                 0</td><td style=\"text-align: right;\">                   0</td><td style=\"text-align: right;\">              0</td><td style=\"text-align: right;\">                    1</td><td style=\"text-align: right;\">                          0</td><td style=\"text-align: right;\">                  0</td><td style=\"text-align: right;\">                 0</td><td style=\"text-align: right;\">           0</td><td style=\"text-align: right;\">          0</td><td style=\"text-align: right;\">              0</td><td style=\"text-align: right;\">                0</td><td style=\"text-align: right;\">             0</td><td style=\"text-align: right;\">           0</td><td style=\"text-align: right;\">            0</td><td style=\"text-align: right;\">           0</td><td style=\"text-align: right;\">                0</td><td style=\"text-align: right;\">            0</td><td style=\"text-align: right;\">              0</td><td style=\"text-align: right;\">            0</td><td style=\"text-align: right;\">            0</td><td style=\"text-align: right;\">             0</td><td style=\"text-align: right;\">           0</td><td style=\"text-align: right;\">           0</td><td style=\"text-align: right;\">               0</td><td style=\"text-align: right;\">                    0</td><td style=\"text-align: right;\">           0</td><td style=\"text-align: right;\">                 0</td><td style=\"text-align: right;\">             0</td><td style=\"text-align: right;\">                0</td><td style=\"text-align: right;\">              0</td><td style=\"text-align: right;\">              0</td><td style=\"text-align: right;\">            0</td><td style=\"text-align: right;\">            0</td><td style=\"text-align: right;\">           0</td><td style=\"text-align: right;\">             0</td><td style=\"text-align: right;\">                 0</td><td style=\"text-align: right;\">            0</td><td style=\"text-align: right;\">   0.955511</td></tr>\n",
       "</tbody>\n",
       "</table><pre style='font-size: smaller; margin-bottom: 1em;'>[5074 rows x 54 columns]</pre>"
      ],
      "text/plain": [
       "  const    Year    Mileage    Power    Seats    kilometers_driven_log    Location_Bangalore    Location_Chennai    Location_Coimbatore    Location_Delhi    Location_Hyderabad    Location_Jaipur    Location_Kochi    Location_Kolkata    Location_Mumbai    Location_Pune    Fuel_Type_Diesel    Fuel_Type_Electric    Fuel_Type_LPG    Transmission_Manual    Owner_Type_Fourth & Above    Owner_Type_Second    Owner_Type_Third    Brand_Audi    Brand_BMW    Brand_Bentley    Brand_Chevrolet    Brand_Datsun    Brand_Fiat    Brand_Force    Brand_Ford    Brand_Hindustan    Brand_Honda    Brand_Hyundai    Brand_ISUZU    Brand_Isuzu    Brand_Jaguar    Brand_Jeep    Brand_Land    Brand_Mahindra    Brand_Mercedes-Benz    Brand_Mini    Brand_Mitsubishi    Brand_Nissan    Brand_OpelCorsa    Brand_Porsche    Brand_Renault    Brand_Skoda    Brand_Smart    Brand_Tata    Brand_Toyota    Brand_Volkswagen    Brand_Volvo    Price_log\n",
       "-------  ------  ---------  -------  -------  -----------------------  --------------------  ------------------  ---------------------  ----------------  --------------------  -----------------  ----------------  ------------------  -----------------  ---------------  ------------------  --------------------  ---------------  ---------------------  ---------------------------  -------------------  ------------------  ------------  -----------  ---------------  -----------------  --------------  ------------  -------------  ------------  -----------------  -------------  ---------------  -------------  -------------  --------------  ------------  ------------  ----------------  ---------------------  ------------  ------------------  --------------  -----------------  ---------------  ---------------  -------------  -------------  ------------  --------------  ------------------  -------------  -----------\n",
       "      1    2015      11.74   186           5                 10.9682                      0                   0                      0                 1                     0                  0                 0                   0                  0                0                   0                     0                0                      0                            0                    0                   0             0            0                0                  0               0             0              0             0                  0              0                0              0              0               0             0             0                 0                      1             0                   0               0                  0                0                0              0              0             0               0                   0              0     3.28466\n",
       "      1    2008      15      105           5                 11.783                       0                   0                      0                 0                     1                  0                 0                   0                  0                0                   1                     0                0                      1                            0                    0                   0             0            0                0                  0               0             0              0             0                  0              0                0              0              0               0             0             0                 0                      0             0                   0               0                  0                0                0              0              0             0               0                   1              0     1.90211\n",
       "      1    2016      18.15    82           6                 10.0869                      0                   0                      0                 0                     1                  0                 0                   0                  0                0                   0                     0                0                      1                            0                    0                   0             0            0                0                  0               0             0              0             0                  0              0                0              0              0               0             0             0                 1                      0             0                   0               0                  0                0                0              0              0             0               0                   0              0     1.41099\n",
       "      1    2016      15.8    121.3         5                 10.1002                      0                   0                      0                 1                     0                  0                 0                   0                  0                0                   0                     0                0                      1                            0                    0                   0             0            0                0                  0               0             0              0             0                  0              0                1              0              0               0             0             0                 0                      0             0                   0               0                  0                0                0              0              0             0               0                   0              0     2.3979\n",
       "      1    2015      15.1    140           7                 10.5799                      0                   0                      1                 0                     0                  0                 0                   0                  0                0                   1                     0                0                      1                            0                    0                   0             0            0                0                  0               0             0              0             0                  0              0                0              0              0               0             0             0                 1                      0             0                   0               0                  0                0                0              0              0             0               0                   0              0     2.53607\n",
       "      1    2016      18.5     85.8         5                 10.0331                      0                   0                      1                 0                     0                  0                 0                   0                  0                0                   0                     0                0                      1                            0                    0                   0             0            0                0                  0               0             0              0             0                  0              0                0              0              0               0             0             0                 0                      0             0                   0               0                  0                0                0              0              0             0               0                   0              0     1.81482\n",
       "      1    2017      17      121.36        5                  9.98967                     0                   0                      0                 0                     1                  0                 0                   0                  0                0                   0                     0                0                      1                            0                    0                   0             0            0                0                  0               0             0              0             1                  0              0                0              0              0               0             0             0                 0                      0             0                   0               0                  0                0                0              0              0             0               0                   0              0     2.16905\n",
       "      1    2013      14.21   203           5                 10.779                       1                   0                      0                 0                     0                  0                 0                   0                  0                0                   1                     0                0                      0                            0                    0                   0             0            0                0                  0               0             0              0             0                  0              0                0              0              0               0             0             0                 0                      1             0                   0               0                  0                0                0              0              0             0               0                   0              0     3.09104\n",
       "      1    2015      25.2     74           5                 11.0037                      0                   0                      0                 1                     0                  0                 0                   0                  0                0                   1                     0                0                      1                            0                    0                   0             0            0                0                  0               0             0              0             0                  0              0                0              0              0               0             0             0                 0                      0             0                   0               0                  0                0                0              0              0             0               0                   0              0     1.55814\n",
       "      1    2012      19.7     46.3         5                 11.1146                      0                   0                      0                 0                     1                  0                 0                   0                  0                0                   0                     0                0                      1                            0                    0                   0             0            0                0                  0               0             0              0             0                  0              0                0              0              0               0             0             0                 0                      0             0                   0               0                  0                0                0              0              0             0               0                   0              0     0.955511\n",
       "[5074 rows x 54 columns]\n"
      ]
     },
     "execution_count": 66,
     "metadata": {},
     "output_type": "execute_result"
    }
   ],
   "source": [
    "#Create training data set and convert to H2o dataframe\n",
    "train = X_train\n",
    "train['Price_log']=y_train[target]\n",
    "train = h2o.H2OFrame(train)\n",
    "X_train_col= list(X_train.columns)\n",
    "train"
   ]
  },
  {
   "cell_type": "code",
   "execution_count": 67,
   "metadata": {},
   "outputs": [
    {
     "name": "stdout",
     "output_type": "stream",
     "text": [
      "Parse progress: |████████████████████████████████████████████████████████████████| (done) 100%\n"
     ]
    },
    {
     "data": {
      "text/html": [
       "<table class='dataframe'>\n",
       "<thead>\n",
       "<tr><th style=\"text-align: right;\">  const</th><th style=\"text-align: right;\">  Year</th><th style=\"text-align: right;\">  Mileage</th><th style=\"text-align: right;\">  Power</th><th style=\"text-align: right;\">  Seats</th><th style=\"text-align: right;\">  kilometers_driven_log</th><th style=\"text-align: right;\">  Location_Bangalore</th><th style=\"text-align: right;\">  Location_Chennai</th><th style=\"text-align: right;\">  Location_Coimbatore</th><th style=\"text-align: right;\">  Location_Delhi</th><th style=\"text-align: right;\">  Location_Hyderabad</th><th style=\"text-align: right;\">  Location_Jaipur</th><th style=\"text-align: right;\">  Location_Kochi</th><th style=\"text-align: right;\">  Location_Kolkata</th><th style=\"text-align: right;\">  Location_Mumbai</th><th style=\"text-align: right;\">  Location_Pune</th><th style=\"text-align: right;\">  Fuel_Type_Diesel</th><th style=\"text-align: right;\">  Fuel_Type_Electric</th><th style=\"text-align: right;\">  Fuel_Type_LPG</th><th style=\"text-align: right;\">  Transmission_Manual</th><th style=\"text-align: right;\">  Owner_Type_Fourth &amp; Above</th><th style=\"text-align: right;\">  Owner_Type_Second</th><th style=\"text-align: right;\">  Owner_Type_Third</th><th style=\"text-align: right;\">  Brand_Audi</th><th style=\"text-align: right;\">  Brand_BMW</th><th style=\"text-align: right;\">  Brand_Bentley</th><th style=\"text-align: right;\">  Brand_Chevrolet</th><th style=\"text-align: right;\">  Brand_Datsun</th><th style=\"text-align: right;\">  Brand_Fiat</th><th style=\"text-align: right;\">  Brand_Force</th><th style=\"text-align: right;\">  Brand_Ford</th><th style=\"text-align: right;\">  Brand_Hindustan</th><th style=\"text-align: right;\">  Brand_Honda</th><th style=\"text-align: right;\">  Brand_Hyundai</th><th style=\"text-align: right;\">  Brand_ISUZU</th><th style=\"text-align: right;\">  Brand_Isuzu</th><th style=\"text-align: right;\">  Brand_Jaguar</th><th style=\"text-align: right;\">  Brand_Jeep</th><th style=\"text-align: right;\">  Brand_Land</th><th style=\"text-align: right;\">  Brand_Mahindra</th><th style=\"text-align: right;\">  Brand_Mercedes-Benz</th><th style=\"text-align: right;\">  Brand_Mini</th><th style=\"text-align: right;\">  Brand_Mitsubishi</th><th style=\"text-align: right;\">  Brand_Nissan</th><th style=\"text-align: right;\">  Brand_OpelCorsa</th><th style=\"text-align: right;\">  Brand_Porsche</th><th style=\"text-align: right;\">  Brand_Renault</th><th style=\"text-align: right;\">  Brand_Skoda</th><th style=\"text-align: right;\">  Brand_Smart</th><th style=\"text-align: right;\">  Brand_Tata</th><th style=\"text-align: right;\">  Brand_Toyota</th><th style=\"text-align: right;\">  Brand_Volkswagen</th><th style=\"text-align: right;\">  Brand_Volvo</th><th style=\"text-align: right;\">  Price_log</th></tr>\n",
       "</thead>\n",
       "<tbody>\n",
       "<tr><td style=\"text-align: right;\">      1</td><td style=\"text-align: right;\">  2010</td><td style=\"text-align: right;\">    11.5 </td><td style=\"text-align: right;\"> 171   </td><td style=\"text-align: right;\">      7</td><td style=\"text-align: right;\">               11.8784 </td><td style=\"text-align: right;\">                   0</td><td style=\"text-align: right;\">                 0</td><td style=\"text-align: right;\">                    0</td><td style=\"text-align: right;\">               0</td><td style=\"text-align: right;\">                   0</td><td style=\"text-align: right;\">                1</td><td style=\"text-align: right;\">               0</td><td style=\"text-align: right;\">                 0</td><td style=\"text-align: right;\">                0</td><td style=\"text-align: right;\">              0</td><td style=\"text-align: right;\">                 1</td><td style=\"text-align: right;\">                   0</td><td style=\"text-align: right;\">              0</td><td style=\"text-align: right;\">                    1</td><td style=\"text-align: right;\">                          0</td><td style=\"text-align: right;\">                  1</td><td style=\"text-align: right;\">                 0</td><td style=\"text-align: right;\">           0</td><td style=\"text-align: right;\">          0</td><td style=\"text-align: right;\">              0</td><td style=\"text-align: right;\">                0</td><td style=\"text-align: right;\">             0</td><td style=\"text-align: right;\">           0</td><td style=\"text-align: right;\">            0</td><td style=\"text-align: right;\">           0</td><td style=\"text-align: right;\">                0</td><td style=\"text-align: right;\">            0</td><td style=\"text-align: right;\">              0</td><td style=\"text-align: right;\">            0</td><td style=\"text-align: right;\">            0</td><td style=\"text-align: right;\">             0</td><td style=\"text-align: right;\">           0</td><td style=\"text-align: right;\">           0</td><td style=\"text-align: right;\">               0</td><td style=\"text-align: right;\">                    0</td><td style=\"text-align: right;\">           0</td><td style=\"text-align: right;\">                 0</td><td style=\"text-align: right;\">             0</td><td style=\"text-align: right;\">                0</td><td style=\"text-align: right;\">              0</td><td style=\"text-align: right;\">              0</td><td style=\"text-align: right;\">            0</td><td style=\"text-align: right;\">            0</td><td style=\"text-align: right;\">           0</td><td style=\"text-align: right;\">             1</td><td style=\"text-align: right;\">                 0</td><td style=\"text-align: right;\">            0</td><td style=\"text-align: right;\">    2.46385</td></tr>\n",
       "<tr><td style=\"text-align: right;\">      1</td><td style=\"text-align: right;\">  2012</td><td style=\"text-align: right;\">    20   </td><td style=\"text-align: right;\">  68   </td><td style=\"text-align: right;\">      5</td><td style=\"text-align: right;\">               11.2772 </td><td style=\"text-align: right;\">                   0</td><td style=\"text-align: right;\">                 0</td><td style=\"text-align: right;\">                    0</td><td style=\"text-align: right;\">               0</td><td style=\"text-align: right;\">                   0</td><td style=\"text-align: right;\">                0</td><td style=\"text-align: right;\">               0</td><td style=\"text-align: right;\">                 0</td><td style=\"text-align: right;\">                0</td><td style=\"text-align: right;\">              0</td><td style=\"text-align: right;\">                 1</td><td style=\"text-align: right;\">                   0</td><td style=\"text-align: right;\">              0</td><td style=\"text-align: right;\">                    1</td><td style=\"text-align: right;\">                          0</td><td style=\"text-align: right;\">                  0</td><td style=\"text-align: right;\">                 0</td><td style=\"text-align: right;\">           0</td><td style=\"text-align: right;\">          0</td><td style=\"text-align: right;\">              0</td><td style=\"text-align: right;\">                0</td><td style=\"text-align: right;\">             0</td><td style=\"text-align: right;\">           0</td><td style=\"text-align: right;\">            0</td><td style=\"text-align: right;\">           1</td><td style=\"text-align: right;\">                0</td><td style=\"text-align: right;\">            0</td><td style=\"text-align: right;\">              0</td><td style=\"text-align: right;\">            0</td><td style=\"text-align: right;\">            0</td><td style=\"text-align: right;\">             0</td><td style=\"text-align: right;\">           0</td><td style=\"text-align: right;\">           0</td><td style=\"text-align: right;\">               0</td><td style=\"text-align: right;\">                    0</td><td style=\"text-align: right;\">           0</td><td style=\"text-align: right;\">                 0</td><td style=\"text-align: right;\">             0</td><td style=\"text-align: right;\">                0</td><td style=\"text-align: right;\">              0</td><td style=\"text-align: right;\">              0</td><td style=\"text-align: right;\">            0</td><td style=\"text-align: right;\">            0</td><td style=\"text-align: right;\">           0</td><td style=\"text-align: right;\">             0</td><td style=\"text-align: right;\">                 0</td><td style=\"text-align: right;\">            0</td><td style=\"text-align: right;\">    1.02065</td></tr>\n",
       "<tr><td style=\"text-align: right;\">      1</td><td style=\"text-align: right;\">  2014</td><td style=\"text-align: right;\">    15.8 </td><td style=\"text-align: right;\"> 110   </td><td style=\"text-align: right;\">      5</td><td style=\"text-align: right;\">               11.0429 </td><td style=\"text-align: right;\">                   0</td><td style=\"text-align: right;\">                 0</td><td style=\"text-align: right;\">                    1</td><td style=\"text-align: right;\">               0</td><td style=\"text-align: right;\">                   0</td><td style=\"text-align: right;\">                0</td><td style=\"text-align: right;\">               0</td><td style=\"text-align: right;\">                 0</td><td style=\"text-align: right;\">                0</td><td style=\"text-align: right;\">              0</td><td style=\"text-align: right;\">                 0</td><td style=\"text-align: right;\">                   0</td><td style=\"text-align: right;\">              0</td><td style=\"text-align: right;\">                    1</td><td style=\"text-align: right;\">                          0</td><td style=\"text-align: right;\">                  0</td><td style=\"text-align: right;\">                 0</td><td style=\"text-align: right;\">           0</td><td style=\"text-align: right;\">          0</td><td style=\"text-align: right;\">              0</td><td style=\"text-align: right;\">                0</td><td style=\"text-align: right;\">             0</td><td style=\"text-align: right;\">           0</td><td style=\"text-align: right;\">            0</td><td style=\"text-align: right;\">           1</td><td style=\"text-align: right;\">                0</td><td style=\"text-align: right;\">            0</td><td style=\"text-align: right;\">              0</td><td style=\"text-align: right;\">            0</td><td style=\"text-align: right;\">            0</td><td style=\"text-align: right;\">             0</td><td style=\"text-align: right;\">           0</td><td style=\"text-align: right;\">           0</td><td style=\"text-align: right;\">               0</td><td style=\"text-align: right;\">                    0</td><td style=\"text-align: right;\">           0</td><td style=\"text-align: right;\">                 0</td><td style=\"text-align: right;\">             0</td><td style=\"text-align: right;\">                0</td><td style=\"text-align: right;\">              0</td><td style=\"text-align: right;\">              0</td><td style=\"text-align: right;\">            0</td><td style=\"text-align: right;\">            0</td><td style=\"text-align: right;\">           0</td><td style=\"text-align: right;\">             0</td><td style=\"text-align: right;\">                 0</td><td style=\"text-align: right;\">            0</td><td style=\"text-align: right;\">    2.01757</td></tr>\n",
       "<tr><td style=\"text-align: right;\">      1</td><td style=\"text-align: right;\">  2013</td><td style=\"text-align: right;\">    19.4 </td><td style=\"text-align: right;\">  86.8 </td><td style=\"text-align: right;\">      5</td><td style=\"text-align: right;\">                9.30565</td><td style=\"text-align: right;\">                   0</td><td style=\"text-align: right;\">                 0</td><td style=\"text-align: right;\">                    0</td><td style=\"text-align: right;\">               0</td><td style=\"text-align: right;\">                   0</td><td style=\"text-align: right;\">                0</td><td style=\"text-align: right;\">               0</td><td style=\"text-align: right;\">                 0</td><td style=\"text-align: right;\">                0</td><td style=\"text-align: right;\">              0</td><td style=\"text-align: right;\">                 0</td><td style=\"text-align: right;\">                   0</td><td style=\"text-align: right;\">              0</td><td style=\"text-align: right;\">                    1</td><td style=\"text-align: right;\">                          0</td><td style=\"text-align: right;\">                  0</td><td style=\"text-align: right;\">                 0</td><td style=\"text-align: right;\">           0</td><td style=\"text-align: right;\">          0</td><td style=\"text-align: right;\">              0</td><td style=\"text-align: right;\">                0</td><td style=\"text-align: right;\">             0</td><td style=\"text-align: right;\">           0</td><td style=\"text-align: right;\">            0</td><td style=\"text-align: right;\">           0</td><td style=\"text-align: right;\">                0</td><td style=\"text-align: right;\">            1</td><td style=\"text-align: right;\">              0</td><td style=\"text-align: right;\">            0</td><td style=\"text-align: right;\">            0</td><td style=\"text-align: right;\">             0</td><td style=\"text-align: right;\">           0</td><td style=\"text-align: right;\">           0</td><td style=\"text-align: right;\">               0</td><td style=\"text-align: right;\">                    0</td><td style=\"text-align: right;\">           0</td><td style=\"text-align: right;\">                 0</td><td style=\"text-align: right;\">             0</td><td style=\"text-align: right;\">                0</td><td style=\"text-align: right;\">              0</td><td style=\"text-align: right;\">              0</td><td style=\"text-align: right;\">            0</td><td style=\"text-align: right;\">            0</td><td style=\"text-align: right;\">           0</td><td style=\"text-align: right;\">             0</td><td style=\"text-align: right;\">                 0</td><td style=\"text-align: right;\">            0</td><td style=\"text-align: right;\">    1.36098</td></tr>\n",
       "<tr><td style=\"text-align: right;\">      1</td><td style=\"text-align: right;\">  2014</td><td style=\"text-align: right;\">    18   </td><td style=\"text-align: right;\">  86.7 </td><td style=\"text-align: right;\">      5</td><td style=\"text-align: right;\">               10.7089 </td><td style=\"text-align: right;\">                   0</td><td style=\"text-align: right;\">                 0</td><td style=\"text-align: right;\">                    1</td><td style=\"text-align: right;\">               0</td><td style=\"text-align: right;\">                   0</td><td style=\"text-align: right;\">                0</td><td style=\"text-align: right;\">               0</td><td style=\"text-align: right;\">                 0</td><td style=\"text-align: right;\">                0</td><td style=\"text-align: right;\">              0</td><td style=\"text-align: right;\">                 0</td><td style=\"text-align: right;\">                   0</td><td style=\"text-align: right;\">              0</td><td style=\"text-align: right;\">                    1</td><td style=\"text-align: right;\">                          0</td><td style=\"text-align: right;\">                  0</td><td style=\"text-align: right;\">                 0</td><td style=\"text-align: right;\">           0</td><td style=\"text-align: right;\">          0</td><td style=\"text-align: right;\">              0</td><td style=\"text-align: right;\">                0</td><td style=\"text-align: right;\">             0</td><td style=\"text-align: right;\">           0</td><td style=\"text-align: right;\">            0</td><td style=\"text-align: right;\">           0</td><td style=\"text-align: right;\">                0</td><td style=\"text-align: right;\">            1</td><td style=\"text-align: right;\">              0</td><td style=\"text-align: right;\">            0</td><td style=\"text-align: right;\">            0</td><td style=\"text-align: right;\">             0</td><td style=\"text-align: right;\">           0</td><td style=\"text-align: right;\">           0</td><td style=\"text-align: right;\">               0</td><td style=\"text-align: right;\">                    0</td><td style=\"text-align: right;\">           0</td><td style=\"text-align: right;\">                 0</td><td style=\"text-align: right;\">             0</td><td style=\"text-align: right;\">                0</td><td style=\"text-align: right;\">              0</td><td style=\"text-align: right;\">              0</td><td style=\"text-align: right;\">            0</td><td style=\"text-align: right;\">            0</td><td style=\"text-align: right;\">           0</td><td style=\"text-align: right;\">             0</td><td style=\"text-align: right;\">                 0</td><td style=\"text-align: right;\">            0</td><td style=\"text-align: right;\">    1.59737</td></tr>\n",
       "<tr><td style=\"text-align: right;\">      1</td><td style=\"text-align: right;\">  2019</td><td style=\"text-align: right;\">    18.06</td><td style=\"text-align: right;\">  63   </td><td style=\"text-align: right;\">      7</td><td style=\"text-align: right;\">                9.47455</td><td style=\"text-align: right;\">                   0</td><td style=\"text-align: right;\">                 0</td><td style=\"text-align: right;\">                    0</td><td style=\"text-align: right;\">               0</td><td style=\"text-align: right;\">                   0</td><td style=\"text-align: right;\">                0</td><td style=\"text-align: right;\">               1</td><td style=\"text-align: right;\">                 0</td><td style=\"text-align: right;\">                0</td><td style=\"text-align: right;\">              0</td><td style=\"text-align: right;\">                 1</td><td style=\"text-align: right;\">                   0</td><td style=\"text-align: right;\">              0</td><td style=\"text-align: right;\">                    1</td><td style=\"text-align: right;\">                          0</td><td style=\"text-align: right;\">                  0</td><td style=\"text-align: right;\">                 0</td><td style=\"text-align: right;\">           0</td><td style=\"text-align: right;\">          0</td><td style=\"text-align: right;\">              0</td><td style=\"text-align: right;\">                0</td><td style=\"text-align: right;\">             0</td><td style=\"text-align: right;\">           0</td><td style=\"text-align: right;\">            0</td><td style=\"text-align: right;\">           0</td><td style=\"text-align: right;\">                0</td><td style=\"text-align: right;\">            0</td><td style=\"text-align: right;\">              0</td><td style=\"text-align: right;\">            0</td><td style=\"text-align: right;\">            0</td><td style=\"text-align: right;\">             0</td><td style=\"text-align: right;\">           0</td><td style=\"text-align: right;\">           0</td><td style=\"text-align: right;\">               1</td><td style=\"text-align: right;\">                    0</td><td style=\"text-align: right;\">           0</td><td style=\"text-align: right;\">                 0</td><td style=\"text-align: right;\">             0</td><td style=\"text-align: right;\">                0</td><td style=\"text-align: right;\">              0</td><td style=\"text-align: right;\">              0</td><td style=\"text-align: right;\">            0</td><td style=\"text-align: right;\">            0</td><td style=\"text-align: right;\">           0</td><td style=\"text-align: right;\">             0</td><td style=\"text-align: right;\">                 0</td><td style=\"text-align: right;\">            0</td><td style=\"text-align: right;\">    2.20937</td></tr>\n",
       "<tr><td style=\"text-align: right;\">      1</td><td style=\"text-align: right;\">  2014</td><td style=\"text-align: right;\">    13   </td><td style=\"text-align: right;\"> 201.1 </td><td style=\"text-align: right;\">      5</td><td style=\"text-align: right;\">               10.5289 </td><td style=\"text-align: right;\">                   1</td><td style=\"text-align: right;\">                 0</td><td style=\"text-align: right;\">                    0</td><td style=\"text-align: right;\">               0</td><td style=\"text-align: right;\">                   0</td><td style=\"text-align: right;\">                0</td><td style=\"text-align: right;\">               0</td><td style=\"text-align: right;\">                 0</td><td style=\"text-align: right;\">                0</td><td style=\"text-align: right;\">              0</td><td style=\"text-align: right;\">                 1</td><td style=\"text-align: right;\">                   0</td><td style=\"text-align: right;\">              0</td><td style=\"text-align: right;\">                    0</td><td style=\"text-align: right;\">                          0</td><td style=\"text-align: right;\">                  0</td><td style=\"text-align: right;\">                 0</td><td style=\"text-align: right;\">           0</td><td style=\"text-align: right;\">          0</td><td style=\"text-align: right;\">              0</td><td style=\"text-align: right;\">                0</td><td style=\"text-align: right;\">             0</td><td style=\"text-align: right;\">           0</td><td style=\"text-align: right;\">            0</td><td style=\"text-align: right;\">           0</td><td style=\"text-align: right;\">                0</td><td style=\"text-align: right;\">            0</td><td style=\"text-align: right;\">              0</td><td style=\"text-align: right;\">            0</td><td style=\"text-align: right;\">            0</td><td style=\"text-align: right;\">             0</td><td style=\"text-align: right;\">           0</td><td style=\"text-align: right;\">           0</td><td style=\"text-align: right;\">               0</td><td style=\"text-align: right;\">                    1</td><td style=\"text-align: right;\">           0</td><td style=\"text-align: right;\">                 0</td><td style=\"text-align: right;\">             0</td><td style=\"text-align: right;\">                0</td><td style=\"text-align: right;\">              0</td><td style=\"text-align: right;\">              0</td><td style=\"text-align: right;\">            0</td><td style=\"text-align: right;\">            0</td><td style=\"text-align: right;\">           0</td><td style=\"text-align: right;\">             0</td><td style=\"text-align: right;\">                 0</td><td style=\"text-align: right;\">            0</td><td style=\"text-align: right;\">    3.46574</td></tr>\n",
       "<tr><td style=\"text-align: right;\">      1</td><td style=\"text-align: right;\">  2014</td><td style=\"text-align: right;\">    17.68</td><td style=\"text-align: right;\"> 174.33</td><td style=\"text-align: right;\">      5</td><td style=\"text-align: right;\">               11.0305 </td><td style=\"text-align: right;\">                   0</td><td style=\"text-align: right;\">                 0</td><td style=\"text-align: right;\">                    0</td><td style=\"text-align: right;\">               0</td><td style=\"text-align: right;\">                   0</td><td style=\"text-align: right;\">                0</td><td style=\"text-align: right;\">               1</td><td style=\"text-align: right;\">                 0</td><td style=\"text-align: right;\">                0</td><td style=\"text-align: right;\">              0</td><td style=\"text-align: right;\">                 1</td><td style=\"text-align: right;\">                   0</td><td style=\"text-align: right;\">              0</td><td style=\"text-align: right;\">                    0</td><td style=\"text-align: right;\">                          0</td><td style=\"text-align: right;\">                  0</td><td style=\"text-align: right;\">                 0</td><td style=\"text-align: right;\">           1</td><td style=\"text-align: right;\">          0</td><td style=\"text-align: right;\">              0</td><td style=\"text-align: right;\">                0</td><td style=\"text-align: right;\">             0</td><td style=\"text-align: right;\">           0</td><td style=\"text-align: right;\">            0</td><td style=\"text-align: right;\">           0</td><td style=\"text-align: right;\">                0</td><td style=\"text-align: right;\">            0</td><td style=\"text-align: right;\">              0</td><td style=\"text-align: right;\">            0</td><td style=\"text-align: right;\">            0</td><td style=\"text-align: right;\">             0</td><td style=\"text-align: right;\">           0</td><td style=\"text-align: right;\">           0</td><td style=\"text-align: right;\">               0</td><td style=\"text-align: right;\">                    0</td><td style=\"text-align: right;\">           0</td><td style=\"text-align: right;\">                 0</td><td style=\"text-align: right;\">             0</td><td style=\"text-align: right;\">                0</td><td style=\"text-align: right;\">              0</td><td style=\"text-align: right;\">              0</td><td style=\"text-align: right;\">            0</td><td style=\"text-align: right;\">            0</td><td style=\"text-align: right;\">           0</td><td style=\"text-align: right;\">             0</td><td style=\"text-align: right;\">                 0</td><td style=\"text-align: right;\">            0</td><td style=\"text-align: right;\">    3.03351</td></tr>\n",
       "<tr><td style=\"text-align: right;\">      1</td><td style=\"text-align: right;\">  2016</td><td style=\"text-align: right;\">    19.01</td><td style=\"text-align: right;\"> 108.45</td><td style=\"text-align: right;\">      5</td><td style=\"text-align: right;\">               11.0861 </td><td style=\"text-align: right;\">                   0</td><td style=\"text-align: right;\">                 0</td><td style=\"text-align: right;\">                    1</td><td style=\"text-align: right;\">               0</td><td style=\"text-align: right;\">                   0</td><td style=\"text-align: right;\">                0</td><td style=\"text-align: right;\">               0</td><td style=\"text-align: right;\">                 0</td><td style=\"text-align: right;\">                0</td><td style=\"text-align: right;\">              0</td><td style=\"text-align: right;\">                 1</td><td style=\"text-align: right;\">                   0</td><td style=\"text-align: right;\">              0</td><td style=\"text-align: right;\">                    1</td><td style=\"text-align: right;\">                          0</td><td style=\"text-align: right;\">                  0</td><td style=\"text-align: right;\">                 0</td><td style=\"text-align: right;\">           0</td><td style=\"text-align: right;\">          0</td><td style=\"text-align: right;\">              0</td><td style=\"text-align: right;\">                0</td><td style=\"text-align: right;\">             0</td><td style=\"text-align: right;\">           0</td><td style=\"text-align: right;\">            0</td><td style=\"text-align: right;\">           0</td><td style=\"text-align: right;\">                0</td><td style=\"text-align: right;\">            0</td><td style=\"text-align: right;\">              0</td><td style=\"text-align: right;\">            0</td><td style=\"text-align: right;\">            0</td><td style=\"text-align: right;\">             0</td><td style=\"text-align: right;\">           0</td><td style=\"text-align: right;\">           0</td><td style=\"text-align: right;\">               0</td><td style=\"text-align: right;\">                    0</td><td style=\"text-align: right;\">           0</td><td style=\"text-align: right;\">                 0</td><td style=\"text-align: right;\">             0</td><td style=\"text-align: right;\">                0</td><td style=\"text-align: right;\">              0</td><td style=\"text-align: right;\">              1</td><td style=\"text-align: right;\">            0</td><td style=\"text-align: right;\">            0</td><td style=\"text-align: right;\">           0</td><td style=\"text-align: right;\">             0</td><td style=\"text-align: right;\">                 0</td><td style=\"text-align: right;\">            0</td><td style=\"text-align: right;\">    2.27727</td></tr>\n",
       "<tr><td style=\"text-align: right;\">      1</td><td style=\"text-align: right;\">  2016</td><td style=\"text-align: right;\">    16.2 </td><td style=\"text-align: right;\"> 258   </td><td style=\"text-align: right;\">      5</td><td style=\"text-align: right;\">                9.80311</td><td style=\"text-align: right;\">                   0</td><td style=\"text-align: right;\">                 0</td><td style=\"text-align: right;\">                    1</td><td style=\"text-align: right;\">               0</td><td style=\"text-align: right;\">                   0</td><td style=\"text-align: right;\">                0</td><td style=\"text-align: right;\">               0</td><td style=\"text-align: right;\">                 0</td><td style=\"text-align: right;\">                0</td><td style=\"text-align: right;\">              0</td><td style=\"text-align: right;\">                 1</td><td style=\"text-align: right;\">                   0</td><td style=\"text-align: right;\">              0</td><td style=\"text-align: right;\">                    0</td><td style=\"text-align: right;\">                          0</td><td style=\"text-align: right;\">                  0</td><td style=\"text-align: right;\">                 0</td><td style=\"text-align: right;\">           0</td><td style=\"text-align: right;\">          1</td><td style=\"text-align: right;\">              0</td><td style=\"text-align: right;\">                0</td><td style=\"text-align: right;\">             0</td><td style=\"text-align: right;\">           0</td><td style=\"text-align: right;\">            0</td><td style=\"text-align: right;\">           0</td><td style=\"text-align: right;\">                0</td><td style=\"text-align: right;\">            0</td><td style=\"text-align: right;\">              0</td><td style=\"text-align: right;\">            0</td><td style=\"text-align: right;\">            0</td><td style=\"text-align: right;\">             0</td><td style=\"text-align: right;\">           0</td><td style=\"text-align: right;\">           0</td><td style=\"text-align: right;\">               0</td><td style=\"text-align: right;\">                    0</td><td style=\"text-align: right;\">           0</td><td style=\"text-align: right;\">                 0</td><td style=\"text-align: right;\">             0</td><td style=\"text-align: right;\">                0</td><td style=\"text-align: right;\">              0</td><td style=\"text-align: right;\">              0</td><td style=\"text-align: right;\">            0</td><td style=\"text-align: right;\">            0</td><td style=\"text-align: right;\">           0</td><td style=\"text-align: right;\">             0</td><td style=\"text-align: right;\">                 0</td><td style=\"text-align: right;\">            0</td><td style=\"text-align: right;\">    3.82275</td></tr>\n",
       "</tbody>\n",
       "</table><pre style='font-size: smaller; margin-bottom: 1em;'>[2175 rows x 54 columns]</pre>"
      ],
      "text/plain": [
       "  const    Year    Mileage    Power    Seats    kilometers_driven_log    Location_Bangalore    Location_Chennai    Location_Coimbatore    Location_Delhi    Location_Hyderabad    Location_Jaipur    Location_Kochi    Location_Kolkata    Location_Mumbai    Location_Pune    Fuel_Type_Diesel    Fuel_Type_Electric    Fuel_Type_LPG    Transmission_Manual    Owner_Type_Fourth & Above    Owner_Type_Second    Owner_Type_Third    Brand_Audi    Brand_BMW    Brand_Bentley    Brand_Chevrolet    Brand_Datsun    Brand_Fiat    Brand_Force    Brand_Ford    Brand_Hindustan    Brand_Honda    Brand_Hyundai    Brand_ISUZU    Brand_Isuzu    Brand_Jaguar    Brand_Jeep    Brand_Land    Brand_Mahindra    Brand_Mercedes-Benz    Brand_Mini    Brand_Mitsubishi    Brand_Nissan    Brand_OpelCorsa    Brand_Porsche    Brand_Renault    Brand_Skoda    Brand_Smart    Brand_Tata    Brand_Toyota    Brand_Volkswagen    Brand_Volvo    Price_log\n",
       "-------  ------  ---------  -------  -------  -----------------------  --------------------  ------------------  ---------------------  ----------------  --------------------  -----------------  ----------------  ------------------  -----------------  ---------------  ------------------  --------------------  ---------------  ---------------------  ---------------------------  -------------------  ------------------  ------------  -----------  ---------------  -----------------  --------------  ------------  -------------  ------------  -----------------  -------------  ---------------  -------------  -------------  --------------  ------------  ------------  ----------------  ---------------------  ------------  ------------------  --------------  -----------------  ---------------  ---------------  -------------  -------------  ------------  --------------  ------------------  -------------  -----------\n",
       "      1    2010      11.5    171           7                 11.8784                      0                   0                      0                 0                     0                  1                 0                   0                  0                0                   1                     0                0                      1                            0                    1                   0             0            0                0                  0               0             0              0             0                  0              0                0              0              0               0             0             0                 0                      0             0                   0               0                  0                0                0              0              0             0               1                   0              0      2.46385\n",
       "      1    2012      20       68           5                 11.2772                      0                   0                      0                 0                     0                  0                 0                   0                  0                0                   1                     0                0                      1                            0                    0                   0             0            0                0                  0               0             0              0             1                  0              0                0              0              0               0             0             0                 0                      0             0                   0               0                  0                0                0              0              0             0               0                   0              0      1.02065\n",
       "      1    2014      15.8    110           5                 11.0429                      0                   0                      1                 0                     0                  0                 0                   0                  0                0                   0                     0                0                      1                            0                    0                   0             0            0                0                  0               0             0              0             1                  0              0                0              0              0               0             0             0                 0                      0             0                   0               0                  0                0                0              0              0             0               0                   0              0      2.01757\n",
       "      1    2013      19.4     86.8         5                  9.30565                     0                   0                      0                 0                     0                  0                 0                   0                  0                0                   0                     0                0                      1                            0                    0                   0             0            0                0                  0               0             0              0             0                  0              1                0              0              0               0             0             0                 0                      0             0                   0               0                  0                0                0              0              0             0               0                   0              0      1.36098\n",
       "      1    2014      18       86.7         5                 10.7089                      0                   0                      1                 0                     0                  0                 0                   0                  0                0                   0                     0                0                      1                            0                    0                   0             0            0                0                  0               0             0              0             0                  0              1                0              0              0               0             0             0                 0                      0             0                   0               0                  0                0                0              0              0             0               0                   0              0      1.59737\n",
       "      1    2019      18.06    63           7                  9.47455                     0                   0                      0                 0                     0                  0                 1                   0                  0                0                   1                     0                0                      1                            0                    0                   0             0            0                0                  0               0             0              0             0                  0              0                0              0              0               0             0             0                 1                      0             0                   0               0                  0                0                0              0              0             0               0                   0              0      2.20937\n",
       "      1    2014      13      201.1         5                 10.5289                      1                   0                      0                 0                     0                  0                 0                   0                  0                0                   1                     0                0                      0                            0                    0                   0             0            0                0                  0               0             0              0             0                  0              0                0              0              0               0             0             0                 0                      1             0                   0               0                  0                0                0              0              0             0               0                   0              0      3.46574\n",
       "      1    2014      17.68   174.33        5                 11.0305                      0                   0                      0                 0                     0                  0                 1                   0                  0                0                   1                     0                0                      0                            0                    0                   0             1            0                0                  0               0             0              0             0                  0              0                0              0              0               0             0             0                 0                      0             0                   0               0                  0                0                0              0              0             0               0                   0              0      3.03351\n",
       "      1    2016      19.01   108.45        5                 11.0861                      0                   0                      1                 0                     0                  0                 0                   0                  0                0                   1                     0                0                      1                            0                    0                   0             0            0                0                  0               0             0              0             0                  0              0                0              0              0               0             0             0                 0                      0             0                   0               0                  0                0                1              0              0             0               0                   0              0      2.27727\n",
       "      1    2016      16.2    258           5                  9.80311                     0                   0                      1                 0                     0                  0                 0                   0                  0                0                   1                     0                0                      0                            0                    0                   0             0            1                0                  0               0             0              0             0                  0              0                0              0              0               0             0             0                 0                      0             0                   0               0                  0                0                0              0              0             0               0                   0              0      3.82275\n",
       "[2175 rows x 54 columns]\n"
      ]
     },
     "execution_count": 67,
     "metadata": {},
     "output_type": "execute_result"
    }
   ],
   "source": [
    "#Create test data set and convert to H2o dataframe\n",
    "test = X_test\n",
    "test['Price_log']=y_test[target]\n",
    "test = h2o.H2OFrame(test)\n",
    "X_test_col= list(test.columns)\n",
    "test"
   ]
  },
  {
   "cell_type": "code",
   "execution_count": 68,
   "metadata": {
    "scrolled": true
   },
   "outputs": [
    {
     "name": "stdout",
     "output_type": "stream",
     "text": [
      "AutoML progress: |█\n",
      "07:58:36.16: AutoML: XGBoost is not available; skipping it.\n",
      "07:58:36.53: _train param, Dropping bad and constant columns: [const, Brand_OpelCorsa]\n",
      "07:58:39.650: _train param, Dropping bad and constant columns: [const, Brand_OpelCorsa]\n",
      "\n",
      "███\n",
      "07:58:45.790: _train param, Dropping bad and constant columns: [const, Brand_OpelCorsa]\n",
      "\n",
      "███\n",
      "07:58:54.758: _train param, Dropping bad and constant columns: [const, Brand_OpelCorsa]\n",
      "07:58:57.810: _train param, Dropping bad and constant columns: [const, Brand_OpelCorsa]\n",
      "\n",
      "█\n",
      "07:59:00.842: _train param, Dropping bad and constant columns: [const, Brand_OpelCorsa]\n",
      "07:59:04.279: _train param, Dropping bad and constant columns: [const, Brand_OpelCorsa]\n",
      "\n",
      "██\n",
      "07:59:10.102: _train param, Dropping bad and constant columns: [const, Brand_OpelCorsa]\n",
      "\n",
      "██\n",
      "07:59:13.135: _train param, Dropping bad and constant columns: [const, Brand_OpelCorsa]\n",
      "\n",
      "██████████████████████████████████████████████████\n",
      "08:16:20.238: _train param, Dropping unused columns: [const, Brand_OpelCorsa]\n",
      "08:16:20.715: _train param, Dropping unused columns: [const, Brand_OpelCorsa]\n",
      "\n",
      "█| (done) 100%\n"
     ]
    },
    {
     "data": {
      "text/html": [
       "<table class='dataframe'>\n",
       "<thead>\n",
       "<tr><th>model_id                                              </th><th style=\"text-align: right;\">    rmse</th><th style=\"text-align: right;\">      mse</th><th style=\"text-align: right;\">     mae</th><th style=\"text-align: right;\">     rmsle</th><th style=\"text-align: right;\">  mean_residual_deviance</th></tr>\n",
       "</thead>\n",
       "<tbody>\n",
       "<tr><td>StackedEnsemble_AllModels_1_AutoML_3_20221217_75835   </td><td style=\"text-align: right;\">0.197513</td><td style=\"text-align: right;\">0.0390113</td><td style=\"text-align: right;\">0.136244</td><td style=\"text-align: right;\">  0.100273</td><td style=\"text-align: right;\">               0.0390113</td></tr>\n",
       "<tr><td>StackedEnsemble_BestOfFamily_1_AutoML_3_20221217_75835</td><td style=\"text-align: right;\">0.200954</td><td style=\"text-align: right;\">0.0403826</td><td style=\"text-align: right;\">0.139622</td><td style=\"text-align: right;\">  0.101838</td><td style=\"text-align: right;\">               0.0403826</td></tr>\n",
       "<tr><td>GBM_5_AutoML_3_20221217_75835                         </td><td style=\"text-align: right;\">0.207252</td><td style=\"text-align: right;\">0.0429534</td><td style=\"text-align: right;\">0.142651</td><td style=\"text-align: right;\">  0.104086</td><td style=\"text-align: right;\">               0.0429534</td></tr>\n",
       "<tr><td>GBM_grid_1_AutoML_3_20221217_75835_model_1            </td><td style=\"text-align: right;\">0.2076  </td><td style=\"text-align: right;\">0.043098 </td><td style=\"text-align: right;\">0.143527</td><td style=\"text-align: right;\">  0.10605 </td><td style=\"text-align: right;\">               0.043098 </td></tr>\n",
       "<tr><td>GBM_2_AutoML_3_20221217_75835                         </td><td style=\"text-align: right;\">0.210045</td><td style=\"text-align: right;\">0.0441188</td><td style=\"text-align: right;\">0.143903</td><td style=\"text-align: right;\">  0.106146</td><td style=\"text-align: right;\">               0.0441188</td></tr>\n",
       "<tr><td>GBM_4_AutoML_3_20221217_75835                         </td><td style=\"text-align: right;\">0.210487</td><td style=\"text-align: right;\">0.0443047</td><td style=\"text-align: right;\">0.143759</td><td style=\"text-align: right;\">  0.105655</td><td style=\"text-align: right;\">               0.0443047</td></tr>\n",
       "<tr><td>GBM_grid_1_AutoML_3_20221217_75835_model_2            </td><td style=\"text-align: right;\">0.212486</td><td style=\"text-align: right;\">0.0451501</td><td style=\"text-align: right;\">0.150008</td><td style=\"text-align: right;\">  0.105266</td><td style=\"text-align: right;\">               0.0451501</td></tr>\n",
       "<tr><td>GBM_3_AutoML_3_20221217_75835                         </td><td style=\"text-align: right;\">0.213397</td><td style=\"text-align: right;\">0.0455382</td><td style=\"text-align: right;\">0.145253</td><td style=\"text-align: right;\">  0.107418</td><td style=\"text-align: right;\">               0.0455382</td></tr>\n",
       "<tr><td>GBM_grid_1_AutoML_3_20221217_75835_model_5            </td><td style=\"text-align: right;\">0.21455 </td><td style=\"text-align: right;\">0.0460315</td><td style=\"text-align: right;\">0.145418</td><td style=\"text-align: right;\">  0.107257</td><td style=\"text-align: right;\">               0.0460315</td></tr>\n",
       "<tr><td>GBM_grid_1_AutoML_3_20221217_75835_model_4            </td><td style=\"text-align: right;\">0.216076</td><td style=\"text-align: right;\">0.0466889</td><td style=\"text-align: right;\">0.148209</td><td style=\"text-align: right;\">  0.108288</td><td style=\"text-align: right;\">               0.0466889</td></tr>\n",
       "<tr><td>GBM_grid_1_AutoML_3_20221217_75835_model_3            </td><td style=\"text-align: right;\">0.21821 </td><td style=\"text-align: right;\">0.0476155</td><td style=\"text-align: right;\">0.154581</td><td style=\"text-align: right;\">  0.107808</td><td style=\"text-align: right;\">               0.0476155</td></tr>\n",
       "<tr><td>DRF_1_AutoML_3_20221217_75835                         </td><td style=\"text-align: right;\">0.219952</td><td style=\"text-align: right;\">0.0483788</td><td style=\"text-align: right;\">0.149819</td><td style=\"text-align: right;\">  0.110831</td><td style=\"text-align: right;\">               0.0483788</td></tr>\n",
       "<tr><td>DeepLearning_grid_2_AutoML_3_20221217_75835_model_1   </td><td style=\"text-align: right;\">0.230243</td><td style=\"text-align: right;\">0.053012 </td><td style=\"text-align: right;\">0.166681</td><td style=\"text-align: right;\">  0.120216</td><td style=\"text-align: right;\">               0.053012 </td></tr>\n",
       "<tr><td>DeepLearning_grid_3_AutoML_3_20221217_75835_model_1   </td><td style=\"text-align: right;\">0.232484</td><td style=\"text-align: right;\">0.0540486</td><td style=\"text-align: right;\">0.168252</td><td style=\"text-align: right;\">  0.116861</td><td style=\"text-align: right;\">               0.0540486</td></tr>\n",
       "<tr><td>GBM_1_AutoML_3_20221217_75835                         </td><td style=\"text-align: right;\">0.236856</td><td style=\"text-align: right;\">0.0561007</td><td style=\"text-align: right;\">0.162865</td><td style=\"text-align: right;\">  0.119491</td><td style=\"text-align: right;\">               0.0561007</td></tr>\n",
       "<tr><td>DeepLearning_grid_1_AutoML_3_20221217_75835_model_1   </td><td style=\"text-align: right;\">0.247342</td><td style=\"text-align: right;\">0.061178 </td><td style=\"text-align: right;\">0.172546</td><td style=\"text-align: right;\">  0.119961</td><td style=\"text-align: right;\">               0.061178 </td></tr>\n",
       "<tr><td>GLM_1_AutoML_3_20221217_75835                         </td><td style=\"text-align: right;\">0.251094</td><td style=\"text-align: right;\">0.0630482</td><td style=\"text-align: right;\">0.186006</td><td style=\"text-align: right;\">  0.121449</td><td style=\"text-align: right;\">               0.0630482</td></tr>\n",
       "<tr><td>DeepLearning_1_AutoML_3_20221217_75835                </td><td style=\"text-align: right;\">0.261821</td><td style=\"text-align: right;\">0.0685504</td><td style=\"text-align: right;\">0.190185</td><td style=\"text-align: right;\">  0.127761</td><td style=\"text-align: right;\">               0.0685504</td></tr>\n",
       "<tr><td>DeepLearning_grid_1_AutoML_3_20221217_75835_model_2   </td><td style=\"text-align: right;\">0.275453</td><td style=\"text-align: right;\">0.0758745</td><td style=\"text-align: right;\">0.1999  </td><td style=\"text-align: right;\">nan       </td><td style=\"text-align: right;\">               0.0758745</td></tr>\n",
       "<tr><td>XRT_1_AutoML_3_20221217_75835                         </td><td style=\"text-align: right;\">0.292983</td><td style=\"text-align: right;\">0.0858392</td><td style=\"text-align: right;\">0.21194 </td><td style=\"text-align: right;\">  0.148761</td><td style=\"text-align: right;\">               0.0858392</td></tr>\n",
       "<tr><td>DeepLearning_grid_2_AutoML_3_20221217_75835_model_2   </td><td style=\"text-align: right;\">0.328684</td><td style=\"text-align: right;\">0.108033 </td><td style=\"text-align: right;\">0.245564</td><td style=\"text-align: right;\">  0.154775</td><td style=\"text-align: right;\">               0.108033 </td></tr>\n",
       "<tr><td>DeepLearning_grid_3_AutoML_3_20221217_75835_model_2   </td><td style=\"text-align: right;\">0.426571</td><td style=\"text-align: right;\">0.181963 </td><td style=\"text-align: right;\">0.316339</td><td style=\"text-align: right;\">  0.174752</td><td style=\"text-align: right;\">               0.181963 </td></tr>\n",
       "</tbody>\n",
       "</table><pre style='font-size: smaller; margin-bottom: 1em;'>[22 rows x 6 columns]</pre>"
      ],
      "text/plain": [
       "model_id                                                    rmse        mse       mae       rmsle    mean_residual_deviance\n",
       "------------------------------------------------------  --------  ---------  --------  ----------  ------------------------\n",
       "StackedEnsemble_AllModels_1_AutoML_3_20221217_75835     0.197513  0.0390113  0.136244    0.100273                 0.0390113\n",
       "StackedEnsemble_BestOfFamily_1_AutoML_3_20221217_75835  0.200954  0.0403826  0.139622    0.101838                 0.0403826\n",
       "GBM_5_AutoML_3_20221217_75835                           0.207252  0.0429534  0.142651    0.104086                 0.0429534\n",
       "GBM_grid_1_AutoML_3_20221217_75835_model_1              0.2076    0.043098   0.143527    0.10605                  0.043098\n",
       "GBM_2_AutoML_3_20221217_75835                           0.210045  0.0441188  0.143903    0.106146                 0.0441188\n",
       "GBM_4_AutoML_3_20221217_75835                           0.210487  0.0443047  0.143759    0.105655                 0.0443047\n",
       "GBM_grid_1_AutoML_3_20221217_75835_model_2              0.212486  0.0451501  0.150008    0.105266                 0.0451501\n",
       "GBM_3_AutoML_3_20221217_75835                           0.213397  0.0455382  0.145253    0.107418                 0.0455382\n",
       "GBM_grid_1_AutoML_3_20221217_75835_model_5              0.21455   0.0460315  0.145418    0.107257                 0.0460315\n",
       "GBM_grid_1_AutoML_3_20221217_75835_model_4              0.216076  0.0466889  0.148209    0.108288                 0.0466889\n",
       "GBM_grid_1_AutoML_3_20221217_75835_model_3              0.21821   0.0476155  0.154581    0.107808                 0.0476155\n",
       "DRF_1_AutoML_3_20221217_75835                           0.219952  0.0483788  0.149819    0.110831                 0.0483788\n",
       "DeepLearning_grid_2_AutoML_3_20221217_75835_model_1     0.230243  0.053012   0.166681    0.120216                 0.053012\n",
       "DeepLearning_grid_3_AutoML_3_20221217_75835_model_1     0.232484  0.0540486  0.168252    0.116861                 0.0540486\n",
       "GBM_1_AutoML_3_20221217_75835                           0.236856  0.0561007  0.162865    0.119491                 0.0561007\n",
       "DeepLearning_grid_1_AutoML_3_20221217_75835_model_1     0.247342  0.061178   0.172546    0.119961                 0.061178\n",
       "GLM_1_AutoML_3_20221217_75835                           0.251094  0.0630482  0.186006    0.121449                 0.0630482\n",
       "DeepLearning_1_AutoML_3_20221217_75835                  0.261821  0.0685504  0.190185    0.127761                 0.0685504\n",
       "DeepLearning_grid_1_AutoML_3_20221217_75835_model_2     0.275453  0.0758745  0.1999    nan                        0.0758745\n",
       "XRT_1_AutoML_3_20221217_75835                           0.292983  0.0858392  0.21194     0.148761                 0.0858392\n",
       "DeepLearning_grid_2_AutoML_3_20221217_75835_model_2     0.328684  0.108033   0.245564    0.154775                 0.108033\n",
       "DeepLearning_grid_3_AutoML_3_20221217_75835_model_2     0.426571  0.181963   0.316339    0.174752                 0.181963\n",
       "[22 rows x 6 columns]\n"
      ]
     },
     "execution_count": 68,
     "metadata": {},
     "output_type": "execute_result"
    }
   ],
   "source": [
    "# Run AutoML for 20 base models\n",
    "aml = H2OAutoML(max_models=20, seed=1)\n",
    "aml.train(x=X_train_col, y=target, training_frame=train)\n",
    "#\n",
    "# View the AutoML Leaderboard\n",
    "lb = aml.leaderboard\n",
    "lb.head(rows=lb.nrows)  # Print all rows instead of default (10 rows)"
   ]
  },
  {
   "cell_type": "code",
   "execution_count": null,
   "metadata": {
    "scrolled": true
   },
   "outputs": [],
   "source": [
    "# To generate predictions on a test set, you can make predictions\n",
    "# directly on the `H2OAutoML` object or on the leader model\n",
    "# object directly\n",
    "preds_test = aml.predict(test)\n",
    "preds_train= aml.predict(train)\n"
   ]
  },
  {
   "cell_type": "code",
   "execution_count": null,
   "metadata": {},
   "outputs": [],
   "source": [
    "#convert predicted test values to dataframe\n",
    "score_list_auto = []\n",
    "\n",
    "preds_test_df = preds_test.as_data_frame()\n",
    "preds_train_df = preds_train.as_data_frame()\n",
    "\n",
    "#Analyze R-square, RMSE scores for AutoML model values\n",
    "pred_test_auto=np.exp(preds_test_df)\n",
    "pred_train_auto = np.exp(preds_train_df)\n",
    "\n",
    "train_r2_auto = metrics.r2_score(y_train['Price'], pred_train_auto)\n",
    "    \n",
    "test_r2_auto = metrics.r2_score(y_test['Price'], pred_test_auto)\n",
    "    \n",
    "train_rmse_auto = metrics.mean_squared_error(y_train['Price'], pred_train_auto, squared = False)\n",
    "    \n",
    "test_rmse_auto = metrics.mean_squared_error(y_test['Price'], pred_test_auto, squared = False)\n",
    "    \n",
    "# Adding all scores in the list\n",
    "score_list_auto.extend((train_r2_auto, test_r2_auto, train_rmse_auto, test_rmse_auto))\n",
    "    \n",
    "        \n",
    "print(\"R-square on training set : \", metrics.r2_score(y_train['Price'], pred_train_auto,))\n",
    "        \n",
    "print(\"R-square on test set : \", metrics.r2_score(y_test['Price'], pred_test_auto,))\n",
    "        \n",
    "print(\"RMSE on training set : \", np.sqrt(metrics.mean_squared_error(y_train['Price'], pred_train_auto,)))\n",
    "        \n",
    "print(\"RMSE on test set : \", np.sqrt(metrics.mean_squared_error(y_test['Price'], pred_test_auto,)))\n",
    "    \n",
    "# Returning the list with train and test scores\n",
    "#score_list"
   ]
  },
  {
   "cell_type": "code",
   "execution_count": 74,
   "metadata": {},
   "outputs": [
    {
     "data": {
      "text/html": [
       "<div>\n",
       "<style scoped>\n",
       "    .dataframe tbody tr th:only-of-type {\n",
       "        vertical-align: middle;\n",
       "    }\n",
       "\n",
       "    .dataframe tbody tr th {\n",
       "        vertical-align: top;\n",
       "    }\n",
       "\n",
       "    .dataframe thead th {\n",
       "        text-align: right;\n",
       "    }\n",
       "</style>\n",
       "<table border=\"1\" class=\"dataframe\">\n",
       "  <thead>\n",
       "    <tr style=\"text-align: right;\">\n",
       "      <th></th>\n",
       "      <th>Model</th>\n",
       "      <th>Train_r2</th>\n",
       "      <th>Test_r2</th>\n",
       "      <th>Train_RMSE</th>\n",
       "      <th>Test_RMSE</th>\n",
       "    </tr>\n",
       "  </thead>\n",
       "  <tbody>\n",
       "    <tr>\n",
       "      <th>0</th>\n",
       "      <td>AutoML-StackedEnsemble</td>\n",
       "      <td>0.974683</td>\n",
       "      <td>0.914052</td>\n",
       "      <td>1.725533</td>\n",
       "      <td>3.020579</td>\n",
       "    </tr>\n",
       "  </tbody>\n",
       "</table>\n",
       "</div>"
      ],
      "text/plain": [
       "                    Model  Train_r2   Test_r2  Train_RMSE  Test_RMSE\n",
       "0  AutoML-StackedEnsemble  0.974683  0.914052    1.725533   3.020579"
      ]
     },
     "execution_count": 74,
     "metadata": {},
     "output_type": "execute_result"
    }
   ],
   "source": [
    "#convert scores to dataframe\n",
    "AutoML_scores= pd.DataFrame(score_list_auto).T\n",
    "AutoML_scores.columns = ['Train_r2', 'Test_r2', 'Train_RMSE', 'Test_RMSE']\n",
    "AutoML_scores.insert(0,'Model','AutoML-StackedEnsemble')\n",
    "AutoML_scores"
   ]
  },
  {
   "cell_type": "code",
   "execution_count": 83,
   "metadata": {},
   "outputs": [
    {
     "data": {
      "text/plain": [
       "Index(['const', 'Year', 'Mileage', 'Power', 'Seats', 'kilometers_driven_log',\n",
       "       'Location_Bangalore', 'Location_Chennai', 'Location_Coimbatore',\n",
       "       'Location_Delhi', 'Location_Hyderabad', 'Location_Jaipur',\n",
       "       'Location_Kochi', 'Location_Kolkata', 'Location_Mumbai',\n",
       "       'Location_Pune', 'Fuel_Type_Diesel', 'Fuel_Type_Electric',\n",
       "       'Fuel_Type_LPG', 'Transmission_Manual', 'Owner_Type_Fourth & Above',\n",
       "       'Owner_Type_Second', 'Owner_Type_Third', 'Brand_Audi', 'Brand_BMW',\n",
       "       'Brand_Bentley', 'Brand_Chevrolet', 'Brand_Datsun', 'Brand_Fiat',\n",
       "       'Brand_Force', 'Brand_Ford', 'Brand_Hindustan', 'Brand_Honda',\n",
       "       'Brand_Hyundai', 'Brand_ISUZU', 'Brand_Isuzu', 'Brand_Jaguar',\n",
       "       'Brand_Jeep', 'Brand_Land', 'Brand_Mahindra', 'Brand_Mercedes-Benz',\n",
       "       'Brand_Mini', 'Brand_Mitsubishi', 'Brand_Nissan', 'Brand_OpelCorsa',\n",
       "       'Brand_Porsche', 'Brand_Renault', 'Brand_Skoda', 'Brand_Smart',\n",
       "       'Brand_Tata', 'Brand_Toyota', 'Brand_Volkswagen', 'Brand_Volvo'],\n",
       "      dtype='object')"
      ]
     },
     "execution_count": 83,
     "metadata": {},
     "output_type": "execute_result"
    }
   ],
   "source": [
    "X_train = X_train.drop(['Price_log'], axis =1)\n",
    "X_train.columns"
   ]
  },
  {
   "cell_type": "code",
   "execution_count": 88,
   "metadata": {},
   "outputs": [
    {
     "data": {
      "text/plain": [
       "Index(['const', 'Year', 'Mileage', 'Power', 'Seats', 'kilometers_driven_log',\n",
       "       'Location_Bangalore', 'Location_Chennai', 'Location_Coimbatore',\n",
       "       'Location_Delhi', 'Location_Hyderabad', 'Location_Jaipur',\n",
       "       'Location_Kochi', 'Location_Kolkata', 'Location_Mumbai',\n",
       "       'Location_Pune', 'Fuel_Type_Diesel', 'Fuel_Type_Electric',\n",
       "       'Fuel_Type_LPG', 'Transmission_Manual', 'Owner_Type_Fourth & Above',\n",
       "       'Owner_Type_Second', 'Owner_Type_Third', 'Brand_Audi', 'Brand_BMW',\n",
       "       'Brand_Bentley', 'Brand_Chevrolet', 'Brand_Datsun', 'Brand_Fiat',\n",
       "       'Brand_Force', 'Brand_Ford', 'Brand_Hindustan', 'Brand_Honda',\n",
       "       'Brand_Hyundai', 'Brand_ISUZU', 'Brand_Isuzu', 'Brand_Jaguar',\n",
       "       'Brand_Jeep', 'Brand_Land', 'Brand_Mahindra', 'Brand_Mercedes-Benz',\n",
       "       'Brand_Mini', 'Brand_Mitsubishi', 'Brand_Nissan', 'Brand_OpelCorsa',\n",
       "       'Brand_Porsche', 'Brand_Renault', 'Brand_Skoda', 'Brand_Smart',\n",
       "       'Brand_Tata', 'Brand_Toyota', 'Brand_Volkswagen', 'Brand_Volvo'],\n",
       "      dtype='object')"
      ]
     },
     "execution_count": 88,
     "metadata": {},
     "output_type": "execute_result"
    }
   ],
   "source": [
    "X_test = X_test.drop(['Price_log'], axis =1)\n",
    "X_test.columns"
   ]
  },
  {
   "cell_type": "markdown",
   "metadata": {
    "id": "ItsgSUyiIrdI"
   },
   "source": [
    "**Feature Importance**"
   ]
  },
  {
   "cell_type": "markdown",
   "metadata": {
    "id": "PBoHEXnjtOTC"
   },
   "source": [
    "**Observations and insights: ______**\n",
    "- Like the previous decision tree and random forest models, Power and Year are identified as being most important, in that order, and accounting for 80%+ in determining the predicted price.\n",
    "- Given the consistency of these findings, a simpler model could be developed in which most other variables are dropped."
   ]
  },
  {
   "cell_type": "code",
   "execution_count": 89,
   "metadata": {
    "id": "DCInk4Y8tOTC"
   },
   "outputs": [],
   "source": [
    "# Defining list of models you have trained\n",
    "models = [lr,olsmodel1, ridge,xgb, xgb_tuned, dtree,rf_estimator, dtree_tuned, rf_tuned_regressor]\n",
    "\n",
    "# Defining empty lists to add train and test results\n",
    "r2_train = []\n",
    "r2_test = []\n",
    "rmse_train = []\n",
    "rmse_test = []\n",
    "\n",
    "# Looping through all the models to get the rmse and r2 scores\n",
    "for model in models:\n",
    "    \n",
    "    # Accuracy score\n",
    "    j = get_model_score(model, False)\n",
    "    \n",
    "    r2_train.append(j[0])\n",
    "    \n",
    "    r2_test.append(j[1])\n",
    "    \n",
    "    rmse_train.append(j[2])\n",
    "    \n",
    "    rmse_test.append(j[3])"
   ]
  },
  {
   "cell_type": "code",
   "execution_count": 90,
   "metadata": {
    "colab": {
     "base_uri": "https://localhost:8080/",
     "height": 332
    },
    "id": "zuLokC7xtOTD",
    "outputId": "659045de-e62f-4ca4-844e-c0d68c000ed4"
   },
   "outputs": [
    {
     "data": {
      "text/html": [
       "<div>\n",
       "<style scoped>\n",
       "    .dataframe tbody tr th:only-of-type {\n",
       "        vertical-align: middle;\n",
       "    }\n",
       "\n",
       "    .dataframe tbody tr th {\n",
       "        vertical-align: top;\n",
       "    }\n",
       "\n",
       "    .dataframe thead th {\n",
       "        text-align: right;\n",
       "    }\n",
       "</style>\n",
       "<table border=\"1\" class=\"dataframe\">\n",
       "  <thead>\n",
       "    <tr style=\"text-align: right;\">\n",
       "      <th></th>\n",
       "      <th>Model</th>\n",
       "      <th>Train_r2</th>\n",
       "      <th>Test_r2</th>\n",
       "      <th>Train_RMSE</th>\n",
       "      <th>Test_RMSE</th>\n",
       "    </tr>\n",
       "  </thead>\n",
       "  <tbody>\n",
       "    <tr>\n",
       "      <th>0</th>\n",
       "      <td>Linear Regression-sklearn</td>\n",
       "      <td>0.871921</td>\n",
       "      <td>0.855197</td>\n",
       "      <td>3.881119</td>\n",
       "      <td>3.920680</td>\n",
       "    </tr>\n",
       "    <tr>\n",
       "      <th>1</th>\n",
       "      <td>Linear Regression-statsmodel</td>\n",
       "      <td>0.871921</td>\n",
       "      <td>0.855197</td>\n",
       "      <td>3.881119</td>\n",
       "      <td>3.920680</td>\n",
       "    </tr>\n",
       "    <tr>\n",
       "      <th>2</th>\n",
       "      <td>Ridge</td>\n",
       "      <td>0.870418</td>\n",
       "      <td>0.853353</td>\n",
       "      <td>3.903821</td>\n",
       "      <td>3.945566</td>\n",
       "    </tr>\n",
       "    <tr>\n",
       "      <th>3</th>\n",
       "      <td>XGBoost</td>\n",
       "      <td>0.988625</td>\n",
       "      <td>0.888887</td>\n",
       "      <td>1.156613</td>\n",
       "      <td>3.434429</td>\n",
       "    </tr>\n",
       "    <tr>\n",
       "      <th>4</th>\n",
       "      <td>XGBoost-tuned</td>\n",
       "      <td>0.996848</td>\n",
       "      <td>0.914448</td>\n",
       "      <td>0.608884</td>\n",
       "      <td>3.013609</td>\n",
       "    </tr>\n",
       "    <tr>\n",
       "      <th>5</th>\n",
       "      <td>Decision Tree</td>\n",
       "      <td>0.999992</td>\n",
       "      <td>0.779637</td>\n",
       "      <td>0.030836</td>\n",
       "      <td>4.836624</td>\n",
       "    </tr>\n",
       "    <tr>\n",
       "      <th>6</th>\n",
       "      <td>Random Forest</td>\n",
       "      <td>0.982483</td>\n",
       "      <td>0.879730</td>\n",
       "      <td>1.435300</td>\n",
       "      <td>3.573151</td>\n",
       "    </tr>\n",
       "    <tr>\n",
       "      <th>7</th>\n",
       "      <td>Decision Tree- tuned</td>\n",
       "      <td>0.851900</td>\n",
       "      <td>0.796804</td>\n",
       "      <td>4.173442</td>\n",
       "      <td>4.644402</td>\n",
       "    </tr>\n",
       "    <tr>\n",
       "      <th>8</th>\n",
       "      <td>Random Forest - tuned</td>\n",
       "      <td>0.844669</td>\n",
       "      <td>0.807935</td>\n",
       "      <td>4.274119</td>\n",
       "      <td>4.515404</td>\n",
       "    </tr>\n",
       "  </tbody>\n",
       "</table>\n",
       "</div>"
      ],
      "text/plain": [
       "                          Model  Train_r2   Test_r2  Train_RMSE  Test_RMSE\n",
       "0     Linear Regression-sklearn  0.871921  0.855197    3.881119   3.920680\n",
       "1  Linear Regression-statsmodel  0.871921  0.855197    3.881119   3.920680\n",
       "2                         Ridge  0.870418  0.853353    3.903821   3.945566\n",
       "3                       XGBoost  0.988625  0.888887    1.156613   3.434429\n",
       "4                 XGBoost-tuned  0.996848  0.914448    0.608884   3.013609\n",
       "5                 Decision Tree  0.999992  0.779637    0.030836   4.836624\n",
       "6                 Random Forest  0.982483  0.879730    1.435300   3.573151\n",
       "7          Decision Tree- tuned  0.851900  0.796804    4.173442   4.644402\n",
       "8         Random Forest - tuned  0.844669  0.807935    4.274119   4.515404"
      ]
     },
     "execution_count": 90,
     "metadata": {},
     "output_type": "execute_result"
    }
   ],
   "source": [
    "comparison_frame = pd.DataFrame({'Model':['Linear Regression-sklearn','Linear Regression-statsmodel','Ridge','XGBoost','XGBoost-tuned','Decision Tree', 'Random Forest', 'Decision Tree- tuned','Random Forest - tuned'], \n",
    "                                          'Train_r2': r2_train,'Test_r2': r2_test,\n",
    "                                          'Train_RMSE': rmse_train,'Test_RMSE': rmse_test}) \n",
    "comparison_frame"
   ]
  },
  {
   "cell_type": "code",
   "execution_count": 91,
   "metadata": {},
   "outputs": [
    {
     "name": "stderr",
     "output_type": "stream",
     "text": [
      "C:\\Users\\droem\\AppData\\Local\\Temp\\ipykernel_41784\\1261241113.py:2: FutureWarning: The frame.append method is deprecated and will be removed from pandas in a future version. Use pandas.concat instead.\n",
      "  comparison_frame_concat = comparison_frame.append(AutoML_scores, ignore_index=True)\n"
     ]
    },
    {
     "data": {
      "text/html": [
       "<div>\n",
       "<style scoped>\n",
       "    .dataframe tbody tr th:only-of-type {\n",
       "        vertical-align: middle;\n",
       "    }\n",
       "\n",
       "    .dataframe tbody tr th {\n",
       "        vertical-align: top;\n",
       "    }\n",
       "\n",
       "    .dataframe thead th {\n",
       "        text-align: right;\n",
       "    }\n",
       "</style>\n",
       "<table border=\"1\" class=\"dataframe\">\n",
       "  <thead>\n",
       "    <tr style=\"text-align: right;\">\n",
       "      <th></th>\n",
       "      <th>Model</th>\n",
       "      <th>Train_r2</th>\n",
       "      <th>Test_r2</th>\n",
       "      <th>Train_RMSE</th>\n",
       "      <th>Test_RMSE</th>\n",
       "    </tr>\n",
       "  </thead>\n",
       "  <tbody>\n",
       "    <tr>\n",
       "      <th>0</th>\n",
       "      <td>Linear Regression-sklearn</td>\n",
       "      <td>0.871921</td>\n",
       "      <td>0.855197</td>\n",
       "      <td>3.881119</td>\n",
       "      <td>3.920680</td>\n",
       "    </tr>\n",
       "    <tr>\n",
       "      <th>1</th>\n",
       "      <td>Linear Regression-statsmodel</td>\n",
       "      <td>0.871921</td>\n",
       "      <td>0.855197</td>\n",
       "      <td>3.881119</td>\n",
       "      <td>3.920680</td>\n",
       "    </tr>\n",
       "    <tr>\n",
       "      <th>2</th>\n",
       "      <td>Ridge</td>\n",
       "      <td>0.870418</td>\n",
       "      <td>0.853353</td>\n",
       "      <td>3.903821</td>\n",
       "      <td>3.945566</td>\n",
       "    </tr>\n",
       "    <tr>\n",
       "      <th>3</th>\n",
       "      <td>XGBoost</td>\n",
       "      <td>0.988625</td>\n",
       "      <td>0.888887</td>\n",
       "      <td>1.156613</td>\n",
       "      <td>3.434429</td>\n",
       "    </tr>\n",
       "    <tr>\n",
       "      <th>4</th>\n",
       "      <td>XGBoost-tuned</td>\n",
       "      <td>0.996848</td>\n",
       "      <td>0.914448</td>\n",
       "      <td>0.608884</td>\n",
       "      <td>3.013609</td>\n",
       "    </tr>\n",
       "    <tr>\n",
       "      <th>5</th>\n",
       "      <td>Decision Tree</td>\n",
       "      <td>0.999992</td>\n",
       "      <td>0.779637</td>\n",
       "      <td>0.030836</td>\n",
       "      <td>4.836624</td>\n",
       "    </tr>\n",
       "    <tr>\n",
       "      <th>6</th>\n",
       "      <td>Random Forest</td>\n",
       "      <td>0.982483</td>\n",
       "      <td>0.879730</td>\n",
       "      <td>1.435300</td>\n",
       "      <td>3.573151</td>\n",
       "    </tr>\n",
       "    <tr>\n",
       "      <th>7</th>\n",
       "      <td>Decision Tree- tuned</td>\n",
       "      <td>0.851900</td>\n",
       "      <td>0.796804</td>\n",
       "      <td>4.173442</td>\n",
       "      <td>4.644402</td>\n",
       "    </tr>\n",
       "    <tr>\n",
       "      <th>8</th>\n",
       "      <td>Random Forest - tuned</td>\n",
       "      <td>0.844669</td>\n",
       "      <td>0.807935</td>\n",
       "      <td>4.274119</td>\n",
       "      <td>4.515404</td>\n",
       "    </tr>\n",
       "    <tr>\n",
       "      <th>9</th>\n",
       "      <td>AutoML-StackedEnsemble</td>\n",
       "      <td>0.974683</td>\n",
       "      <td>0.914052</td>\n",
       "      <td>1.725533</td>\n",
       "      <td>3.020579</td>\n",
       "    </tr>\n",
       "  </tbody>\n",
       "</table>\n",
       "</div>"
      ],
      "text/plain": [
       "                          Model  Train_r2   Test_r2  Train_RMSE  Test_RMSE\n",
       "0     Linear Regression-sklearn  0.871921  0.855197    3.881119   3.920680\n",
       "1  Linear Regression-statsmodel  0.871921  0.855197    3.881119   3.920680\n",
       "2                         Ridge  0.870418  0.853353    3.903821   3.945566\n",
       "3                       XGBoost  0.988625  0.888887    1.156613   3.434429\n",
       "4                 XGBoost-tuned  0.996848  0.914448    0.608884   3.013609\n",
       "5                 Decision Tree  0.999992  0.779637    0.030836   4.836624\n",
       "6                 Random Forest  0.982483  0.879730    1.435300   3.573151\n",
       "7          Decision Tree- tuned  0.851900  0.796804    4.173442   4.644402\n",
       "8         Random Forest - tuned  0.844669  0.807935    4.274119   4.515404\n",
       "9        AutoML-StackedEnsemble  0.974683  0.914052    1.725533   3.020579"
      ]
     },
     "execution_count": 91,
     "metadata": {},
     "output_type": "execute_result"
    }
   ],
   "source": [
    "#add AutoML scores to score list\n",
    "comparison_frame_concat = comparison_frame.append(AutoML_scores, ignore_index=True)\n",
    "comparison_frame_concat"
   ]
  },
  {
   "cell_type": "markdown",
   "metadata": {
    "id": "TZrq2E9VtOTD"
   },
   "source": [
    "**Observations: _____**\n",
    "\n",
    "- The AutoML-StackedEnsemble model appears to have delivered the most accurate, least overfit model of those created, given that the training and testing R2 results were near (difference of only ~.06) and all above .9.  Linear Regression and Ridge produced a suitable model as well.\n",
    "\n",
    "-  The initial decision tree and random forest models were overfit, despite showing high accuracy in the training sets' R2 values. The Hyperparameter tuning did improve the overfitting notably, but were still more biased when compared to the linear regression models."
   ]
  },
  {
   "cell_type": "markdown",
   "metadata": {
    "id": "acSjU_ZFvyVt"
   },
   "source": [
    "**Note:** You can also try some other algorithms such as KNN and compare the model performance with the existing ones."
   ]
  },
  {
   "cell_type": "markdown",
   "metadata": {
    "id": "58KMVhO_tOTD"
   },
   "source": [
    "### **Insights**\n",
    "\n",
    "**Refined insights**:\n",
    "- What are the most meaningful insights from the data relevant to the problem?\n",
    "\n",
    "- Results consistently show that the engine power and year built of the used car are most determinative in the market value of the used car. Mileage, KM driven, and transmission type may also impact price, but to a much lower degree.\n",
    "- Conversely, most locations sold and many brands did not show a significant impact on price in any of the used cars.\n",
    "- Although many brands did not figure significantly in the overall price, some brands did significantly impact used car value. Hindustan, Mini Cooper, Land Rover, Mercedes-Benz, Audi, BMW, Jaguar, and Volvo cars all sold for higher prices, while Tata, Datsun, Chevrolet, Fiat, and Mahindra resulted in lower price  and Chevrolet used cars sold for lower prices, as found in the OLS model.\n",
    "\n",
    "**Comparison of various techniques and their relative performance**:\n",
    "- How do different techniques perform? Which one is performing relatively better? Is there scope to improve the performance further?\n",
    "- Checking for Multicollinearity and then removing features with significant VIF scores prior to applying any of the models helped decomplexify the dataset, thus allowing for more reliable results from each model.\n",
    "- Both Ordinary Least Squares (OLS) Linear Regression (LR) models from sklearn and statsmodel packages  delivered nearly identical models that seemed to properly fit the data, given the relatively high and proximate R-square values of the training and test data (.87 & .85, respectively).\n",
    "- The Ridge model provided a model comparable to the LR  models as well.\n",
    "- The XGBoost model created a slightly more desireable model, with Test r-square values (.87) and RMSE score (3.7) slightly better than the Linear Regression outcomes.  Hypertuning parameters improved results for the training values, but was a bit overfit given the disparate test values.\n",
    "- The Decision Tree and Random Forest initial models created overfit models, given the high training data R-square values (~.99), compared to the notably lower test values (.78 & .88, respectively).\n",
    "- The tuned Decision Tree and Random Forest were able to eliminate some of the overfitting of the original models with lower training R-squared values (.89 &.90, respectively), but still had notable bias, given the significantly lower test values (.81 & .84, respectively).\n",
    "- All models included the RMSE values for training and test that hovered around or below 4.\n",
    "- The LR models performed nearly identically, delivering a well fitting model, especially compared to the decision tree and random forest models.\n",
    "- The statsmodel LR model was improved by removing insignificant variables, but did not produce comparatively better results.\n",
    "- The feature importance analysis revealed most of the features impact the Decision Tree and Random Forest models very little. - Some of these features could be eliminated, and further iterations could then be run on these models.\n",
    "- The AutoML Stacked Ensemble model ultimately performed the best, with a high R-square test value (.91) and lowest, by comparison RMSE score (3.03).\n",
    "- K-nearest neighbor could be applied to the dataset in order to better refine the data, and then additional modeling could be done to see if a more desirable model could be formulated.\n",
    "\n",
    "\n",
    "**Proposal for the final solution design**:\n",
    "- What model do you propose to be adopted? Why is this the best solution to adopt?\n",
    "- I propose utilizing the AutoML Stacked Ensemble model. Even though the XGBoost tuned model produced an improved R-square value it was overfit. \n",
    "- The model shows no overfitting or underfitting, given the comparable R-square values of the test and training sets.\n",
    "\n"
   ]
  },
  {
   "cell_type": "code",
   "execution_count": null,
   "metadata": {},
   "outputs": [],
   "source": []
  }
 ],
 "metadata": {
  "colab": {
   "provenance": []
  },
  "kernelspec": {
   "display_name": "Python 3 (ipykernel)",
   "language": "python",
   "name": "python3"
  },
  "language_info": {
   "codemirror_mode": {
    "name": "ipython",
    "version": 3
   },
   "file_extension": ".py",
   "mimetype": "text/x-python",
   "name": "python",
   "nbconvert_exporter": "python",
   "pygments_lexer": "ipython3",
   "version": "3.9.12"
  }
 },
 "nbformat": 4,
 "nbformat_minor": 1
}
