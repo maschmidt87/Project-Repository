{
 "cells": [
  {
   "cell_type": "markdown",
   "metadata": {
    "id": "xWKrvyhfVL3e"
   },
   "source": [
    "# **Milestone 2**"
   ]
  },
  {
   "cell_type": "markdown",
   "metadata": {
    "id": "Rzh8pcvmtOS8"
   },
   "source": [
    "## **Model Building**\n",
    "\n",
    "1. What we want to predict is the \"Price\". We will use the normalized version 'price_log' for modeling.\n",
    "2. Before we proceed to the model, we'll have to encode categorical features. We will drop categorical features like Name. \n",
    "3. We'll split the data into train and test, to be able to evaluate the model that we build on the train data.\n",
    "4. Build Regression models using train data.\n",
    "5. Evaluate the model performance."
   ]
  },
  {
   "cell_type": "markdown",
   "metadata": {},
   "source": [
    "**Note:** Please load the data frame that was saved in Milestone 1 here before separating the data, and then proceed to the next step in Milestone 2."
   ]
  },
  {
   "cell_type": "markdown",
   "metadata": {},
   "source": [
    "### **Load the data**"
   ]
  },
  {
   "cell_type": "code",
   "execution_count": 1,
   "metadata": {},
   "outputs": [],
   "source": [
    "import pandas as pd\n",
    "\n",
    "cars_data = pd.read_csv(\"cars_data_updated_cleaned_3.csv\")"
   ]
  },
  {
   "cell_type": "code",
   "execution_count": 2,
   "metadata": {},
   "outputs": [
    {
     "data": {
      "text/html": [
       "<div>\n",
       "<style scoped>\n",
       "    .dataframe tbody tr th:only-of-type {\n",
       "        vertical-align: middle;\n",
       "    }\n",
       "\n",
       "    .dataframe tbody tr th {\n",
       "        vertical-align: top;\n",
       "    }\n",
       "\n",
       "    .dataframe thead th {\n",
       "        text-align: right;\n",
       "    }\n",
       "</style>\n",
       "<table border=\"1\" class=\"dataframe\">\n",
       "  <thead>\n",
       "    <tr style=\"text-align: right;\">\n",
       "      <th></th>\n",
       "      <th>count</th>\n",
       "      <th>unique</th>\n",
       "      <th>top</th>\n",
       "      <th>freq</th>\n",
       "    </tr>\n",
       "  </thead>\n",
       "  <tbody>\n",
       "    <tr>\n",
       "      <th>Name</th>\n",
       "      <td>7249</td>\n",
       "      <td>2038</td>\n",
       "      <td>Mahindra XUV500 W8 2WD</td>\n",
       "      <td>55</td>\n",
       "    </tr>\n",
       "    <tr>\n",
       "      <th>Location</th>\n",
       "      <td>7249</td>\n",
       "      <td>11</td>\n",
       "      <td>Mumbai</td>\n",
       "      <td>949</td>\n",
       "    </tr>\n",
       "    <tr>\n",
       "      <th>Fuel_Type</th>\n",
       "      <td>7249</td>\n",
       "      <td>5</td>\n",
       "      <td>Diesel</td>\n",
       "      <td>3849</td>\n",
       "    </tr>\n",
       "    <tr>\n",
       "      <th>Transmission</th>\n",
       "      <td>7249</td>\n",
       "      <td>2</td>\n",
       "      <td>Manual</td>\n",
       "      <td>5204</td>\n",
       "    </tr>\n",
       "    <tr>\n",
       "      <th>Owner_Type</th>\n",
       "      <td>7249</td>\n",
       "      <td>4</td>\n",
       "      <td>First</td>\n",
       "      <td>5949</td>\n",
       "    </tr>\n",
       "    <tr>\n",
       "      <th>Brand</th>\n",
       "      <td>7249</td>\n",
       "      <td>32</td>\n",
       "      <td>Maruti</td>\n",
       "      <td>1444</td>\n",
       "    </tr>\n",
       "    <tr>\n",
       "      <th>Model</th>\n",
       "      <td>7249</td>\n",
       "      <td>218</td>\n",
       "      <td>Swift</td>\n",
       "      <td>418</td>\n",
       "    </tr>\n",
       "    <tr>\n",
       "      <th>Brand_model</th>\n",
       "      <td>7249</td>\n",
       "      <td>222</td>\n",
       "      <td>Maruti_Swift</td>\n",
       "      <td>418</td>\n",
       "    </tr>\n",
       "  </tbody>\n",
       "</table>\n",
       "</div>"
      ],
      "text/plain": [
       "             count unique                     top  freq\n",
       "Name          7249   2038  Mahindra XUV500 W8 2WD    55\n",
       "Location      7249     11                  Mumbai   949\n",
       "Fuel_Type     7249      5                  Diesel  3849\n",
       "Transmission  7249      2                  Manual  5204\n",
       "Owner_Type    7249      4                   First  5949\n",
       "Brand         7249     32                  Maruti  1444\n",
       "Model         7249    218                   Swift   418\n",
       "Brand_model   7249    222            Maruti_Swift   418"
      ]
     },
     "execution_count": 2,
     "metadata": {},
     "output_type": "execute_result"
    }
   ],
   "source": [
    "cars_data.describe(include = ['object']).T"
   ]
  },
  {
   "cell_type": "code",
   "execution_count": null,
   "metadata": {},
   "outputs": [],
   "source": []
  },
  {
   "cell_type": "code",
   "execution_count": 3,
   "metadata": {},
   "outputs": [
    {
     "data": {
      "text/html": [
       "<div>\n",
       "<style scoped>\n",
       "    .dataframe tbody tr th:only-of-type {\n",
       "        vertical-align: middle;\n",
       "    }\n",
       "\n",
       "    .dataframe tbody tr th {\n",
       "        vertical-align: top;\n",
       "    }\n",
       "\n",
       "    .dataframe thead th {\n",
       "        text-align: right;\n",
       "    }\n",
       "</style>\n",
       "<table border=\"1\" class=\"dataframe\">\n",
       "  <thead>\n",
       "    <tr style=\"text-align: right;\">\n",
       "      <th></th>\n",
       "      <th>count</th>\n",
       "      <th>mean</th>\n",
       "      <th>std</th>\n",
       "      <th>min</th>\n",
       "      <th>25%</th>\n",
       "      <th>50%</th>\n",
       "      <th>75%</th>\n",
       "      <th>max</th>\n",
       "    </tr>\n",
       "  </thead>\n",
       "  <tbody>\n",
       "    <tr>\n",
       "      <th>Year</th>\n",
       "      <td>7249.0</td>\n",
       "      <td>2013.364740</td>\n",
       "      <td>3.254637</td>\n",
       "      <td>1996.000000</td>\n",
       "      <td>2011.000000</td>\n",
       "      <td>2014.000000</td>\n",
       "      <td>2016.000000</td>\n",
       "      <td>2019.000000</td>\n",
       "    </tr>\n",
       "    <tr>\n",
       "      <th>Kilometers_Driven</th>\n",
       "      <td>7249.0</td>\n",
       "      <td>57723.521175</td>\n",
       "      <td>36541.922680</td>\n",
       "      <td>171.000000</td>\n",
       "      <td>34000.000000</td>\n",
       "      <td>53416.000000</td>\n",
       "      <td>73000.000000</td>\n",
       "      <td>720000.000000</td>\n",
       "    </tr>\n",
       "    <tr>\n",
       "      <th>Mileage</th>\n",
       "      <td>7249.0</td>\n",
       "      <td>18.318437</td>\n",
       "      <td>4.148297</td>\n",
       "      <td>7.500000</td>\n",
       "      <td>15.290000</td>\n",
       "      <td>18.160000</td>\n",
       "      <td>21.100000</td>\n",
       "      <td>33.540000</td>\n",
       "    </tr>\n",
       "    <tr>\n",
       "      <th>Engine</th>\n",
       "      <td>7249.0</td>\n",
       "      <td>1615.675417</td>\n",
       "      <td>591.603602</td>\n",
       "      <td>72.000000</td>\n",
       "      <td>1198.000000</td>\n",
       "      <td>1493.000000</td>\n",
       "      <td>1968.000000</td>\n",
       "      <td>5998.000000</td>\n",
       "    </tr>\n",
       "    <tr>\n",
       "      <th>Power</th>\n",
       "      <td>7249.0</td>\n",
       "      <td>112.341877</td>\n",
       "      <td>52.850118</td>\n",
       "      <td>34.200000</td>\n",
       "      <td>75.000000</td>\n",
       "      <td>94.000000</td>\n",
       "      <td>138.030000</td>\n",
       "      <td>616.000000</td>\n",
       "    </tr>\n",
       "    <tr>\n",
       "      <th>Seats</th>\n",
       "      <td>7249.0</td>\n",
       "      <td>5.279487</td>\n",
       "      <td>0.806445</td>\n",
       "      <td>2.000000</td>\n",
       "      <td>5.000000</td>\n",
       "      <td>5.000000</td>\n",
       "      <td>5.000000</td>\n",
       "      <td>10.000000</td>\n",
       "    </tr>\n",
       "    <tr>\n",
       "      <th>New_price</th>\n",
       "      <td>7249.0</td>\n",
       "      <td>21.218825</td>\n",
       "      <td>24.325179</td>\n",
       "      <td>3.910000</td>\n",
       "      <td>7.920000</td>\n",
       "      <td>11.480000</td>\n",
       "      <td>22.370000</td>\n",
       "      <td>375.000000</td>\n",
       "    </tr>\n",
       "    <tr>\n",
       "      <th>Price</th>\n",
       "      <td>7249.0</td>\n",
       "      <td>9.322196</td>\n",
       "      <td>10.685974</td>\n",
       "      <td>0.440000</td>\n",
       "      <td>3.500000</td>\n",
       "      <td>5.600000</td>\n",
       "      <td>9.890000</td>\n",
       "      <td>100.000000</td>\n",
       "    </tr>\n",
       "    <tr>\n",
       "      <th>kilometers_driven_log</th>\n",
       "      <td>7249.0</td>\n",
       "      <td>10.760273</td>\n",
       "      <td>0.713008</td>\n",
       "      <td>5.141664</td>\n",
       "      <td>10.434116</td>\n",
       "      <td>10.885866</td>\n",
       "      <td>11.198215</td>\n",
       "      <td>13.487006</td>\n",
       "    </tr>\n",
       "    <tr>\n",
       "      <th>Price_log</th>\n",
       "      <td>7249.0</td>\n",
       "      <td>1.819207</td>\n",
       "      <td>0.864312</td>\n",
       "      <td>-0.820981</td>\n",
       "      <td>1.252763</td>\n",
       "      <td>1.722767</td>\n",
       "      <td>2.291524</td>\n",
       "      <td>4.605170</td>\n",
       "    </tr>\n",
       "  </tbody>\n",
       "</table>\n",
       "</div>"
      ],
      "text/plain": [
       "                        count          mean           std          min  \\\n",
       "Year                   7249.0   2013.364740      3.254637  1996.000000   \n",
       "Kilometers_Driven      7249.0  57723.521175  36541.922680   171.000000   \n",
       "Mileage                7249.0     18.318437      4.148297     7.500000   \n",
       "Engine                 7249.0   1615.675417    591.603602    72.000000   \n",
       "Power                  7249.0    112.341877     52.850118    34.200000   \n",
       "Seats                  7249.0      5.279487      0.806445     2.000000   \n",
       "New_price              7249.0     21.218825     24.325179     3.910000   \n",
       "Price                  7249.0      9.322196     10.685974     0.440000   \n",
       "kilometers_driven_log  7249.0     10.760273      0.713008     5.141664   \n",
       "Price_log              7249.0      1.819207      0.864312    -0.820981   \n",
       "\n",
       "                                25%           50%           75%            max  \n",
       "Year                    2011.000000   2014.000000   2016.000000    2019.000000  \n",
       "Kilometers_Driven      34000.000000  53416.000000  73000.000000  720000.000000  \n",
       "Mileage                   15.290000     18.160000     21.100000      33.540000  \n",
       "Engine                  1198.000000   1493.000000   1968.000000    5998.000000  \n",
       "Power                     75.000000     94.000000    138.030000     616.000000  \n",
       "Seats                      5.000000      5.000000      5.000000      10.000000  \n",
       "New_price                  7.920000     11.480000     22.370000     375.000000  \n",
       "Price                      3.500000      5.600000      9.890000     100.000000  \n",
       "kilometers_driven_log     10.434116     10.885866     11.198215      13.487006  \n",
       "Price_log                  1.252763      1.722767      2.291524       4.605170  "
      ]
     },
     "execution_count": 3,
     "metadata": {},
     "output_type": "execute_result"
    }
   ],
   "source": [
    "cars_data.describe().T"
   ]
  },
  {
   "cell_type": "markdown",
   "metadata": {
    "id": "0L-oAMItxLP-"
   },
   "source": [
    "### **Split the Data**"
   ]
  },
  {
   "cell_type": "markdown",
   "metadata": {
    "id": "Aat-Ne-ZVL3e"
   },
   "source": [
    "<li>Step1: Seperating the indepdent variables (X) and the dependent variable (y). \n",
    "<li>Step2: Eliminate variables adding unncessary complexity.   \n",
    "<li>Step3: Encode the categorical variables in X using pd.dummies.\n",
    "<li>Step4: Split the data into train and test using train_test_split."
   ]
  },
  {
   "cell_type": "markdown",
   "metadata": {
    "id": "Cwh_IhfqVL3f"
   },
   "source": [
    "**Think about it:** Why we should drop 'Name','Price','price_log','Kilometers_Driven' from X before splitting? \n",
    "- We don't need name column, since we have already extracted the relevant information in the brand and model columns. We can also drop the Name_brand column, since it is redundant and may lead to overfitting the dataset. \n",
    "- Price and price_log are depedent variables that we are attempting to model for, so we don't want to use them as inputs. \n",
    "- We are using the normalized data 'kilometers_driven_log' to account for the KM driven, so we can drop the raw 'Kilometers_Driven' from the input dataset. \n",
    "- Let's also drop Model, since it has 218 unique values, thus simplifying the dataset."
   ]
  },
  {
   "cell_type": "code",
   "execution_count": 4,
   "metadata": {
    "id": "NTly1jIxtOS8",
    "scrolled": true
   },
   "outputs": [
    {
     "data": {
      "text/html": [
       "<div>\n",
       "<style scoped>\n",
       "    .dataframe tbody tr th:only-of-type {\n",
       "        vertical-align: middle;\n",
       "    }\n",
       "\n",
       "    .dataframe tbody tr th {\n",
       "        vertical-align: top;\n",
       "    }\n",
       "\n",
       "    .dataframe thead th {\n",
       "        text-align: right;\n",
       "    }\n",
       "</style>\n",
       "<table border=\"1\" class=\"dataframe\">\n",
       "  <thead>\n",
       "    <tr style=\"text-align: right;\">\n",
       "      <th></th>\n",
       "      <th>count</th>\n",
       "      <th>unique</th>\n",
       "      <th>top</th>\n",
       "      <th>freq</th>\n",
       "    </tr>\n",
       "  </thead>\n",
       "  <tbody>\n",
       "    <tr>\n",
       "      <th>Location</th>\n",
       "      <td>7249</td>\n",
       "      <td>11</td>\n",
       "      <td>Mumbai</td>\n",
       "      <td>949</td>\n",
       "    </tr>\n",
       "    <tr>\n",
       "      <th>Fuel_Type</th>\n",
       "      <td>7249</td>\n",
       "      <td>5</td>\n",
       "      <td>Diesel</td>\n",
       "      <td>3849</td>\n",
       "    </tr>\n",
       "    <tr>\n",
       "      <th>Transmission</th>\n",
       "      <td>7249</td>\n",
       "      <td>2</td>\n",
       "      <td>Manual</td>\n",
       "      <td>5204</td>\n",
       "    </tr>\n",
       "    <tr>\n",
       "      <th>Owner_Type</th>\n",
       "      <td>7249</td>\n",
       "      <td>4</td>\n",
       "      <td>First</td>\n",
       "      <td>5949</td>\n",
       "    </tr>\n",
       "    <tr>\n",
       "      <th>Brand</th>\n",
       "      <td>7249</td>\n",
       "      <td>32</td>\n",
       "      <td>Maruti</td>\n",
       "      <td>1444</td>\n",
       "    </tr>\n",
       "  </tbody>\n",
       "</table>\n",
       "</div>"
      ],
      "text/plain": [
       "             count unique     top  freq\n",
       "Location      7249     11  Mumbai   949\n",
       "Fuel_Type     7249      5  Diesel  3849\n",
       "Transmission  7249      2  Manual  5204\n",
       "Owner_Type    7249      4   First  5949\n",
       "Brand         7249     32  Maruti  1444"
      ]
     },
     "execution_count": 4,
     "metadata": {},
     "output_type": "execute_result"
    }
   ],
   "source": [
    "# Step-1\n",
    "X = cars_data.drop(['Name','Price','Price_log','Kilometers_Driven','Brand_model','Model'], axis = 1)\n",
    "\n",
    "\n",
    "y = cars_data[[\"Price_log\", \"Price\"]]\n",
    "\n",
    "X.describe(include = ['object']).T"
   ]
  },
  {
   "cell_type": "code",
   "execution_count": 5,
   "metadata": {},
   "outputs": [
    {
     "data": {
      "text/html": [
       "<div>\n",
       "<style scoped>\n",
       "    .dataframe tbody tr th:only-of-type {\n",
       "        vertical-align: middle;\n",
       "    }\n",
       "\n",
       "    .dataframe tbody tr th {\n",
       "        vertical-align: top;\n",
       "    }\n",
       "\n",
       "    .dataframe thead th {\n",
       "        text-align: right;\n",
       "    }\n",
       "</style>\n",
       "<table border=\"1\" class=\"dataframe\">\n",
       "  <thead>\n",
       "    <tr style=\"text-align: right;\">\n",
       "      <th></th>\n",
       "      <th>count</th>\n",
       "      <th>mean</th>\n",
       "      <th>std</th>\n",
       "      <th>min</th>\n",
       "      <th>25%</th>\n",
       "      <th>50%</th>\n",
       "      <th>75%</th>\n",
       "      <th>max</th>\n",
       "    </tr>\n",
       "  </thead>\n",
       "  <tbody>\n",
       "    <tr>\n",
       "      <th>Year</th>\n",
       "      <td>7249.0</td>\n",
       "      <td>2013.364740</td>\n",
       "      <td>3.254637</td>\n",
       "      <td>1996.000000</td>\n",
       "      <td>2011.000000</td>\n",
       "      <td>2014.000000</td>\n",
       "      <td>2016.000000</td>\n",
       "      <td>2019.000000</td>\n",
       "    </tr>\n",
       "    <tr>\n",
       "      <th>Mileage</th>\n",
       "      <td>7249.0</td>\n",
       "      <td>18.318437</td>\n",
       "      <td>4.148297</td>\n",
       "      <td>7.500000</td>\n",
       "      <td>15.290000</td>\n",
       "      <td>18.160000</td>\n",
       "      <td>21.100000</td>\n",
       "      <td>33.540000</td>\n",
       "    </tr>\n",
       "    <tr>\n",
       "      <th>Engine</th>\n",
       "      <td>7249.0</td>\n",
       "      <td>1615.675417</td>\n",
       "      <td>591.603602</td>\n",
       "      <td>72.000000</td>\n",
       "      <td>1198.000000</td>\n",
       "      <td>1493.000000</td>\n",
       "      <td>1968.000000</td>\n",
       "      <td>5998.000000</td>\n",
       "    </tr>\n",
       "    <tr>\n",
       "      <th>Power</th>\n",
       "      <td>7249.0</td>\n",
       "      <td>112.341877</td>\n",
       "      <td>52.850118</td>\n",
       "      <td>34.200000</td>\n",
       "      <td>75.000000</td>\n",
       "      <td>94.000000</td>\n",
       "      <td>138.030000</td>\n",
       "      <td>616.000000</td>\n",
       "    </tr>\n",
       "    <tr>\n",
       "      <th>Seats</th>\n",
       "      <td>7249.0</td>\n",
       "      <td>5.279487</td>\n",
       "      <td>0.806445</td>\n",
       "      <td>2.000000</td>\n",
       "      <td>5.000000</td>\n",
       "      <td>5.000000</td>\n",
       "      <td>5.000000</td>\n",
       "      <td>10.000000</td>\n",
       "    </tr>\n",
       "    <tr>\n",
       "      <th>New_price</th>\n",
       "      <td>7249.0</td>\n",
       "      <td>21.218825</td>\n",
       "      <td>24.325179</td>\n",
       "      <td>3.910000</td>\n",
       "      <td>7.920000</td>\n",
       "      <td>11.480000</td>\n",
       "      <td>22.370000</td>\n",
       "      <td>375.000000</td>\n",
       "    </tr>\n",
       "    <tr>\n",
       "      <th>kilometers_driven_log</th>\n",
       "      <td>7249.0</td>\n",
       "      <td>10.760273</td>\n",
       "      <td>0.713008</td>\n",
       "      <td>5.141664</td>\n",
       "      <td>10.434116</td>\n",
       "      <td>10.885866</td>\n",
       "      <td>11.198215</td>\n",
       "      <td>13.487006</td>\n",
       "    </tr>\n",
       "  </tbody>\n",
       "</table>\n",
       "</div>"
      ],
      "text/plain": [
       "                        count         mean         std          min  \\\n",
       "Year                   7249.0  2013.364740    3.254637  1996.000000   \n",
       "Mileage                7249.0    18.318437    4.148297     7.500000   \n",
       "Engine                 7249.0  1615.675417  591.603602    72.000000   \n",
       "Power                  7249.0   112.341877   52.850118    34.200000   \n",
       "Seats                  7249.0     5.279487    0.806445     2.000000   \n",
       "New_price              7249.0    21.218825   24.325179     3.910000   \n",
       "kilometers_driven_log  7249.0    10.760273    0.713008     5.141664   \n",
       "\n",
       "                               25%          50%          75%          max  \n",
       "Year                   2011.000000  2014.000000  2016.000000  2019.000000  \n",
       "Mileage                  15.290000    18.160000    21.100000    33.540000  \n",
       "Engine                 1198.000000  1493.000000  1968.000000  5998.000000  \n",
       "Power                    75.000000    94.000000   138.030000   616.000000  \n",
       "Seats                     5.000000     5.000000     5.000000    10.000000  \n",
       "New_price                 7.920000    11.480000    22.370000   375.000000  \n",
       "kilometers_driven_log    10.434116    10.885866    11.198215    13.487006  "
      ]
     },
     "execution_count": 5,
     "metadata": {},
     "output_type": "execute_result"
    }
   ],
   "source": [
    "X.describe().T"
   ]
  },
  {
   "cell_type": "code",
   "execution_count": 6,
   "metadata": {},
   "outputs": [],
   "source": [
    "\n",
    "# Import Statsmodels \n",
    "import statsmodels.api as sm\n",
    "\n",
    "\n"
   ]
  },
  {
   "cell_type": "code",
   "execution_count": 7,
   "metadata": {
    "id": "vzCLGMzbVL3f"
   },
   "outputs": [],
   "source": [
    "# Step-2 Use pd.get_dummies(drop_first = True)\n",
    "X = pd.get_dummies(X, drop_first = True)\n",
    "#add constants to X\n",
    "X = sm.add_constant(X)"
   ]
  },
  {
   "cell_type": "markdown",
   "metadata": {},
   "source": [
    "### **Check for Multicollinearity**\n",
    "\n",
    "We will use the Variance Inflation Factor (VIF), to check if there is multicollinearity in the data. We can further eliminate columns that are colinear before we split the data for modeling purposes.\n",
    "\n",
    "Features having a VIF score > 5 will be dropped / treated till all the features have a VIF score < 5"
   ]
  },
  {
   "cell_type": "code",
   "execution_count": 8,
   "metadata": {},
   "outputs": [],
   "source": [
    "#create new variable to remove multicolinear variables\n",
    "X_col = X"
   ]
  },
  {
   "cell_type": "code",
   "execution_count": 9,
   "metadata": {
    "scrolled": false
   },
   "outputs": [
    {
     "data": {
      "text/html": [
       "<div>\n",
       "<style scoped>\n",
       "    .dataframe tbody tr th:only-of-type {\n",
       "        vertical-align: middle;\n",
       "    }\n",
       "\n",
       "    .dataframe tbody tr th {\n",
       "        vertical-align: top;\n",
       "    }\n",
       "\n",
       "    .dataframe thead th {\n",
       "        text-align: right;\n",
       "    }\n",
       "</style>\n",
       "<table border=\"1\" class=\"dataframe\">\n",
       "  <thead>\n",
       "    <tr style=\"text-align: right;\">\n",
       "      <th></th>\n",
       "      <th>feature</th>\n",
       "      <th>VIF</th>\n",
       "    </tr>\n",
       "  </thead>\n",
       "  <tbody>\n",
       "    <tr>\n",
       "      <th>0</th>\n",
       "      <td>const</td>\n",
       "      <td>864005.442069</td>\n",
       "    </tr>\n",
       "    <tr>\n",
       "      <th>43</th>\n",
       "      <td>Brand_Maruti</td>\n",
       "      <td>1171.865320</td>\n",
       "    </tr>\n",
       "    <tr>\n",
       "      <th>36</th>\n",
       "      <td>Brand_Hyundai</td>\n",
       "      <td>1106.644797</td>\n",
       "    </tr>\n",
       "    <tr>\n",
       "      <th>35</th>\n",
       "      <td>Brand_Honda</td>\n",
       "      <td>676.415291</td>\n",
       "    </tr>\n",
       "    <tr>\n",
       "      <th>54</th>\n",
       "      <td>Brand_Toyota</td>\n",
       "      <td>478.314293</td>\n",
       "    </tr>\n",
       "    <tr>\n",
       "      <th>44</th>\n",
       "      <td>Brand_Mercedes-Benz</td>\n",
       "      <td>367.195872</td>\n",
       "    </tr>\n",
       "    <tr>\n",
       "      <th>55</th>\n",
       "      <td>Brand_Volkswagen</td>\n",
       "      <td>359.714120</td>\n",
       "    </tr>\n",
       "    <tr>\n",
       "      <th>33</th>\n",
       "      <td>Brand_Ford</td>\n",
       "      <td>338.578222</td>\n",
       "    </tr>\n",
       "    <tr>\n",
       "      <th>42</th>\n",
       "      <td>Brand_Mahindra</td>\n",
       "      <td>320.853973</td>\n",
       "    </tr>\n",
       "    <tr>\n",
       "      <th>27</th>\n",
       "      <td>Brand_BMW</td>\n",
       "      <td>304.213966</td>\n",
       "    </tr>\n",
       "    <tr>\n",
       "      <th>26</th>\n",
       "      <td>Brand_Audi</td>\n",
       "      <td>279.552003</td>\n",
       "    </tr>\n",
       "    <tr>\n",
       "      <th>53</th>\n",
       "      <td>Brand_Tata</td>\n",
       "      <td>224.364607</td>\n",
       "    </tr>\n",
       "    <tr>\n",
       "      <th>51</th>\n",
       "      <td>Brand_Skoda</td>\n",
       "      <td>198.873444</td>\n",
       "    </tr>\n",
       "    <tr>\n",
       "      <th>50</th>\n",
       "      <td>Brand_Renault</td>\n",
       "      <td>169.022216</td>\n",
       "    </tr>\n",
       "    <tr>\n",
       "      <th>29</th>\n",
       "      <td>Brand_Chevrolet</td>\n",
       "      <td>150.487780</td>\n",
       "    </tr>\n",
       "    <tr>\n",
       "      <th>47</th>\n",
       "      <td>Brand_Nissan</td>\n",
       "      <td>117.429568</td>\n",
       "    </tr>\n",
       "    <tr>\n",
       "      <th>41</th>\n",
       "      <td>Brand_Land</td>\n",
       "      <td>68.515218</td>\n",
       "    </tr>\n",
       "    <tr>\n",
       "      <th>39</th>\n",
       "      <td>Brand_Jaguar</td>\n",
       "      <td>49.640619</td>\n",
       "    </tr>\n",
       "    <tr>\n",
       "      <th>31</th>\n",
       "      <td>Brand_Fiat</td>\n",
       "      <td>39.216879</td>\n",
       "    </tr>\n",
       "    <tr>\n",
       "      <th>46</th>\n",
       "      <td>Brand_Mitsubishi</td>\n",
       "      <td>37.205186</td>\n",
       "    </tr>\n",
       "    <tr>\n",
       "      <th>45</th>\n",
       "      <td>Brand_Mini</td>\n",
       "      <td>32.333675</td>\n",
       "    </tr>\n",
       "    <tr>\n",
       "      <th>21</th>\n",
       "      <td>Fuel_Type_Petrol</td>\n",
       "      <td>32.295827</td>\n",
       "    </tr>\n",
       "    <tr>\n",
       "      <th>18</th>\n",
       "      <td>Fuel_Type_Diesel</td>\n",
       "      <td>31.158144</td>\n",
       "    </tr>\n",
       "    <tr>\n",
       "      <th>56</th>\n",
       "      <td>Brand_Volvo</td>\n",
       "      <td>29.322367</td>\n",
       "    </tr>\n",
       "    <tr>\n",
       "      <th>49</th>\n",
       "      <td>Brand_Porsche</td>\n",
       "      <td>20.734436</td>\n",
       "    </tr>\n",
       "    <tr>\n",
       "      <th>40</th>\n",
       "      <td>Brand_Jeep</td>\n",
       "      <td>20.224014</td>\n",
       "    </tr>\n",
       "    <tr>\n",
       "      <th>30</th>\n",
       "      <td>Brand_Datsun</td>\n",
       "      <td>18.200337</td>\n",
       "    </tr>\n",
       "    <tr>\n",
       "      <th>3</th>\n",
       "      <td>Engine</td>\n",
       "      <td>10.959256</td>\n",
       "    </tr>\n",
       "    <tr>\n",
       "      <th>4</th>\n",
       "      <td>Power</td>\n",
       "      <td>9.875831</td>\n",
       "    </tr>\n",
       "    <tr>\n",
       "      <th>6</th>\n",
       "      <td>New_price</td>\n",
       "      <td>8.491922</td>\n",
       "    </tr>\n",
       "    <tr>\n",
       "      <th>32</th>\n",
       "      <td>Brand_Force</td>\n",
       "      <td>4.041403</td>\n",
       "    </tr>\n",
       "    <tr>\n",
       "      <th>37</th>\n",
       "      <td>Brand_ISUZU</td>\n",
       "      <td>4.040818</td>\n",
       "    </tr>\n",
       "    <tr>\n",
       "      <th>16</th>\n",
       "      <td>Location_Mumbai</td>\n",
       "      <td>3.963368</td>\n",
       "    </tr>\n",
       "    <tr>\n",
       "      <th>2</th>\n",
       "      <td>Mileage</td>\n",
       "      <td>3.897549</td>\n",
       "    </tr>\n",
       "    <tr>\n",
       "      <th>12</th>\n",
       "      <td>Location_Hyderabad</td>\n",
       "      <td>3.715364</td>\n",
       "    </tr>\n",
       "    <tr>\n",
       "      <th>10</th>\n",
       "      <td>Location_Coimbatore</td>\n",
       "      <td>3.505855</td>\n",
       "    </tr>\n",
       "    <tr>\n",
       "      <th>14</th>\n",
       "      <td>Location_Kochi</td>\n",
       "      <td>3.501922</td>\n",
       "    </tr>\n",
       "    <tr>\n",
       "      <th>28</th>\n",
       "      <td>Brand_Bentley</td>\n",
       "      <td>3.484496</td>\n",
       "    </tr>\n",
       "    <tr>\n",
       "      <th>17</th>\n",
       "      <td>Location_Pune</td>\n",
       "      <td>3.441237</td>\n",
       "    </tr>\n",
       "    <tr>\n",
       "      <th>15</th>\n",
       "      <td>Location_Kolkata</td>\n",
       "      <td>3.134064</td>\n",
       "    </tr>\n",
       "    <tr>\n",
       "      <th>11</th>\n",
       "      <td>Location_Delhi</td>\n",
       "      <td>3.110878</td>\n",
       "    </tr>\n",
       "    <tr>\n",
       "      <th>38</th>\n",
       "      <td>Brand_Isuzu</td>\n",
       "      <td>3.032230</td>\n",
       "    </tr>\n",
       "    <tr>\n",
       "      <th>9</th>\n",
       "      <td>Location_Chennai</td>\n",
       "      <td>2.950219</td>\n",
       "    </tr>\n",
       "    <tr>\n",
       "      <th>13</th>\n",
       "      <td>Location_Jaipur</td>\n",
       "      <td>2.664266</td>\n",
       "    </tr>\n",
       "    <tr>\n",
       "      <th>5</th>\n",
       "      <td>Seats</td>\n",
       "      <td>2.563747</td>\n",
       "    </tr>\n",
       "    <tr>\n",
       "      <th>8</th>\n",
       "      <td>Location_Bangalore</td>\n",
       "      <td>2.483789</td>\n",
       "    </tr>\n",
       "    <tr>\n",
       "      <th>22</th>\n",
       "      <td>Transmission_Manual</td>\n",
       "      <td>2.263819</td>\n",
       "    </tr>\n",
       "    <tr>\n",
       "      <th>1</th>\n",
       "      <td>Year</td>\n",
       "      <td>2.217297</td>\n",
       "    </tr>\n",
       "    <tr>\n",
       "      <th>34</th>\n",
       "      <td>Brand_Hindustan</td>\n",
       "      <td>2.017714</td>\n",
       "    </tr>\n",
       "    <tr>\n",
       "      <th>52</th>\n",
       "      <td>Brand_Smart</td>\n",
       "      <td>2.017406</td>\n",
       "    </tr>\n",
       "    <tr>\n",
       "      <th>48</th>\n",
       "      <td>Brand_OpelCorsa</td>\n",
       "      <td>2.013455</td>\n",
       "    </tr>\n",
       "    <tr>\n",
       "      <th>7</th>\n",
       "      <td>kilometers_driven_log</td>\n",
       "      <td>1.785028</td>\n",
       "    </tr>\n",
       "    <tr>\n",
       "      <th>20</th>\n",
       "      <td>Fuel_Type_LPG</td>\n",
       "      <td>1.215655</td>\n",
       "    </tr>\n",
       "    <tr>\n",
       "      <th>24</th>\n",
       "      <td>Owner_Type_Second</td>\n",
       "      <td>1.178034</td>\n",
       "    </tr>\n",
       "    <tr>\n",
       "      <th>25</th>\n",
       "      <td>Owner_Type_Third</td>\n",
       "      <td>1.114032</td>\n",
       "    </tr>\n",
       "    <tr>\n",
       "      <th>19</th>\n",
       "      <td>Fuel_Type_Electric</td>\n",
       "      <td>1.049932</td>\n",
       "    </tr>\n",
       "    <tr>\n",
       "      <th>23</th>\n",
       "      <td>Owner_Type_Fourth &amp; Above</td>\n",
       "      <td>1.017052</td>\n",
       "    </tr>\n",
       "  </tbody>\n",
       "</table>\n",
       "</div>"
      ],
      "text/plain": [
       "                      feature            VIF\n",
       "0                       const  864005.442069\n",
       "43               Brand_Maruti    1171.865320\n",
       "36              Brand_Hyundai    1106.644797\n",
       "35                Brand_Honda     676.415291\n",
       "54               Brand_Toyota     478.314293\n",
       "44        Brand_Mercedes-Benz     367.195872\n",
       "55           Brand_Volkswagen     359.714120\n",
       "33                 Brand_Ford     338.578222\n",
       "42             Brand_Mahindra     320.853973\n",
       "27                  Brand_BMW     304.213966\n",
       "26                 Brand_Audi     279.552003\n",
       "53                 Brand_Tata     224.364607\n",
       "51                Brand_Skoda     198.873444\n",
       "50              Brand_Renault     169.022216\n",
       "29            Brand_Chevrolet     150.487780\n",
       "47               Brand_Nissan     117.429568\n",
       "41                 Brand_Land      68.515218\n",
       "39               Brand_Jaguar      49.640619\n",
       "31                 Brand_Fiat      39.216879\n",
       "46           Brand_Mitsubishi      37.205186\n",
       "45                 Brand_Mini      32.333675\n",
       "21           Fuel_Type_Petrol      32.295827\n",
       "18           Fuel_Type_Diesel      31.158144\n",
       "56                Brand_Volvo      29.322367\n",
       "49              Brand_Porsche      20.734436\n",
       "40                 Brand_Jeep      20.224014\n",
       "30               Brand_Datsun      18.200337\n",
       "3                      Engine      10.959256\n",
       "4                       Power       9.875831\n",
       "6                   New_price       8.491922\n",
       "32                Brand_Force       4.041403\n",
       "37                Brand_ISUZU       4.040818\n",
       "16            Location_Mumbai       3.963368\n",
       "2                     Mileage       3.897549\n",
       "12         Location_Hyderabad       3.715364\n",
       "10        Location_Coimbatore       3.505855\n",
       "14             Location_Kochi       3.501922\n",
       "28              Brand_Bentley       3.484496\n",
       "17              Location_Pune       3.441237\n",
       "15           Location_Kolkata       3.134064\n",
       "11             Location_Delhi       3.110878\n",
       "38                Brand_Isuzu       3.032230\n",
       "9            Location_Chennai       2.950219\n",
       "13            Location_Jaipur       2.664266\n",
       "5                       Seats       2.563747\n",
       "8          Location_Bangalore       2.483789\n",
       "22        Transmission_Manual       2.263819\n",
       "1                        Year       2.217297\n",
       "34            Brand_Hindustan       2.017714\n",
       "52                Brand_Smart       2.017406\n",
       "48            Brand_OpelCorsa       2.013455\n",
       "7       kilometers_driven_log       1.785028\n",
       "20              Fuel_Type_LPG       1.215655\n",
       "24          Owner_Type_Second       1.178034\n",
       "25           Owner_Type_Third       1.114032\n",
       "19         Fuel_Type_Electric       1.049932\n",
       "23  Owner_Type_Fourth & Above       1.017052"
      ]
     },
     "execution_count": 9,
     "metadata": {},
     "output_type": "execute_result"
    }
   ],
   "source": [
    "from statsmodels.stats.outliers_influence import variance_inflation_factor\n",
    "\n",
    "def checking_vif(train):\n",
    "    vif = pd.DataFrame()\n",
    "    vif[\"feature\"] = train.columns\n",
    "\n",
    "    # Calculating VIF for each feature\n",
    "    vif[\"VIF\"] = [\n",
    "        variance_inflation_factor(train.values, i) for i in range(len(train.columns))\n",
    "    ]\n",
    "    return vif.sort_values(by='VIF',ascending = False)\n",
    "\n",
    "\n",
    "checking_vif(X_col)\n",
    "\n"
   ]
  },
  {
   "cell_type": "markdown",
   "metadata": {},
   "source": [
    "We have more than 50 variables, with 'Brand_Maruti' having the highest VIF score. Let's start the process of eliminating the highest VIF column and then running the function again to check for the updatee VIF scores."
   ]
  },
  {
   "cell_type": "code",
   "execution_count": 10,
   "metadata": {
    "scrolled": true
   },
   "outputs": [
    {
     "name": "stdout",
     "output_type": "stream",
     "text": [
      "                      feature            VIF\n",
      "0                       const  858622.053918\n",
      "21           Fuel_Type_Petrol      32.294320\n",
      "18           Fuel_Type_Diesel      31.157081\n",
      "3                      Engine      10.957605\n",
      "4                       Power       9.865058\n",
      "6                   New_price       8.491853\n",
      "16            Location_Mumbai       3.963368\n",
      "2                     Mileage       3.890703\n",
      "12         Location_Hyderabad       3.715357\n",
      "10        Location_Coimbatore       3.505804\n",
      "14             Location_Kochi       3.501858\n",
      "17              Location_Pune       3.441166\n",
      "43        Brand_Mercedes-Benz       3.309937\n",
      "15           Location_Kolkata       3.134063\n",
      "11             Location_Delhi       3.110871\n",
      "27                  Brand_BMW       3.082426\n",
      "9            Location_Chennai       2.949365\n",
      "26                 Brand_Audi       2.801954\n",
      "13            Location_Jaipur       2.664216\n",
      "5                       Seats       2.562070\n",
      "41                 Brand_Land       2.533784\n",
      "8          Location_Bangalore       2.483784\n",
      "22        Transmission_Manual       2.263819\n",
      "1                        Year       2.216975\n",
      "53               Brand_Toyota       2.153982\n",
      "42             Brand_Mahindra       1.801007\n",
      "7       kilometers_driven_log       1.784271\n",
      "36              Brand_Hyundai       1.728028\n",
      "48              Brand_Porsche       1.555486\n",
      "35                Brand_Honda       1.536666\n",
      "28              Brand_Bentley       1.446023\n",
      "39               Brand_Jaguar       1.406983\n",
      "54           Brand_Volkswagen       1.332552\n",
      "33                 Brand_Ford       1.326401\n",
      "50                Brand_Skoda       1.323663\n",
      "20              Fuel_Type_LPG       1.215641\n",
      "24          Owner_Type_Second       1.177998\n",
      "52                 Brand_Tata       1.170714\n",
      "49              Brand_Renault       1.137099\n",
      "55                Brand_Volvo       1.127623\n",
      "45           Brand_Mitsubishi       1.123826\n",
      "29            Brand_Chevrolet       1.119882\n",
      "44                 Brand_Mini       1.119391\n",
      "25           Owner_Type_Third       1.107805\n",
      "46               Brand_Nissan       1.104737\n",
      "40                 Brand_Jeep       1.066282\n",
      "19         Fuel_Type_Electric       1.049926\n",
      "31                 Brand_Fiat       1.040534\n",
      "37                Brand_ISUZU       1.020339\n",
      "30               Brand_Datsun       1.019718\n",
      "23  Owner_Type_Fourth & Above       1.017046\n",
      "51                Brand_Smart       1.012803\n",
      "38                Brand_Isuzu       1.012163\n",
      "34            Brand_Hindustan       1.010502\n",
      "32                Brand_Force       1.009882\n",
      "47            Brand_OpelCorsa       1.003727\n"
     ]
    }
   ],
   "source": [
    "#drop Brand_Maruti, and then rerun\n",
    "X_col = X_col.drop('Brand_Maruti', axis = 1)\n",
    "\n",
    "print(checking_vif(X_col))"
   ]
  },
  {
   "cell_type": "markdown",
   "metadata": {},
   "source": [
    "Let's drop Fuel_Type_Petrol, since it has the highest VIF score above 5 and see how that adjusts the data."
   ]
  },
  {
   "cell_type": "code",
   "execution_count": 11,
   "metadata": {
    "scrolled": true
   },
   "outputs": [
    {
     "name": "stdout",
     "output_type": "stream",
     "text": [
      "                      feature            VIF\n",
      "0                       const  858324.269285\n",
      "3                      Engine      10.806339\n",
      "4                       Power       9.841764\n",
      "6                   New_price       8.491842\n",
      "16            Location_Mumbai       3.961293\n",
      "12         Location_Hyderabad       3.714755\n",
      "2                     Mileage       3.700159\n",
      "10        Location_Coimbatore       3.504817\n",
      "14             Location_Kochi       3.501827\n",
      "17              Location_Pune       3.440980\n",
      "42        Brand_Mercedes-Benz       3.308882\n",
      "15           Location_Kolkata       3.133238\n",
      "11             Location_Delhi       3.110392\n",
      "26                  Brand_BMW       3.082335\n",
      "9            Location_Chennai       2.948726\n",
      "25                 Brand_Audi       2.800278\n",
      "18           Fuel_Type_Diesel       2.720657\n",
      "13            Location_Jaipur       2.662805\n",
      "5                       Seats       2.558152\n",
      "40                 Brand_Land       2.532729\n",
      "8          Location_Bangalore       2.483767\n",
      "21        Transmission_Manual       2.263697\n",
      "1                        Year       2.216964\n",
      "52               Brand_Toyota       2.151830\n",
      "41             Brand_Mahindra       1.800912\n",
      "7       kilometers_driven_log       1.776125\n",
      "35              Brand_Hyundai       1.720483\n",
      "47              Brand_Porsche       1.555441\n",
      "34                Brand_Honda       1.522793\n",
      "27              Brand_Bentley       1.445697\n",
      "38               Brand_Jaguar       1.406547\n",
      "53           Brand_Volkswagen       1.331896\n",
      "32                 Brand_Ford       1.325580\n",
      "49                Brand_Skoda       1.323172\n",
      "23          Owner_Type_Second       1.177909\n",
      "51                 Brand_Tata       1.170395\n",
      "48              Brand_Renault       1.136305\n",
      "54                Brand_Volvo       1.127243\n",
      "44           Brand_Mitsubishi       1.123820\n",
      "43                 Brand_Mini       1.119367\n",
      "28            Brand_Chevrolet       1.119343\n",
      "24           Owner_Type_Third       1.107781\n",
      "45               Brand_Nissan       1.103938\n",
      "39                 Brand_Jeep       1.065961\n",
      "30                 Brand_Fiat       1.040534\n",
      "36                Brand_ISUZU       1.020288\n",
      "29               Brand_Datsun       1.019046\n",
      "22  Owner_Type_Fourth & Above       1.017043\n",
      "50                Brand_Smart       1.012722\n",
      "19         Fuel_Type_Electric       1.012322\n",
      "37                Brand_Isuzu       1.012162\n",
      "33            Brand_Hindustan       1.010488\n",
      "20              Fuel_Type_LPG       1.009994\n",
      "31                Brand_Force       1.009880\n",
      "46            Brand_OpelCorsa       1.003727\n"
     ]
    }
   ],
   "source": [
    "\n",
    "#drop Brand_Maruti, and then rerun\n",
    "X_col = X_col.drop('Fuel_Type_Petrol', axis = 1)\n",
    "\n",
    "print(checking_vif(X_col))"
   ]
  },
  {
   "cell_type": "code",
   "execution_count": 12,
   "metadata": {
    "scrolled": true
   },
   "outputs": [
    {
     "name": "stdout",
     "output_type": "stream",
     "text": [
      "                      feature            VIF\n",
      "0                       const  852561.403222\n",
      "5                   New_price       8.446555\n",
      "3                       Power       4.765931\n",
      "15            Location_Mumbai       3.961112\n",
      "11         Location_Hyderabad       3.714217\n",
      "9         Location_Coimbatore       3.504732\n",
      "13             Location_Kochi       3.501551\n",
      "16              Location_Pune       3.440690\n",
      "2                     Mileage       3.336779\n",
      "41        Brand_Mercedes-Benz       3.304356\n",
      "14           Location_Kolkata       3.133212\n",
      "10             Location_Delhi       3.110390\n",
      "25                  Brand_BMW       3.042729\n",
      "8            Location_Chennai       2.948444\n",
      "24                 Brand_Audi       2.767441\n",
      "12            Location_Jaipur       2.662765\n",
      "39                 Brand_Land       2.527176\n",
      "7          Location_Bangalore       2.483722\n",
      "4                       Seats       2.403013\n",
      "17           Fuel_Type_Diesel       2.299107\n",
      "20        Transmission_Manual       2.263687\n",
      "1                        Year       2.203235\n",
      "51               Brand_Toyota       1.934064\n",
      "6       kilometers_driven_log       1.775982\n",
      "40             Brand_Mahindra       1.770280\n",
      "34              Brand_Hyundai       1.719424\n",
      "46              Brand_Porsche       1.555192\n",
      "33                Brand_Honda       1.516305\n",
      "26              Brand_Bentley       1.445520\n",
      "37               Brand_Jaguar       1.400343\n",
      "52           Brand_Volkswagen       1.331252\n",
      "48                Brand_Skoda       1.320800\n",
      "31                 Brand_Ford       1.313478\n",
      "22          Owner_Type_Second       1.177875\n",
      "50                 Brand_Tata       1.167972\n",
      "47              Brand_Renault       1.136180\n",
      "53                Brand_Volvo       1.120675\n",
      "42                 Brand_Mini       1.119232\n",
      "27            Brand_Chevrolet       1.118028\n",
      "23           Owner_Type_Third       1.107770\n",
      "43           Brand_Mitsubishi       1.105390\n",
      "44               Brand_Nissan       1.098423\n",
      "38                 Brand_Jeep       1.062306\n",
      "29                 Brand_Fiat       1.039311\n",
      "28               Brand_Datsun       1.018926\n",
      "35                Brand_ISUZU       1.016823\n",
      "21  Owner_Type_Fourth & Above       1.016715\n",
      "49                Brand_Smart       1.012560\n",
      "18         Fuel_Type_Electric       1.010755\n",
      "32            Brand_Hindustan       1.010397\n",
      "19              Fuel_Type_LPG       1.009958\n",
      "30                Brand_Force       1.009773\n",
      "36                Brand_Isuzu       1.009303\n",
      "45            Brand_OpelCorsa       1.003724\n"
     ]
    }
   ],
   "source": [
    "##drop Brand_Maruti, and then rerun\n",
    "X_col = X_col.drop('Engine', axis = 1)\n",
    "\n",
    "print(checking_vif(X_col))"
   ]
  },
  {
   "cell_type": "code",
   "execution_count": 13,
   "metadata": {
    "scrolled": true
   },
   "outputs": [
    {
     "name": "stdout",
     "output_type": "stream",
     "text": [
      "                      feature            VIF\n",
      "0                       const  851313.297225\n",
      "3                       Power       4.059524\n",
      "14            Location_Mumbai       3.961107\n",
      "10         Location_Hyderabad       3.714170\n",
      "8         Location_Coimbatore       3.503165\n",
      "12             Location_Kochi       3.500566\n",
      "15              Location_Pune       3.440669\n",
      "2                     Mileage       3.334755\n",
      "13           Location_Kolkata       3.133190\n",
      "9              Location_Delhi       3.110378\n",
      "7            Location_Chennai       2.948444\n",
      "11            Location_Jaipur       2.662615\n",
      "6          Location_Bangalore       2.483383\n",
      "4                       Seats       2.376239\n",
      "16           Fuel_Type_Diesel       2.295888\n",
      "40        Brand_Mercedes-Benz       2.284316\n",
      "19        Transmission_Manual       2.263511\n",
      "24                  Brand_BMW       2.210777\n",
      "1                        Year       2.199768\n",
      "23                 Brand_Audi       1.965199\n",
      "50               Brand_Toyota       1.895720\n",
      "5       kilometers_driven_log       1.775951\n",
      "39             Brand_Mahindra       1.764125\n",
      "33              Brand_Hyundai       1.714253\n",
      "32                Brand_Honda       1.516298\n",
      "51           Brand_Volkswagen       1.331026\n",
      "30                 Brand_Ford       1.310460\n",
      "47                Brand_Skoda       1.275450\n",
      "38                 Brand_Land       1.264123\n",
      "36               Brand_Jaguar       1.260758\n",
      "45              Brand_Porsche       1.204991\n",
      "21          Owner_Type_Second       1.177839\n",
      "49                 Brand_Tata       1.167931\n",
      "46              Brand_Renault       1.133254\n",
      "26            Brand_Chevrolet       1.117952\n",
      "22           Owner_Type_Third       1.107740\n",
      "43               Brand_Nissan       1.098061\n",
      "52                Brand_Volvo       1.097983\n",
      "42           Brand_Mitsubishi       1.093507\n",
      "25              Brand_Bentley       1.092098\n",
      "41                 Brand_Mini       1.081980\n",
      "37                 Brand_Jeep       1.062107\n",
      "28                 Brand_Fiat       1.039244\n",
      "27               Brand_Datsun       1.018921\n",
      "20  Owner_Type_Fourth & Above       1.016691\n",
      "34                Brand_ISUZU       1.016523\n",
      "48                Brand_Smart       1.012378\n",
      "31            Brand_Hindustan       1.010237\n",
      "17         Fuel_Type_Electric       1.010159\n",
      "18              Fuel_Type_LPG       1.009956\n",
      "29                Brand_Force       1.009763\n",
      "35                Brand_Isuzu       1.008925\n",
      "44            Brand_OpelCorsa       1.003697\n"
     ]
    }
   ],
   "source": [
    "##drop Brand_Maruti, and then rerun\n",
    "X_col = X_col.drop('New_price', axis = 1)\n",
    "\n",
    "print(checking_vif(X_col))"
   ]
  },
  {
   "cell_type": "markdown",
   "metadata": {},
   "source": [
    "**Multicolinearity analysis complete - all features have VIF score <5**\n",
    "\n",
    "- Now that we have elminated features with significant multicolinearity, we can proceed to create our datasets for testing and training."
   ]
  },
  {
   "cell_type": "code",
   "execution_count": 14,
   "metadata": {},
   "outputs": [
    {
     "data": {
      "text/plain": [
       "Price_log    0\n",
       "Price        0\n",
       "dtype: int64"
      ]
     },
     "execution_count": 14,
     "metadata": {},
     "output_type": "execute_result"
    }
   ],
   "source": [
    "y.isna().sum()"
   ]
  },
  {
   "cell_type": "code",
   "execution_count": 15,
   "metadata": {
    "id": "JqVHLEHVRRKK"
   },
   "outputs": [
    {
     "name": "stdout",
     "output_type": "stream",
     "text": [
      "(5074, 53) (2175, 53)\n"
     ]
    }
   ],
   "source": [
    "# Step-3 Splitting data into training and test set:\n",
    "\n",
    "# Import library for preparing data\n",
    "from sklearn.model_selection import train_test_split\n",
    "\n",
    "X_train, X_test, y_train, y_test = train_test_split(X_col, y, test_size = 0.30, random_state = 1)\n",
    "\n",
    "\n",
    "print(X_train.shape, X_test.shape)"
   ]
  },
  {
   "cell_type": "code",
   "execution_count": 16,
   "metadata": {
    "id": "glAH2vMFtOS8"
   },
   "outputs": [],
   "source": [
    "# Let us write a function for calculating r2_score and RMSE on train and test data\n",
    "# This function takes model as an input on which we have trained particular algorithm\n",
    "# The categorical column as the input and returns the boxplots and histograms for the variable\n",
    "\n",
    "import numpy as np\n",
    "from sklearn import metrics\n",
    "\n",
    "def get_model_score(model, flag = True):\n",
    "    '''\n",
    "    model : regressor to predict values of X\n",
    "\n",
    "    '''\n",
    "    # Defining an empty list to store train and test results\n",
    "    score_list = [] \n",
    "    \n",
    "    pred_train = model.predict(X_train)\n",
    "    \n",
    "    pred_train_ = np.exp(pred_train)\n",
    "    \n",
    "    pred_test = model.predict(X_test)\n",
    "\n",
    "    pred_test_ = np.exp(pred_test)\n",
    "    \n",
    "    train_r2 = metrics.r2_score(y_train['Price'], pred_train_)\n",
    "    \n",
    "    test_r2 = metrics.r2_score(y_test['Price'], pred_test_)\n",
    "    \n",
    "    train_rmse = metrics.mean_squared_error(y_train['Price'], pred_train_, squared = False)\n",
    "    \n",
    "    test_rmse = metrics.mean_squared_error(y_test['Price'], pred_test_, squared = False)\n",
    "    \n",
    "    # Adding all scores in the list\n",
    "    score_list.extend((train_r2, test_r2, train_rmse, test_rmse))\n",
    "    \n",
    "    # If the flag is set to True then only the following print statements will be dispayed, the default value is True\n",
    "    if flag == True: \n",
    "        \n",
    "        print(\"R-square on training set : \", metrics.r2_score(y_train['Price'], pred_train_))\n",
    "        \n",
    "        print(\"R-square on test set : \", metrics.r2_score(y_test['Price'], pred_test_))\n",
    "        \n",
    "        print(\"RMSE on training set : \", np.sqrt(metrics.mean_squared_error(y_train['Price'], pred_train_)))\n",
    "        \n",
    "        print(\"RMSE on test set : \", np.sqrt(metrics.mean_squared_error(y_test['Price'], pred_test_)))\n",
    "    \n",
    "    # Returning the list with train and test scores\n",
    "    return score_list"
   ]
  },
  {
   "cell_type": "markdown",
   "metadata": {
    "id": "o8qcI692VL3g"
   },
   "source": [
    "<hr>"
   ]
  },
  {
   "cell_type": "markdown",
   "metadata": {
    "id": "gaj2riZFVL3g"
   },
   "source": [
    "For Regression Problems, some of the algorithms used are :<br>\n",
    "\n",
    "**1) Linear Regression** <br>\n",
    "**2) Ridge / Lasso Regression** <br>\n",
    "**3) Decision Trees** <br>\n",
    "**4) Random Forest** <br>"
   ]
  },
  {
   "cell_type": "markdown",
   "metadata": {
    "id": "xwL33RaztOS9"
   },
   "source": [
    "### **Fitting a linear model**"
   ]
  },
  {
   "cell_type": "markdown",
   "metadata": {
    "id": "kXj-84YCVL3h"
   },
   "source": [
    "Linear Regression can be implemented using: <br>\n",
    "\n",
    "**1) Sklearn:** https://scikit-learn.org/stable/modules/generated/sklearn.linear_model.LinearRegression.html <br>\n",
    "**2) Statsmodels:** https://www.statsmodels.org/stable/regression.html"
   ]
  },
  {
   "cell_type": "markdown",
   "metadata": {},
   "source": [
    "Let's first model the data using the LinearRegression function found in the sklearn package."
   ]
  },
  {
   "cell_type": "code",
   "execution_count": 17,
   "metadata": {
    "id": "tABeKbbNVL3h"
   },
   "outputs": [],
   "source": [
    "# Import Linear Regression from sklearn\n",
    "from sklearn.linear_model import LinearRegression"
   ]
  },
  {
   "cell_type": "code",
   "execution_count": 18,
   "metadata": {
    "id": "FT3gcKDetOS9"
   },
   "outputs": [],
   "source": [
    "# Create a linear regression model\n",
    "lr = LinearRegression()"
   ]
  },
  {
   "cell_type": "code",
   "execution_count": 19,
   "metadata": {
    "id": "rMmX-FJatOS9"
   },
   "outputs": [
    {
     "data": {
      "text/plain": [
       "LinearRegression()"
      ]
     },
     "execution_count": 19,
     "metadata": {},
     "output_type": "execute_result"
    }
   ],
   "source": [
    "# Fit linear regression model\n",
    "lr.fit(X_train, y_train['Price_log']) "
   ]
  },
  {
   "cell_type": "code",
   "execution_count": 20,
   "metadata": {
    "id": "ABshmMPAtOS9"
   },
   "outputs": [
    {
     "name": "stdout",
     "output_type": "stream",
     "text": [
      "R-square on training set :  0.8719205541656581\n",
      "R-square on test set :  0.8551970455891145\n",
      "RMSE on training set :  3.8811187240917393\n",
      "RMSE on test set :  3.9206798561514185\n"
     ]
    }
   ],
   "source": [
    "# Get score of the model\n",
    "LR_score = get_model_score(lr)\n",
    "\n"
   ]
  },
  {
   "cell_type": "markdown",
   "metadata": {
    "id": "NgNkZ0HctOS9"
   },
   "source": [
    "**Observations from results: _____**\n",
    "- This model has very high predictive power, given that both the R-square values on the training and testing set are between .85 and.9, indicating that the input parameters can explain nearly 90% of the given price.  \n",
    "- The model is well fit, since the difference between R-square values is only .016 between the training set and the test set, thus the model is neither over and underfit, having avoided bias.\n",
    "- The RMSE values are similar and both less than 4, again indicating a properly fit model for the test dataset."
   ]
  },
  {
   "cell_type": "markdown",
   "metadata": {
    "id": "NyKxdVyhVL3i"
   },
   "source": [
    "**Let's now build an Ordinary Least Squares (OLS) Linear Regression model using the statsmodels package.**"
   ]
  },
  {
   "cell_type": "code",
   "execution_count": 21,
   "metadata": {
    "id": "vHyqhuVMIrdC",
    "scrolled": true
   },
   "outputs": [
    {
     "name": "stdout",
     "output_type": "stream",
     "text": [
      "                            OLS Regression Results                            \n",
      "==============================================================================\n",
      "Dep. Variable:              Price_log   R-squared:                       0.921\n",
      "Model:                            OLS   Adj. R-squared:                  0.920\n",
      "Method:                 Least Squares   F-statistic:                     1152.\n",
      "Date:                Sun, 11 Dec 2022   Prob (F-statistic):               0.00\n",
      "Time:                        09:13:49   Log-Likelihood:                -51.255\n",
      "No. Observations:                5074   AIC:                             206.5\n",
      "Df Residuals:                    5022   BIC:                             546.2\n",
      "Df Model:                          51                                         \n",
      "Covariance Type:            nonrobust                                         \n",
      "=============================================================================================\n",
      "                                coef    std err          t      P>|t|      [0.025      0.975]\n",
      "---------------------------------------------------------------------------------------------\n",
      "const                      -239.6505      3.203    -74.812      0.000    -245.930    -233.371\n",
      "Year                          0.1198      0.002     75.721      0.000       0.117       0.123\n",
      "Mileage                      -0.0217      0.002    -14.193      0.000      -0.025      -0.019\n",
      "Power                         0.0062      0.000     47.943      0.000       0.006       0.006\n",
      "Seats                         0.0616      0.007      9.308      0.000       0.049       0.075\n",
      "kilometers_driven_log        -0.0475      0.006     -7.354      0.000      -0.060      -0.035\n",
      "Location_Bangalore            0.1213      0.023      5.337      0.000       0.077       0.166\n",
      "Location_Chennai              0.0299      0.021      1.394      0.163      -0.012       0.072\n",
      "Location_Coimbatore           0.0749      0.021      3.606      0.000       0.034       0.116\n",
      "Location_Delhi               -0.0544      0.021     -2.583      0.010      -0.096      -0.013\n",
      "Location_Hyderabad            0.0815      0.020      4.023      0.000       0.042       0.121\n",
      "Location_Jaipur              -0.0705      0.022     -3.216      0.001      -0.113      -0.028\n",
      "Location_Kochi               -0.0232      0.021     -1.117      0.264      -0.064       0.018\n",
      "Location_Kolkata             -0.2078      0.021     -9.822      0.000      -0.249      -0.166\n",
      "Location_Mumbai              -0.0438      0.020     -2.157      0.031      -0.084      -0.004\n",
      "Location_Pune                -0.0565      0.021     -2.730      0.006      -0.097      -0.016\n",
      "Fuel_Type_Diesel              0.3070      0.010     29.473      0.000       0.287       0.327\n",
      "Fuel_Type_Electric            1.1075      0.175      6.327      0.000       0.764       1.451\n",
      "Fuel_Type_LPG                -0.0257      0.087     -0.295      0.768      -0.197       0.145\n",
      "Transmission_Manual          -0.1001      0.012     -8.612      0.000      -0.123      -0.077\n",
      "Owner_Type_Fourth & Above    -0.0165      0.083     -0.200      0.842      -0.179       0.146\n",
      "Owner_Type_Second            -0.0563      0.010     -5.490      0.000      -0.076      -0.036\n",
      "Owner_Type_Third             -0.1126      0.026     -4.267      0.000      -0.164      -0.061\n",
      "Brand_Audi                    0.5917      0.025     23.806      0.000       0.543       0.640\n",
      "Brand_BMW                     0.5837      0.025     23.179      0.000       0.534       0.633\n",
      "Brand_Bentley                 0.0219      0.185      0.118      0.906      -0.340       0.384\n",
      "Brand_Chevrolet              -0.3622      0.025    -14.473      0.000      -0.411      -0.313\n",
      "Brand_Datsun                 -0.4647      0.072     -6.481      0.000      -0.605      -0.324\n",
      "Brand_Fiat                   -0.3167      0.049     -6.422      0.000      -0.413      -0.220\n",
      "Brand_Force                   0.1263      0.175      0.723      0.469      -0.216       0.468\n",
      "Brand_Ford                   -0.0436      0.018     -2.365      0.018      -0.080      -0.007\n",
      "Brand_Hindustan               2.7176      0.248     10.979      0.000       2.232       3.203\n",
      "Brand_Honda                   0.0420      0.014      3.005      0.003       0.015       0.069\n",
      "Brand_Hyundai                 0.0025      0.012      0.218      0.827      -0.020       0.025\n",
      "Brand_ISUZU                  -0.3113      0.247     -1.260      0.208      -0.796       0.173\n",
      "Brand_Isuzu                   0.0586      0.247      0.237      0.812      -0.425       0.542\n",
      "Brand_Jaguar                  0.5668      0.049     11.652      0.000       0.471       0.662\n",
      "Brand_Jeep                    0.1918      0.073      2.624      0.009       0.048       0.335\n",
      "Brand_Land                    0.9261      0.040     23.041      0.000       0.847       1.005\n",
      "Brand_Mahindra               -0.1442      0.022     -6.533      0.000      -0.187      -0.101\n",
      "Brand_Mercedes-Benz           0.6660      0.024     28.296      0.000       0.620       0.712\n",
      "Brand_Mini                    1.0779      0.053     20.525      0.000       0.975       1.181\n",
      "Brand_Mitsubishi              0.2201      0.048      4.565      0.000       0.126       0.315\n",
      "Brand_Nissan                 -0.0345      0.029     -1.196      0.232      -0.091       0.022\n",
      "Brand_OpelCorsa             6.84e-16   5.85e-17     11.689      0.000    5.69e-16    7.99e-16\n",
      "Brand_Porsche                 0.1823      0.078      2.332      0.020       0.029       0.336\n",
      "Brand_Renault                -0.0434      0.025     -1.762      0.078      -0.092       0.005\n",
      "Brand_Skoda                   0.1011      0.024      4.248      0.000       0.054       0.148\n",
      "Brand_Smart                   0.4808      0.248      1.940      0.052      -0.005       0.967\n",
      "Brand_Tata                   -0.4981      0.022    -23.132      0.000      -0.540      -0.456\n",
      "Brand_Toyota                  0.2385      0.019     12.709      0.000       0.202       0.275\n",
      "Brand_Volkswagen             -0.0211      0.018     -1.171      0.242      -0.056       0.014\n",
      "Brand_Volvo                   0.3797      0.062      6.100      0.000       0.258       0.502\n",
      "==============================================================================\n",
      "Omnibus:                     1119.515   Durbin-Watson:                   1.992\n",
      "Prob(Omnibus):                  0.000   Jarque-Bera (JB):            20601.034\n",
      "Skew:                          -0.566   Prob(JB):                         0.00\n",
      "Kurtosis:                      12.806   Cond. No.                     1.00e+16\n",
      "==============================================================================\n",
      "\n",
      "Notes:\n",
      "[1] Standard Errors assume that the covariance matrix of the errors is correctly specified.\n",
      "[2] The smallest eigenvalue is 2.06e-22. This might indicate that there are\n",
      "strong multicollinearity problems or that the design matrix is singular.\n"
     ]
    }
   ],
   "source": [
    "#First set training, testing sets to be downsized for the ols test to current X_train, X_test\n",
    "X_train_ols =X_train\n",
    "X_test_ols = X_test\n",
    "\n",
    "#create ols model function\n",
    "\n",
    "def build_ols_model(train):\n",
    "    \n",
    "    # Create the model\n",
    "    olsmodel = sm.OLS(y_train[\"Price_log\"], train)\n",
    "    \n",
    "    return olsmodel.fit()\n",
    "\n",
    "\n",
    "# Fit linear model on new dataset\n",
    "olsmodel1 = build_ols_model(X_train_ols)\n",
    "\n",
    "print(olsmodel1.summary())"
   ]
  },
  {
   "cell_type": "code",
   "execution_count": 22,
   "metadata": {},
   "outputs": [],
   "source": [
    "#Write a new get model score function to read the OLS test/train data only, as we plan to eliminate any insigniticant variables to optimize a model.\n",
    "def get_model_score_ols(model, X_train_ols, X_test_ols, flag = True):\n",
    "    '''\n",
    "    model : regressor to predict values of X\n",
    "\n",
    "    '''\n",
    "    # Defining an empty list to store train and test results\n",
    "    score_list = [] \n",
    "    \n",
    "    \n",
    "    \n",
    "    pred_train = model.predict(X_train_ols)\n",
    "    \n",
    "    pred_train_ = np.exp(pred_train)\n",
    "    \n",
    "    pred_test = model.predict(X_test_ols)\n",
    "\n",
    "    \n",
    "    pred_test_ = np.exp(pred_test)\n",
    "    \n",
    "    train_r2 = metrics.r2_score(y_train['Price'], pred_train_)\n",
    "    \n",
    "    test_r2 = metrics.r2_score(y_test['Price'], pred_test_)\n",
    "    \n",
    "    train_rmse = metrics.mean_squared_error(y_train['Price'], pred_train_, squared = False)\n",
    "    \n",
    "    test_rmse = metrics.mean_squared_error(y_test['Price'], pred_test_, squared = False)\n",
    "    \n",
    "    # Adding all scores in the list\n",
    "    score_list.extend((train_r2, test_r2, train_rmse, test_rmse))\n",
    "    \n",
    "    # If the flag is set to True then only the following print statements will be dispayed, the default value is True\n",
    "    if flag == True: \n",
    "        \n",
    "        print(\"R-square on training set : \", metrics.r2_score(y_train['Price'], pred_train_))\n",
    "        \n",
    "        print(\"R-square on test set : \", metrics.r2_score(y_test['Price'], pred_test_))\n",
    "        \n",
    "        print(\"RMSE on training set : \", np.sqrt(metrics.mean_squared_error(y_train['Price'], pred_train_)))\n",
    "        \n",
    "        print(\"RMSE on test set : \", np.sqrt(metrics.mean_squared_error(y_test['Price'], pred_test_)))\n",
    "    \n",
    "    # Returning the list with train and test scores\n",
    "    return score_list"
   ]
  },
  {
   "cell_type": "code",
   "execution_count": 23,
   "metadata": {},
   "outputs": [
    {
     "name": "stdout",
     "output_type": "stream",
     "text": [
      "R-square on training set :  0.8719205541656947\n",
      "R-square on test set :  0.8551970455891215\n",
      "RMSE on training set :  3.881118724091183\n",
      "RMSE on test set :  3.9206798561513243\n"
     ]
    },
    {
     "data": {
      "text/plain": [
       "[0.8719205541656947, 0.8551970455891215, 3.881118724091183, 3.9206798561513243]"
      ]
     },
     "execution_count": 23,
     "metadata": {},
     "output_type": "execute_result"
    }
   ],
   "source": [
    "get_model_score_ols(olsmodel1, X_train_ols, X_test_ols)"
   ]
  },
  {
   "cell_type": "markdown",
   "metadata": {},
   "source": [
    "- While the training data R-square and RMSE values were nearly identical to the LinearRegression resuts, 13 features were found to have a p-value greater than or equal to .05.\n",
    "- This model should be revised further by removing insignificant input variables to see if results may be improved."
   ]
  },
  {
   "cell_type": "markdown",
   "metadata": {},
   "source": [
    "Let's remove the insignicant columns (ie. p-values >.05) from the test set and run the OLS model again."
   ]
  },
  {
   "cell_type": "code",
   "execution_count": 24,
   "metadata": {
    "id": "C01l5EucVL3i",
    "scrolled": true
   },
   "outputs": [
    {
     "data": {
      "text/plain": [
       "Index(['const', 'Year', 'Mileage', 'Power', 'Seats', 'kilometers_driven_log',\n",
       "       'Location_Bangalore', 'Location_Coimbatore', 'Location_Delhi',\n",
       "       'Location_Hyderabad', 'Location_Jaipur', 'Location_Kolkata',\n",
       "       'Location_Mumbai', 'Location_Pune', 'Fuel_Type_Diesel',\n",
       "       'Fuel_Type_Electric', 'Transmission_Manual', 'Owner_Type_Second',\n",
       "       'Owner_Type_Third', 'Brand_Audi', 'Brand_BMW', 'Brand_Chevrolet',\n",
       "       'Brand_Datsun', 'Brand_Fiat', 'Brand_Ford', 'Brand_Hindustan',\n",
       "       'Brand_Honda', 'Brand_Jaguar', 'Brand_Jeep', 'Brand_Land',\n",
       "       'Brand_Mahindra', 'Brand_Mercedes-Benz', 'Brand_Mini',\n",
       "       'Brand_Mitsubishi', 'Brand_OpelCorsa', 'Brand_Porsche', 'Brand_Skoda',\n",
       "       'Brand_Tata', 'Brand_Toyota', 'Brand_Volvo'],\n",
       "      dtype='object')"
      ]
     },
     "execution_count": 24,
     "metadata": {},
     "output_type": "execute_result"
    }
   ],
   "source": [
    "#Let's omit features with p-values less than or equal to .05 in the test, training sets of the ols.\n",
    "\n",
    "olsmod_omit = pd.DataFrame(olsmodel1.params, columns = ['coef'])\n",
    "olsmod_omit['pval'] = olsmodel1.pvalues\n",
    "    # Filter by significant p-value (pval >= 0.05) and sort descending by Odds ratio\n",
    "\n",
    "olsmod_omit = olsmod_omit[olsmod_omit.pval>= 0.05].sort_values(by = \"pval\", ascending = False)\n",
    "    \n",
    "#identify list of insignificant features that can be dropped for next OMS iteration\n",
    "insig_var_list = list(olsmod_omit.index.values)\n",
    "#remove insignificant features from ols train and test sets\n",
    "X_train_ols= X_train_ols.drop(insig_var_list,axis=1)\n",
    "X_test_ols=  X_test_ols.drop(insig_var_list,axis=1)\n",
    "    \n",
    "X_train_ols.columns\n",
    "\n"
   ]
  },
  {
   "cell_type": "code",
   "execution_count": 25,
   "metadata": {},
   "outputs": [
    {
     "data": {
      "text/plain": [
       "(5074, 40)"
      ]
     },
     "execution_count": 25,
     "metadata": {},
     "output_type": "execute_result"
    }
   ],
   "source": [
    "X_train_ols.shape"
   ]
  },
  {
   "cell_type": "code",
   "execution_count": 26,
   "metadata": {},
   "outputs": [
    {
     "name": "stdout",
     "output_type": "stream",
     "text": [
      "['Brand_Bentley', 'Owner_Type_Fourth & Above', 'Brand_Hyundai', 'Brand_Isuzu', 'Fuel_Type_LPG', 'Brand_Force', 'Location_Kochi', 'Brand_Volkswagen', 'Brand_Nissan', 'Brand_ISUZU', 'Location_Chennai', 'Brand_Renault', 'Brand_Smart']\n"
     ]
    }
   ],
   "source": [
    "#let's see the insignificant variables removed from the dataset\n",
    "print(insig_var_list)"
   ]
  },
  {
   "cell_type": "code",
   "execution_count": 27,
   "metadata": {
    "scrolled": true
   },
   "outputs": [
    {
     "name": "stdout",
     "output_type": "stream",
     "text": [
      "                            OLS Regression Results                            \n",
      "==============================================================================\n",
      "Dep. Variable:              Price_log   R-squared:                       0.921\n",
      "Model:                            OLS   Adj. R-squared:                  0.920\n",
      "Method:                 Least Squares   F-statistic:                     1543.\n",
      "Date:                Sun, 11 Dec 2022   Prob (F-statistic):               0.00\n",
      "Time:                        09:13:49   Log-Likelihood:                -62.359\n",
      "No. Observations:                5074   AIC:                             202.7\n",
      "Df Residuals:                    5035   BIC:                             457.5\n",
      "Df Model:                          38                                         \n",
      "Covariance Type:            nonrobust                                         \n",
      "=========================================================================================\n",
      "                            coef    std err          t      P>|t|      [0.025      0.975]\n",
      "-----------------------------------------------------------------------------------------\n",
      "const                  -237.1799      3.112    -76.212      0.000    -243.281    -231.079\n",
      "Year                      0.1186      0.002     77.233      0.000       0.116       0.122\n",
      "Mileage                  -0.0210      0.001    -14.545      0.000      -0.024      -0.018\n",
      "Power                     0.0062      0.000     50.781      0.000       0.006       0.006\n",
      "Seats                     0.0628      0.006      9.785      0.000       0.050       0.075\n",
      "kilometers_driven_log    -0.0487      0.006     -7.547      0.000      -0.061      -0.036\n",
      "Location_Bangalore        0.1202      0.016      7.444      0.000       0.089       0.152\n",
      "Location_Coimbatore       0.0773      0.013      5.941      0.000       0.052       0.103\n",
      "Location_Delhi           -0.0542      0.014     -3.961      0.000      -0.081      -0.027\n",
      "Location_Hyderabad        0.0806      0.013      6.432      0.000       0.056       0.105\n",
      "Location_Jaipur          -0.0738      0.015     -4.956      0.000      -0.103      -0.045\n",
      "Location_Kolkata         -0.2081      0.014    -14.918      0.000      -0.235      -0.181\n",
      "Location_Mumbai          -0.0457      0.012     -3.657      0.000      -0.070      -0.021\n",
      "Location_Pune            -0.0576      0.013     -4.408      0.000      -0.083      -0.032\n",
      "Fuel_Type_Diesel          0.3053      0.010     30.446      0.000       0.286       0.325\n",
      "Fuel_Type_Electric        1.1229      0.175      6.412      0.000       0.780       1.466\n",
      "Transmission_Manual      -0.1022      0.012     -8.809      0.000      -0.125      -0.079\n",
      "Owner_Type_Second        -0.0534      0.010     -5.224      0.000      -0.073      -0.033\n",
      "Owner_Type_Third         -0.1055      0.026     -4.017      0.000      -0.157      -0.054\n",
      "Brand_Audi                0.5951      0.023     26.104      0.000       0.550       0.640\n",
      "Brand_BMW                 0.5869      0.023     25.423      0.000       0.542       0.632\n",
      "Brand_Chevrolet          -0.3590      0.024    -14.886      0.000      -0.406      -0.312\n",
      "Brand_Datsun             -0.4561      0.072     -6.373      0.000      -0.596      -0.316\n",
      "Brand_Fiat               -0.3127      0.049     -6.408      0.000      -0.408      -0.217\n",
      "Brand_Ford               -0.0365      0.017     -2.150      0.032      -0.070      -0.003\n",
      "Brand_Hindustan           2.7036      0.248     10.923      0.000       2.218       3.189\n",
      "Brand_Honda               0.0445      0.012      3.610      0.000       0.020       0.069\n",
      "Brand_Jaguar              0.5690      0.047     12.031      0.000       0.476       0.662\n",
      "Brand_Jeep                0.2013      0.072      2.778      0.005       0.059       0.343\n",
      "Brand_Land                0.9301      0.039     24.000      0.000       0.854       1.006\n",
      "Brand_Mahindra           -0.1378      0.021     -6.591      0.000      -0.179      -0.097\n",
      "Brand_Mercedes-Benz       0.6718      0.021     31.789      0.000       0.630       0.713\n",
      "Brand_Mini                1.0799      0.052     20.829      0.000       0.978       1.182\n",
      "Brand_Mitsubishi          0.2275      0.047      4.801      0.000       0.135       0.320\n",
      "Brand_OpelCorsa       -1.261e-13   1.99e-14     -6.346      0.000   -1.65e-13   -8.72e-14\n",
      "Brand_Porsche             0.1814      0.077      2.362      0.018       0.031       0.332\n",
      "Brand_Skoda               0.1042      0.022      4.649      0.000       0.060       0.148\n",
      "Brand_Tata               -0.4906      0.020    -23.946      0.000      -0.531      -0.450\n",
      "Brand_Toyota              0.2456      0.017     14.260      0.000       0.212       0.279\n",
      "Brand_Volvo               0.3846      0.061      6.261      0.000       0.264       0.505\n",
      "==============================================================================\n",
      "Omnibus:                     1124.224   Durbin-Watson:                   1.991\n",
      "Prob(Omnibus):                  0.000   Jarque-Bera (JB):            20574.418\n",
      "Skew:                          -0.573   Prob(JB):                         0.00\n",
      "Kurtosis:                      12.798   Cond. No.                     1.00e+16\n",
      "==============================================================================\n",
      "\n",
      "Notes:\n",
      "[1] Standard Errors assume that the covariance matrix of the errors is correctly specified.\n",
      "[2] The smallest eigenvalue is 2.06e-22. This might indicate that there are\n",
      "strong multicollinearity problems or that the design matrix is singular.\n"
     ]
    }
   ],
   "source": [
    "# Fit linear model on new dataset\n",
    "olsmodel2 = build_ols_model(X_train_ols)\n",
    "\n",
    "print(olsmodel2.summary())"
   ]
  },
  {
   "cell_type": "code",
   "execution_count": 28,
   "metadata": {},
   "outputs": [
    {
     "name": "stdout",
     "output_type": "stream",
     "text": [
      "R-square on training set :  0.8705021023453945\n",
      "R-square on test set :  0.8538188902424512\n",
      "RMSE on training set :  3.902550818600047\n",
      "RMSE on test set :  3.939293116906806\n"
     ]
    }
   ],
   "source": [
    "ols2score = get_model_score_ols(olsmodel2, X_train_ols, X_test_ols)"
   ]
  },
  {
   "cell_type": "code",
   "execution_count": 29,
   "metadata": {},
   "outputs": [
    {
     "name": "stdout",
     "output_type": "stream",
     "text": [
      "[]\n"
     ]
    }
   ],
   "source": [
    "#Check to make sure no insignificant p-values remain\n",
    "olsmod_omit = pd.DataFrame(olsmodel2.params, columns = ['coef'])\n",
    "olsmod_omit['pval'] = olsmodel2.pvalues\n",
    "    # Filter by significant p-value (pval >= 0.05) and sort descending by Odds ratio\n",
    "\n",
    "olsmod_omit = olsmod_omit[olsmod_omit.pval>= 0.05].sort_values(by = \"pval\", ascending = False)\n",
    "    \n",
    "#identify list of insignificant features that can be dropped for next OMS iteration\n",
    "insig_var_list = list(olsmod_omit.index.values)\n",
    "print(insig_var_list)"
   ]
  },
  {
   "cell_type": "markdown",
   "metadata": {
    "id": "FbQQZacV9WMm"
   },
   "source": [
    "- After removing the insignificant variables, the OLS model generated a comparably fit model, with no notable change in the training or test R-square values. RMSE values remained the same, with nearly identical 3.9 values, which is the same as the first iteration.\n",
    "- These values are nearly identical to the LinearRegression() model found, suggesting both models are comparable for this case."
   ]
  },
  {
   "cell_type": "code",
   "execution_count": 30,
   "metadata": {},
   "outputs": [
    {
     "data": {
      "text/html": [
       "<div>\n",
       "<style scoped>\n",
       "    .dataframe tbody tr th:only-of-type {\n",
       "        vertical-align: middle;\n",
       "    }\n",
       "\n",
       "    .dataframe tbody tr th {\n",
       "        vertical-align: top;\n",
       "    }\n",
       "\n",
       "    .dataframe thead th {\n",
       "        text-align: right;\n",
       "    }\n",
       "</style>\n",
       "<table border=\"1\" class=\"dataframe\">\n",
       "  <thead>\n",
       "    <tr style=\"text-align: right;\">\n",
       "      <th></th>\n",
       "      <th>coef</th>\n",
       "    </tr>\n",
       "  </thead>\n",
       "  <tbody>\n",
       "    <tr>\n",
       "      <th>Brand_Hindustan</th>\n",
       "      <td>2.703630e+00</td>\n",
       "    </tr>\n",
       "    <tr>\n",
       "      <th>Fuel_Type_Electric</th>\n",
       "      <td>1.122851e+00</td>\n",
       "    </tr>\n",
       "    <tr>\n",
       "      <th>Brand_Mini</th>\n",
       "      <td>1.079887e+00</td>\n",
       "    </tr>\n",
       "    <tr>\n",
       "      <th>Brand_Land</th>\n",
       "      <td>9.300887e-01</td>\n",
       "    </tr>\n",
       "    <tr>\n",
       "      <th>Brand_Mercedes-Benz</th>\n",
       "      <td>6.718424e-01</td>\n",
       "    </tr>\n",
       "    <tr>\n",
       "      <th>Brand_Audi</th>\n",
       "      <td>5.950729e-01</td>\n",
       "    </tr>\n",
       "    <tr>\n",
       "      <th>Brand_BMW</th>\n",
       "      <td>5.868910e-01</td>\n",
       "    </tr>\n",
       "    <tr>\n",
       "      <th>Brand_Jaguar</th>\n",
       "      <td>5.689654e-01</td>\n",
       "    </tr>\n",
       "    <tr>\n",
       "      <th>Brand_Volvo</th>\n",
       "      <td>3.846319e-01</td>\n",
       "    </tr>\n",
       "    <tr>\n",
       "      <th>Fuel_Type_Diesel</th>\n",
       "      <td>3.053143e-01</td>\n",
       "    </tr>\n",
       "    <tr>\n",
       "      <th>Brand_Toyota</th>\n",
       "      <td>2.455855e-01</td>\n",
       "    </tr>\n",
       "    <tr>\n",
       "      <th>Brand_Mitsubishi</th>\n",
       "      <td>2.274672e-01</td>\n",
       "    </tr>\n",
       "    <tr>\n",
       "      <th>Brand_Jeep</th>\n",
       "      <td>2.012841e-01</td>\n",
       "    </tr>\n",
       "    <tr>\n",
       "      <th>Brand_Porsche</th>\n",
       "      <td>1.813820e-01</td>\n",
       "    </tr>\n",
       "    <tr>\n",
       "      <th>Location_Bangalore</th>\n",
       "      <td>1.201854e-01</td>\n",
       "    </tr>\n",
       "    <tr>\n",
       "      <th>Year</th>\n",
       "      <td>1.185650e-01</td>\n",
       "    </tr>\n",
       "    <tr>\n",
       "      <th>Brand_Skoda</th>\n",
       "      <td>1.042250e-01</td>\n",
       "    </tr>\n",
       "    <tr>\n",
       "      <th>Location_Hyderabad</th>\n",
       "      <td>8.060350e-02</td>\n",
       "    </tr>\n",
       "    <tr>\n",
       "      <th>Location_Coimbatore</th>\n",
       "      <td>7.727577e-02</td>\n",
       "    </tr>\n",
       "    <tr>\n",
       "      <th>Seats</th>\n",
       "      <td>6.283499e-02</td>\n",
       "    </tr>\n",
       "    <tr>\n",
       "      <th>Brand_Honda</th>\n",
       "      <td>4.448138e-02</td>\n",
       "    </tr>\n",
       "    <tr>\n",
       "      <th>Power</th>\n",
       "      <td>6.224866e-03</td>\n",
       "    </tr>\n",
       "    <tr>\n",
       "      <th>Brand_OpelCorsa</th>\n",
       "      <td>-1.261343e-13</td>\n",
       "    </tr>\n",
       "    <tr>\n",
       "      <th>Mileage</th>\n",
       "      <td>-2.100109e-02</td>\n",
       "    </tr>\n",
       "    <tr>\n",
       "      <th>Brand_Ford</th>\n",
       "      <td>-3.646947e-02</td>\n",
       "    </tr>\n",
       "    <tr>\n",
       "      <th>Location_Mumbai</th>\n",
       "      <td>-4.568337e-02</td>\n",
       "    </tr>\n",
       "    <tr>\n",
       "      <th>kilometers_driven_log</th>\n",
       "      <td>-4.865947e-02</td>\n",
       "    </tr>\n",
       "    <tr>\n",
       "      <th>Owner_Type_Second</th>\n",
       "      <td>-5.339284e-02</td>\n",
       "    </tr>\n",
       "    <tr>\n",
       "      <th>Location_Delhi</th>\n",
       "      <td>-5.420640e-02</td>\n",
       "    </tr>\n",
       "    <tr>\n",
       "      <th>Location_Pune</th>\n",
       "      <td>-5.762931e-02</td>\n",
       "    </tr>\n",
       "    <tr>\n",
       "      <th>Location_Jaipur</th>\n",
       "      <td>-7.382024e-02</td>\n",
       "    </tr>\n",
       "    <tr>\n",
       "      <th>Transmission_Manual</th>\n",
       "      <td>-1.022126e-01</td>\n",
       "    </tr>\n",
       "    <tr>\n",
       "      <th>Owner_Type_Third</th>\n",
       "      <td>-1.055358e-01</td>\n",
       "    </tr>\n",
       "    <tr>\n",
       "      <th>Brand_Mahindra</th>\n",
       "      <td>-1.377891e-01</td>\n",
       "    </tr>\n",
       "    <tr>\n",
       "      <th>Location_Kolkata</th>\n",
       "      <td>-2.080978e-01</td>\n",
       "    </tr>\n",
       "    <tr>\n",
       "      <th>Brand_Fiat</th>\n",
       "      <td>-3.126824e-01</td>\n",
       "    </tr>\n",
       "    <tr>\n",
       "      <th>Brand_Chevrolet</th>\n",
       "      <td>-3.590349e-01</td>\n",
       "    </tr>\n",
       "    <tr>\n",
       "      <th>Brand_Datsun</th>\n",
       "      <td>-4.561038e-01</td>\n",
       "    </tr>\n",
       "    <tr>\n",
       "      <th>Brand_Tata</th>\n",
       "      <td>-4.905578e-01</td>\n",
       "    </tr>\n",
       "    <tr>\n",
       "      <th>const</th>\n",
       "      <td>-2.371799e+02</td>\n",
       "    </tr>\n",
       "  </tbody>\n",
       "</table>\n",
       "</div>"
      ],
      "text/plain": [
       "                               coef\n",
       "Brand_Hindustan        2.703630e+00\n",
       "Fuel_Type_Electric     1.122851e+00\n",
       "Brand_Mini             1.079887e+00\n",
       "Brand_Land             9.300887e-01\n",
       "Brand_Mercedes-Benz    6.718424e-01\n",
       "Brand_Audi             5.950729e-01\n",
       "Brand_BMW              5.868910e-01\n",
       "Brand_Jaguar           5.689654e-01\n",
       "Brand_Volvo            3.846319e-01\n",
       "Fuel_Type_Diesel       3.053143e-01\n",
       "Brand_Toyota           2.455855e-01\n",
       "Brand_Mitsubishi       2.274672e-01\n",
       "Brand_Jeep             2.012841e-01\n",
       "Brand_Porsche          1.813820e-01\n",
       "Location_Bangalore     1.201854e-01\n",
       "Year                   1.185650e-01\n",
       "Brand_Skoda            1.042250e-01\n",
       "Location_Hyderabad     8.060350e-02\n",
       "Location_Coimbatore    7.727577e-02\n",
       "Seats                  6.283499e-02\n",
       "Brand_Honda            4.448138e-02\n",
       "Power                  6.224866e-03\n",
       "Brand_OpelCorsa       -1.261343e-13\n",
       "Mileage               -2.100109e-02\n",
       "Brand_Ford            -3.646947e-02\n",
       "Location_Mumbai       -4.568337e-02\n",
       "kilometers_driven_log -4.865947e-02\n",
       "Owner_Type_Second     -5.339284e-02\n",
       "Location_Delhi        -5.420640e-02\n",
       "Location_Pune         -5.762931e-02\n",
       "Location_Jaipur       -7.382024e-02\n",
       "Transmission_Manual   -1.022126e-01\n",
       "Owner_Type_Third      -1.055358e-01\n",
       "Brand_Mahindra        -1.377891e-01\n",
       "Location_Kolkata      -2.080978e-01\n",
       "Brand_Fiat            -3.126824e-01\n",
       "Brand_Chevrolet       -3.590349e-01\n",
       "Brand_Datsun          -4.561038e-01\n",
       "Brand_Tata            -4.905578e-01\n",
       "const                 -2.371799e+02"
      ]
     },
     "execution_count": 30,
     "metadata": {},
     "output_type": "execute_result"
    }
   ],
   "source": [
    "olsmod_coeff = pd.DataFrame(olsmodel2.params, columns = ['coef'])\n",
    "olsmod_coeff.sort_values(by = \"coef\", ascending = False)"
   ]
  },
  {
   "cell_type": "code",
   "execution_count": 31,
   "metadata": {},
   "outputs": [
    {
     "data": {
      "text/plain": [
       "Maruti           1444\n",
       "Hyundai          1340\n",
       "Honda             743\n",
       "Toyota            507\n",
       "Mercedes-Benz     380\n",
       "Volkswagen        374\n",
       "Ford              351\n",
       "Mahindra          331\n",
       "BMW               311\n",
       "Audi              285\n",
       "Tata              228\n",
       "Skoda             201\n",
       "Renault           170\n",
       "Chevrolet         151\n",
       "Nissan            117\n",
       "Land               66\n",
       "Jaguar             48\n",
       "Fiat               38\n",
       "Mitsubishi         36\n",
       "Mini               31\n",
       "Volvo              28\n",
       "Porsche            19\n",
       "Jeep               19\n",
       "Datsun             17\n",
       "ISUZU               3\n",
       "Force               3\n",
       "Isuzu               2\n",
       "Bentley             2\n",
       "Smart               1\n",
       "Ambassador          1\n",
       "Hindustan           1\n",
       "OpelCorsa           1\n",
       "Name: Brand, dtype: int64"
      ]
     },
     "execution_count": 31,
     "metadata": {},
     "output_type": "execute_result"
    }
   ],
   "source": [
    "#Brand seems to figure in. Let's see what what the most frequent brands are.\n",
    "cars_data.Brand.value_counts()"
   ]
  },
  {
   "cell_type": "code",
   "execution_count": 32,
   "metadata": {
    "scrolled": false
   },
   "outputs": [
    {
     "data": {
      "text/plain": [
       "const                    5.074000e+03\n",
       "Year                     1.021577e+07\n",
       "Mileage                  9.316342e+04\n",
       "Power                    5.698933e+05\n",
       "Seats                    2.680400e+04\n",
       "kilometers_driven_log    5.460953e+04\n",
       "Location_Bangalore       3.030000e+02\n",
       "Location_Coimbatore      5.470000e+02\n",
       "Location_Delhi           4.570000e+02\n",
       "Location_Hyderabad       6.160000e+02\n",
       "Location_Jaipur          3.710000e+02\n",
       "Location_Kolkata         4.670000e+02\n",
       "Location_Mumbai          6.290000e+02\n",
       "Location_Pune            5.340000e+02\n",
       "Fuel_Type_Diesel         2.720000e+03\n",
       "Fuel_Type_Electric       2.000000e+00\n",
       "Transmission_Manual      3.654000e+03\n",
       "Owner_Type_Second        8.090000e+02\n",
       "Owner_Type_Third         9.900000e+01\n",
       "Brand_Audi               1.990000e+02\n",
       "Brand_BMW                2.230000e+02\n",
       "Brand_Chevrolet          1.110000e+02\n",
       "Brand_Datsun             1.200000e+01\n",
       "Brand_Fiat               2.600000e+01\n",
       "Brand_Ford               2.430000e+02\n",
       "Brand_Hindustan          1.000000e+00\n",
       "Brand_Honda              5.140000e+02\n",
       "Brand_Jaguar             3.200000e+01\n",
       "Brand_Jeep               1.200000e+01\n",
       "Brand_Land               4.800000e+01\n",
       "Brand_Mahindra           2.260000e+02\n",
       "Brand_Mercedes-Benz      2.600000e+02\n",
       "Brand_Mini               2.400000e+01\n",
       "Brand_Mitsubishi         2.900000e+01\n",
       "Brand_OpelCorsa          0.000000e+00\n",
       "Brand_Porsche            1.200000e+01\n",
       "Brand_Skoda              1.400000e+02\n",
       "Brand_Tata               1.570000e+02\n",
       "Brand_Toyota             3.470000e+02\n",
       "Brand_Volvo              1.700000e+01\n",
       "dtype: float64"
      ]
     },
     "execution_count": 32,
     "metadata": {},
     "output_type": "execute_result"
    }
   ],
   "source": [
    "s = X_train_ols.sum()\n",
    "s\n",
    "                                        "
   ]
  },
  {
   "cell_type": "markdown",
   "metadata": {},
   "source": [
    "We can use the coefficients to assess the impact each variable has on the price. More will be said in the final review of the analysis."
   ]
  },
  {
   "cell_type": "markdown",
   "metadata": {},
   "source": [
    "*** Identify overall significant variables ***"
   ]
  },
  {
   "cell_type": "code",
   "execution_count": 33,
   "metadata": {
    "id": "yjplRhssIrdC"
   },
   "outputs": [
    {
     "name": "stdout",
     "output_type": "stream",
     "text": [
      "\u001b[1mMost overall significant categorical varaibles of LINEAR REGRESSION  are \u001b[95m :\n",
      " ['Year', 'Mileage', 'Power', 'Seats', 'kilometers_driven_log', 'Location', 'Fuel_Type', 'Transmission', 'Owner_Type', 'Brand']\n"
     ]
    }
   ],
   "source": [
    "# Retrive Coeff values, p-values and store them in the dataframe\n",
    "olsmod = pd.DataFrame(olsmodel1.params, columns = ['coef'])\n",
    "\n",
    "olsmod['pval'] = olsmodel1.pvalues\n",
    "\n",
    "\n",
    "# We are looking are overall significant variable\n",
    "\n",
    "cars_data_sigvar = cars_data.drop(['Brand_model'],axis =1)\n",
    "\n",
    "pval_filter = olsmod['pval']<= 0.05\n",
    "imp_vars = olsmod[pval_filter].index.tolist()\n",
    "\n",
    "# We are going to get overall varaibles (un-one-hot encoded varables) from categorical variables\n",
    "sig_var = []\n",
    "for col in imp_vars:\n",
    "    if '' in col:\n",
    "        first_part = col.split('_')[0]\n",
    "        for c in cars_data_sigvar.columns:\n",
    "            if first_part in c and c not in sig_var :\n",
    "                sig_var.append(c)\n",
    "\n",
    "                \n",
    "start = '\\033[1m'\n",
    "end = '\\033[95m'\n",
    "print(start+ 'Most overall significant categorical varaibles of LINEAR REGRESSION  are ' +end,':\\n', sig_var)"
   ]
  },
  {
   "cell_type": "markdown",
   "metadata": {
    "id": "5uubmKLlVL3j"
   },
   "source": [
    "**Build Ridge / Lasso Regression similar to Linear Regression:**<br>\n",
    "\n",
    "https://scikit-learn.org/stable/modules/generated/sklearn.linear_model.Ridge.html"
   ]
  },
  {
   "cell_type": "code",
   "execution_count": 34,
   "metadata": {
    "id": "9--bgDNhVL3j"
   },
   "outputs": [],
   "source": [
    "# Import Ridge/ Lasso Regression from sklearn\n",
    "from sklearn.linear_model import Ridge\n",
    "from sklearn.linear_model import Lasso"
   ]
  },
  {
   "cell_type": "code",
   "execution_count": 35,
   "metadata": {
    "id": "TwSuk8Q9VL3j"
   },
   "outputs": [],
   "source": [
    "# Create a Ridge regression model\n",
    "target  = 'Price_log'\n",
    "features_added = [i for i in X.columns if i not in \"Sales\"]"
   ]
  },
  {
   "cell_type": "code",
   "execution_count": 36,
   "metadata": {},
   "outputs": [
    {
     "data": {
      "text/plain": [
       "Ridge()"
      ]
     },
     "execution_count": 36,
     "metadata": {},
     "output_type": "execute_result"
    }
   ],
   "source": [
    "#fitting Ridge with the default features\n",
    "ridge = Ridge()\n",
    "ridge.fit(X_train, y_train[target])"
   ]
  },
  {
   "cell_type": "code",
   "execution_count": 37,
   "metadata": {},
   "outputs": [
    {
     "name": "stdout",
     "output_type": "stream",
     "text": [
      "R-square on training set :  0.8704177836327331\n",
      "R-square on test set :  0.8533529632253352\n",
      "RMSE on training set :  3.9038211269232415\n",
      "RMSE on test set :  3.9455660303401205\n"
     ]
    }
   ],
   "source": [
    "# Get score of the model\n",
    "Ridge_model = get_model_score(ridge)"
   ]
  },
  {
   "cell_type": "markdown",
   "metadata": {},
   "source": [
    "**Observations from results: _____**\n",
    "- The R-squared for both training and test sets was .87 and .85, respectively, which indicates an identical strength as the previous models.  The RMSE values for both were 3.9, which is also identical to the previous models.  Thus, the ridge did not improve the results."
   ]
  },
  {
   "cell_type": "markdown",
   "metadata": {},
   "source": [
    "## XGBoost"
   ]
  },
  {
   "cell_type": "code",
   "execution_count": 63,
   "metadata": {},
   "outputs": [
    {
     "name": "stdout",
     "output_type": "stream",
     "text": [
      "Defaulting to user installation because normal site-packages is not writeable\n",
      "Requirement already satisfied: xgboost in c:\\users\\droem\\appdata\\roaming\\python\\python39\\site-packages (1.6.2)\n",
      "Requirement already satisfied: scipy in c:\\users\\droem\\appdata\\roaming\\python\\python39\\site-packages (from xgboost) (1.8.0)\n",
      "Requirement already satisfied: numpy in c:\\programdata\\anaconda3\\lib\\site-packages (from xgboost) (1.21.5)\n"
     ]
    },
    {
     "name": "stderr",
     "output_type": "stream",
     "text": [
      "\n",
      "[notice] A new release of pip available: 22.2.2 -> 22.3.1\n",
      "[notice] To update, run: python.exe -m pip install --upgrade pip\n"
     ]
    }
   ],
   "source": [
    "#install xgboost package\n",
    "!pip install xgboost"
   ]
  },
  {
   "cell_type": "code",
   "execution_count": 64,
   "metadata": {},
   "outputs": [
    {
     "name": "stdout",
     "output_type": "stream",
     "text": [
      "1.6.2\n"
     ]
    }
   ],
   "source": [
    "import xgboost\n",
    "print(xgboost.__version__)"
   ]
  },
  {
   "cell_type": "code",
   "execution_count": 65,
   "metadata": {},
   "outputs": [],
   "source": [
    "from numpy import absolute\n",
    "from sklearn.model_selection import cross_val_score\n",
    "from sklearn.model_selection import RepeatedKFold\n",
    "from xgboost import XGBRegressor"
   ]
  },
  {
   "cell_type": "code",
   "execution_count": 86,
   "metadata": {},
   "outputs": [
    {
     "name": "stdout",
     "output_type": "stream",
     "text": [
      "R-square: 0.902 (0.054)\n"
     ]
    }
   ],
   "source": [
    "# create an xgboost regression model, find Rsquare based on original x_train\n",
    "xgb = XGBRegressor()\n",
    "\n",
    "# define model evaluation method\n",
    "cv = RepeatedKFold(n_splits=120, n_repeats=6, random_state=1)\n",
    "# evaluate model\n",
    "scores = cross_val_score(model, X_train, y_train[target], scoring='r2', cv=cv, n_jobs=-1)\n",
    "# force scores to be positive\n",
    "scores = absolute(scores)\n",
    "print('R-square: %.3f (%.3f)' % (scores.mean(), scores.std()))"
   ]
  },
  {
   "cell_type": "code",
   "execution_count": 87,
   "metadata": {},
   "outputs": [
    {
     "name": "stdout",
     "output_type": "stream",
     "text": [
      "R-square on training set :  0.98862525498481\n",
      "R-square on test set :  0.8888873139848621\n",
      "RMSE on training set :  1.1566129302503056\n",
      "RMSE on test set :  3.43442860799185\n"
     ]
    }
   ],
   "source": [
    "xgb.fit(X_train, y_train[target])\n",
    "# Get score of the model\n",
    "XGB_model = get_model_score(xgb)"
   ]
  },
  {
   "cell_type": "markdown",
   "metadata": {},
   "source": [
    "## Hypertune XGBoost model"
   ]
  },
  {
   "cell_type": "code",
   "execution_count": null,
   "metadata": {},
   "outputs": [],
   "source": [
    "# Choose the type of estimator \n",
    "xgb_tuned = XGBRegressor(random_state = 1)\n",
    "\n",
    "# Grid of parameters to choose from\n",
    "# Check documentation for all the parametrs that the model takes and play with those\n",
    "parameters = {\n",
    "    'max_depth': [6],\n",
    "    'n_estimators': [255,260,265],\n",
    "    'learning_rate': [.18,.19,.2]\n",
    "}\n",
    "\n",
    "# Type of scoring used to compare parameter combinations\n",
    "\n",
    "from sklearn.metrics import make_scorer,mean_squared_error, r2_score, mean_absolute_error\n",
    "\n",
    "scorer = make_scorer(mean_squared_error) #use criteria mean squared error to optimze\n",
    "\n",
    "# calculating different regression metrics\n",
    "from sklearn.model_selection import GridSearchCV\n",
    "\n",
    "# Run the grid search\n",
    "grid_obj = GridSearchCV(xgb_tuned, parameters, scoring = scorer,n_jobs=10, cv = 10)\n",
    "grid_obj = grid_obj.fit(X_train, y_train[target])\n",
    "\n",
    "# Set the model to the best combination of parameters\n",
    "xgb_tuned = grid_obj.best_estimator_\n",
    "\n",
    "# Fit the best algorithm to the data\n",
    "xgb_tuned.fit(X_train, y_train[target])"
   ]
  },
  {
   "cell_type": "code",
   "execution_count": null,
   "metadata": {},
   "outputs": [],
   "source": [
    "xgb_tuned.fit(X_train, y_train[target])\n",
    "# Get score of the model\n",
    "xgb_tuned_model = get_model_score(xgb_tuned)"
   ]
  },
  {
   "cell_type": "markdown",
   "metadata": {
    "id": "owyg5IpstOS9"
   },
   "source": [
    "### **Decision Tree** \n",
    "\n",
    "https://scikit-learn.org/stable/auto_examples/tree/plot_tree_regression.html"
   ]
  },
  {
   "cell_type": "code",
   "execution_count": 38,
   "metadata": {
    "id": "GjZeRER6VL3k"
   },
   "outputs": [],
   "source": [
    "# Import Decision tree for Regression from sklearn\n",
    "from sklearn import tree\n",
    "\n",
    "from sklearn.tree import DecisionTreeRegressor"
   ]
  },
  {
   "cell_type": "code",
   "execution_count": 39,
   "metadata": {
    "id": "shBet9WztOS-"
   },
   "outputs": [],
   "source": [
    "# Create a decision tree regression model, use random_state = 1\n",
    "dtree = DecisionTreeRegressor(random_state = 1)"
   ]
  },
  {
   "cell_type": "code",
   "execution_count": 40,
   "metadata": {
    "id": "eJxVYVXXtOS-"
   },
   "outputs": [
    {
     "data": {
      "text/plain": [
       "DecisionTreeRegressor(random_state=1)"
      ]
     },
     "execution_count": 40,
     "metadata": {},
     "output_type": "execute_result"
    }
   ],
   "source": [
    "# Fit decision tree regression model\n",
    "dtree.fit(X_train, y_train[target])"
   ]
  },
  {
   "cell_type": "code",
   "execution_count": 41,
   "metadata": {
    "id": "vGbEjda0tOS-",
    "scrolled": true
   },
   "outputs": [
    {
     "name": "stdout",
     "output_type": "stream",
     "text": [
      "R-square on training set :  0.9999919148475714\n",
      "R-square on test set :  0.7796366545435071\n",
      "RMSE on training set :  0.03083623268912661\n",
      "RMSE on test set :  4.836624243457745\n"
     ]
    }
   ],
   "source": [
    "# Get score of the model\n",
    "Dtree_model = get_model_score(dtree)"
   ]
  },
  {
   "cell_type": "markdown",
   "metadata": {
    "id": "UrCgLVKwtOS-"
   },
   "source": [
    "**Observations from results: _____**\n",
    "- This model is overfit, even though the training set R-square value is very high (.99), it is notably higher than the test set (.78).\n",
    "- The RMSE are also disparate, where the test set is more than 10x greater than the training set.\n",
    "- It is recommended that another model be used if possible to model, as these disparities indicate a biased model that is overfitting the training dataset."
   ]
  },
  {
   "cell_type": "markdown",
   "metadata": {
    "id": "6z2V0IwtVL3k"
   },
   "source": [
    "Print the importance of features in the tree building. The importance of a feature is computed as the (normalized) total reduction of the criterion brought by that feature. It is also known as the Gini importance.\n"
   ]
  },
  {
   "cell_type": "code",
   "execution_count": 42,
   "metadata": {
    "id": "E8ro_i9vIrdF"
   },
   "outputs": [
    {
     "name": "stdout",
     "output_type": "stream",
     "text": [
      "                                    Imp\n",
      "Power                      6.410034e-01\n",
      "Year                       2.241740e-01\n",
      "Mileage                    2.525093e-02\n",
      "kilometers_driven_log      1.919618e-02\n",
      "Brand_Mahindra             1.038278e-02\n",
      "Brand_Mercedes-Benz        9.124087e-03\n",
      "Brand_Chevrolet            6.881867e-03\n",
      "Brand_Skoda                5.695154e-03\n",
      "Brand_Mini                 5.326716e-03\n",
      "Brand_Tata                 4.800286e-03\n",
      "Seats                      4.639159e-03\n",
      "Brand_Land                 4.286220e-03\n",
      "Location_Kolkata           3.595378e-03\n",
      "Fuel_Type_Diesel           3.292146e-03\n",
      "Location_Hyderabad         3.098636e-03\n",
      "Brand_Honda                3.078370e-03\n",
      "Brand_Hyundai              2.490765e-03\n",
      "Brand_Volkswagen           2.273522e-03\n",
      "Brand_Toyota               2.257867e-03\n",
      "Brand_BMW                  1.916113e-03\n",
      "Location_Coimbatore        1.597843e-03\n",
      "Transmission_Manual        1.461528e-03\n",
      "Brand_Ford                 1.313782e-03\n",
      "Location_Bangalore         1.222145e-03\n",
      "Owner_Type_Second          1.192646e-03\n",
      "Location_Kochi             1.166460e-03\n",
      "Location_Delhi             1.135361e-03\n",
      "Location_Chennai           1.127525e-03\n",
      "Location_Mumbai            1.024353e-03\n",
      "Location_Jaipur            9.776854e-04\n",
      "Owner_Type_Third           7.651848e-04\n",
      "Location_Pune              7.413039e-04\n",
      "Fuel_Type_Electric         5.916188e-04\n",
      "Brand_Porsche              5.798572e-04\n",
      "Brand_Nissan               5.403306e-04\n",
      "Brand_Renault              3.374963e-04\n",
      "Brand_Audi                 3.261214e-04\n",
      "Brand_Mitsubishi           3.236959e-04\n",
      "Brand_Fiat                 2.579298e-04\n",
      "Brand_Hindustan            2.394074e-04\n",
      "Brand_Jaguar               1.465351e-04\n",
      "Brand_Volvo                1.090643e-04\n",
      "Owner_Type_Fourth & Above  3.442853e-05\n",
      "Fuel_Type_LPG              1.446428e-05\n",
      "Brand_Datsun               9.070640e-06\n",
      "Brand_ISUZU                5.410306e-07\n",
      "Brand_Jeep                 0.000000e+00\n",
      "Brand_Isuzu                0.000000e+00\n",
      "Brand_OpelCorsa            0.000000e+00\n",
      "Brand_Force                0.000000e+00\n",
      "Brand_Smart                0.000000e+00\n",
      "Brand_Bentley              0.000000e+00\n",
      "const                      0.000000e+00\n"
     ]
    }
   ],
   "source": [
    "print(pd.DataFrame(dtree.feature_importances_, columns = [\"Imp\"], index = X_train.columns).sort_values(by = 'Imp', ascending = False))"
   ]
  },
  {
   "cell_type": "markdown",
   "metadata": {
    "id": "m9P0pzHHIrdG"
   },
   "source": [
    "**Observations and insights: _____**\n",
    "- The top 2 important variables account for nearly 90% significance, indicating a simpler model could be made by combining a number of the variables, especially brand. \n"
   ]
  },
  {
   "cell_type": "markdown",
   "metadata": {
    "id": "q8eFynaNtOS-"
   },
   "source": [
    "### **Random Forest**\n",
    "\n",
    "https://scikit-learn.org/stable/modules/generated/sklearn.ensemble.RandomForestRegressor.html"
   ]
  },
  {
   "cell_type": "code",
   "execution_count": 43,
   "metadata": {
    "id": "Jhw-0FsNVL3l"
   },
   "outputs": [],
   "source": [
    "# Import Randomforest for Regression from sklearn\n",
    "from sklearn.ensemble import RandomForestRegressor"
   ]
  },
  {
   "cell_type": "code",
   "execution_count": 44,
   "metadata": {
    "id": "-4S4FoDXtOS-"
   },
   "outputs": [],
   "source": [
    "# Create a Randomforest regression model\n",
    "rf_estimator = RandomForestRegressor(random_state = 1)"
   ]
  },
  {
   "cell_type": "code",
   "execution_count": 45,
   "metadata": {
    "id": "gBlavhMTtOS-"
   },
   "outputs": [
    {
     "data": {
      "text/plain": [
       "RandomForestRegressor(random_state=1)"
      ]
     },
     "execution_count": 45,
     "metadata": {},
     "output_type": "execute_result"
    }
   ],
   "source": [
    "# Fit Randomforest regression model\n",
    "rf_estimator.fit(X_train, y_train[target])"
   ]
  },
  {
   "cell_type": "code",
   "execution_count": 46,
   "metadata": {
    "id": "VLDDeeAGtOS_"
   },
   "outputs": [
    {
     "name": "stdout",
     "output_type": "stream",
     "text": [
      "R-square on training set :  0.9824833580939456\n",
      "R-square on test set :  0.8797299596096566\n",
      "RMSE on training set :  1.4352998320756742\n",
      "RMSE on test set :  3.5731512355164794\n"
     ]
    }
   ],
   "source": [
    "# Get score of the model\n",
    "\n",
    "Rf_model = get_model_score(rf_estimator)"
   ]
  },
  {
   "cell_type": "markdown",
   "metadata": {
    "id": "ZGNTRfaitOS_"
   },
   "source": [
    "**Observations and insights: _____**\n",
    "- Similar results as decision tree, where the model is still biased, given the near .10 difference between the training and test set R-square value.  The RMSE are closer, but still disparate."
   ]
  },
  {
   "cell_type": "markdown",
   "metadata": {
    "id": "pgwyNxUuIrdG"
   },
   "source": [
    "**Feature Importance**"
   ]
  },
  {
   "cell_type": "code",
   "execution_count": 47,
   "metadata": {
    "id": "AWRS7zISIrdG",
    "scrolled": true
   },
   "outputs": [
    {
     "name": "stdout",
     "output_type": "stream",
     "text": [
      "                                Imp\n",
      "Power                      0.646699\n",
      "Year                       0.224256\n",
      "Mileage                    0.025388\n",
      "kilometers_driven_log      0.018246\n",
      "Brand_Mercedes-Benz        0.006747\n",
      "Fuel_Type_Diesel           0.005903\n",
      "Brand_Mahindra             0.005687\n",
      "Seats                      0.005148\n",
      "Transmission_Manual        0.004843\n",
      "Brand_Tata                 0.004287\n",
      "Brand_Land                 0.004260\n",
      "Brand_Mini                 0.004211\n",
      "Brand_Chevrolet            0.003970\n",
      "Location_Kolkata           0.003933\n",
      "Brand_Honda                0.003668\n",
      "Brand_Skoda                0.003088\n",
      "Brand_Hyundai              0.002661\n",
      "Location_Hyderabad         0.002640\n",
      "Brand_Toyota               0.002474\n",
      "Brand_BMW                  0.002075\n",
      "Brand_Audi                 0.002066\n",
      "Brand_Volkswagen           0.001903\n",
      "Location_Coimbatore        0.001761\n",
      "Owner_Type_Second          0.001684\n",
      "Location_Mumbai            0.001356\n",
      "Location_Bangalore         0.001339\n",
      "Location_Pune              0.001296\n",
      "Location_Delhi             0.001232\n",
      "Location_Jaipur            0.000989\n",
      "Location_Kochi             0.000960\n",
      "Location_Chennai           0.000879\n",
      "Brand_Ford                 0.000724\n",
      "Owner_Type_Third           0.000713\n",
      "Brand_Porsche              0.000488\n",
      "Brand_Fiat                 0.000414\n",
      "Brand_Renault              0.000396\n",
      "Brand_Nissan               0.000367\n",
      "Brand_Mitsubishi           0.000302\n",
      "Fuel_Type_Electric         0.000239\n",
      "Brand_Hindustan            0.000209\n",
      "Brand_Jaguar               0.000142\n",
      "Brand_Jeep                 0.000141\n",
      "Brand_Volvo                0.000073\n",
      "Owner_Type_Fourth & Above  0.000053\n",
      "Brand_Datsun               0.000026\n",
      "Brand_Smart                0.000021\n",
      "Brand_Isuzu                0.000014\n",
      "Fuel_Type_LPG              0.000011\n",
      "Brand_Bentley              0.000008\n",
      "Brand_Force                0.000008\n",
      "Brand_ISUZU                0.000002\n",
      "Brand_OpelCorsa            0.000000\n",
      "const                      0.000000\n"
     ]
    }
   ],
   "source": [
    "# Print important features similar to random forest\n",
    "\n",
    "print(pd.DataFrame(rf_estimator.feature_importances_, columns = [\"Imp\"], index = X_train.columns).sort_values(by = 'Imp', ascending = False))"
   ]
  },
  {
   "cell_type": "markdown",
   "metadata": {
    "id": "cG9ZD9ozIrdH"
   },
   "source": [
    "**Observations and insights: _____**\n",
    "- Power and Year prove to be significant features as previously found in the decision tree analysis, accounting for close to 90% of the price.\n",
    "- This similarly indicates that only a few features need to be accounted for, and thus many, in the brand category especially, could be combined."
   ]
  },
  {
   "cell_type": "markdown",
   "metadata": {
    "id": "sw0dMSgetOS_"
   },
   "source": [
    "### **Hyperparameter Tuning: Decision Tree**"
   ]
  },
  {
   "cell_type": "code",
   "execution_count": 110,
   "metadata": {
    "id": "4eF0aYHHtOS_"
   },
   "outputs": [
    {
     "data": {
      "text/plain": [
       "DecisionTreeRegressor(max_depth=8, random_state=1)"
      ]
     },
     "execution_count": 110,
     "metadata": {},
     "output_type": "execute_result"
    }
   ],
   "source": [
    "# Choose the type of estimator \n",
    "dtree_tuned = DecisionTreeRegressor(random_state = 1)\n",
    "\n",
    "# Grid of parameters to choose from\n",
    "# Check documentation for all the parametrs that the model takes and play with those\n",
    "parameters = {'max_depth': np.arange(2, 9), \n",
    "              \n",
    "              'criterion': ['squared_error', 'friedman_mse'],\n",
    "              \n",
    "              'min_samples_leaf': [1,2,3,4, 5,6, 7],\n",
    "              \n",
    "              'max_leaf_nodes': [2,3,4, 5, 7] + [None]\n",
    "             }\n",
    "\n",
    "# Type of scoring used to compare parameter combinations\n",
    "\n",
    "from sklearn.metrics import make_scorer,mean_squared_error, r2_score, mean_absolute_error\n",
    "\n",
    "scorer = make_scorer(r2_score)\n",
    "\n",
    "# calculating different regression metrics\n",
    "from sklearn.model_selection import GridSearchCV\n",
    "\n",
    "# Run the grid search\n",
    "grid_obj = GridSearchCV(dtree_tuned, parameters, scoring = scorer, cv = 5)\n",
    "grid_obj = grid_obj.fit(X_train, y_train[target])\n",
    "\n",
    "# Set the model to the best combination of parameters\n",
    "dtree_tuned = grid_obj.best_estimator_\n",
    "\n",
    "# Fit the best algorithm to the data\n",
    "dtree_tuned.fit(X_train, y_train[target])"
   ]
  },
  {
   "cell_type": "code",
   "execution_count": 111,
   "metadata": {},
   "outputs": [
    {
     "name": "stdout",
     "output_type": "stream",
     "text": [
      "R-square on training set :  0.9198898786119054\n",
      "R-square on test set :  0.8140991625268482\n",
      "RMSE on training set :  3.0694524013458797\n",
      "RMSE on test set :  4.442355837369812\n"
     ]
    }
   ],
   "source": [
    "# Get score of the dtree_tuned\n",
    "dtree_tuned_model = get_model_score(dtree_tuned)"
   ]
  },
  {
   "cell_type": "markdown",
   "metadata": {
    "id": "UsGmvq1StOS_"
   },
   "source": [
    "**Observations and insights: _____**\n",
    "\n",
    "- This tuned model is a significant improvement with regard to reducing the bias compared to the initial decision tree model. THe RMSE scores for both train and test sets are closer, although still higher than perhaps desired (3,5) range, and different by nearly 1.  \n",
    "\n",
    "- Bias has been reduced significantly, with the difference in R values only .05, and both in the .80-.9 range. This indicates the model has modest accuracy and reasonable precision. \n",
    "- However, the test set values on the linear regression models were .04 better, and the overfit was less as well (~.02 compared to ~.08 in this case)\n",
    "- We aim to have a model that closes this gap further, while maintaining or even improving accuracy."
   ]
  },
  {
   "cell_type": "markdown",
   "metadata": {
    "id": "5jssEF5eIrdH"
   },
   "source": [
    "**Feature Importance**"
   ]
  },
  {
   "cell_type": "code",
   "execution_count": 50,
   "metadata": {
    "id": "OdzQWq8WtOTA"
   },
   "outputs": [
    {
     "name": "stdout",
     "output_type": "stream",
     "text": [
      "                                Imp\n",
      "Power                      0.692939\n",
      "Year                       0.233514\n",
      "Mileage                    0.013042\n",
      "Brand_Mahindra             0.009639\n",
      "Brand_Mercedes-Benz        0.008532\n",
      "Brand_Chevrolet            0.006605\n",
      "Brand_Skoda                0.005416\n",
      "Brand_Mini                 0.004186\n",
      "kilometers_driven_log      0.003746\n",
      "Fuel_Type_Diesel           0.003740\n",
      "Brand_Land                 0.002642\n",
      "Brand_Honda                0.002620\n",
      "Brand_Tata                 0.002388\n",
      "Seats                      0.002088\n",
      "Brand_Toyota               0.001900\n",
      "Brand_Hyundai              0.001496\n",
      "Brand_Volkswagen           0.001383\n",
      "Brand_BMW                  0.001099\n",
      "Location_Kolkata           0.000836\n",
      "Brand_Porsche              0.000638\n",
      "Fuel_Type_Electric         0.000580\n",
      "Location_Hyderabad         0.000365\n",
      "Location_Delhi             0.000280\n",
      "Location_Mumbai            0.000138\n",
      "Location_Bangalore         0.000044\n",
      "Owner_Type_Fourth & Above  0.000041\n",
      "Owner_Type_Second          0.000040\n",
      "Location_Coimbatore        0.000028\n",
      "Location_Kochi             0.000023\n",
      "Location_Chennai           0.000009\n",
      "Location_Jaipur            0.000007\n",
      "Brand_Mitsubishi           0.000000\n",
      "Brand_Nissan               0.000000\n",
      "Brand_OpelCorsa            0.000000\n",
      "Brand_Renault              0.000000\n",
      "Brand_Smart                0.000000\n",
      "Brand_Jeep                 0.000000\n",
      "const                      0.000000\n",
      "Brand_Jaguar               0.000000\n",
      "Brand_Isuzu                0.000000\n",
      "Brand_ISUZU                0.000000\n",
      "Brand_Hindustan            0.000000\n",
      "Brand_Ford                 0.000000\n",
      "Brand_Force                0.000000\n",
      "Brand_Fiat                 0.000000\n",
      "Brand_Datsun               0.000000\n",
      "Brand_Bentley              0.000000\n",
      "Brand_Audi                 0.000000\n",
      "Owner_Type_Third           0.000000\n",
      "Transmission_Manual        0.000000\n",
      "Fuel_Type_LPG              0.000000\n",
      "Location_Pune              0.000000\n",
      "Brand_Volvo                0.000000\n"
     ]
    }
   ],
   "source": [
    "# Print important features of tuned decision tree similar to decision trees\n",
    "print(pd.DataFrame(dtree_tuned.feature_importances_, columns = [\"Imp\"], index = X_train.columns).sort_values(by = 'Imp', ascending = False))"
   ]
  },
  {
   "cell_type": "markdown",
   "metadata": {
    "id": "-r8AR_VotOTB"
   },
   "source": [
    "**Observations and insights: _____**\n",
    "\n",
    "- Power and Year are the most important features, with Power valued even higher (.7) than in the untuned Decision tree (.64).  \n",
    "- Mileage was not in the top 5, while Mahindra and Tata brands were valued higher, albeit very insignificantly (<.01).\n",
    "- It appears nearly half of the variables could be omitted or combined."
   ]
  },
  {
   "cell_type": "markdown",
   "metadata": {
    "id": "18uxHTy2tOTB"
   },
   "source": [
    "### **Hyperparameter Tuning: Random Forest**"
   ]
  },
  {
   "cell_type": "code",
   "execution_count": 136,
   "metadata": {
    "id": "4P_Mj0JYtOTC"
   },
   "outputs": [
    {
     "data": {
      "text/plain": [
       "RandomForestRegressor(max_depth=19, max_features=0.3, n_estimators=300,\n",
       "                      random_state=1)"
      ]
     },
     "execution_count": 136,
     "metadata": {},
     "output_type": "execute_result"
    }
   ],
   "source": [
    "# Choose the type of Regressor\n",
    "rf_tuned = RandomForestRegressor(random_state = 1)\n",
    "\n",
    "# Define the parameters for Grid to choose from \n",
    "\n",
    "parameters = {\"n_estimators\": [280,300],\n",
    "              \n",
    "    \"max_depth\": [18,19],\n",
    "              \n",
    "    \"max_features\": [.2,.3\n",
    "                    ]\n",
    "             }\n",
    "# Check documentation for all the parametrs that the model takes and play with those\n",
    "\n",
    "# Type of scoring used to compare parameter combinations\n",
    "scorer = make_scorer(r2_score)\n",
    "\n",
    "# Run the grid search\n",
    "grid_obj = GridSearchCV(rf_tuned, parameters, scoring = scorer, cv = 5)\n",
    "grid_obj = grid_obj.fit(X_train, y_train[target])\n",
    "\n",
    "# Set the model to the best combination of parameters\n",
    "rf_tuned_regressor = grid_obj.best_estimator_\n",
    "# Fit the best algorithm to the data\n",
    "rf_tuned_regressor.fit(X_train, y_train[target])"
   ]
  },
  {
   "cell_type": "code",
   "execution_count": 137,
   "metadata": {
    "id": "HSBtYgpctOTC"
   },
   "outputs": [
    {
     "name": "stdout",
     "output_type": "stream",
     "text": [
      "R-square on training set :  0.9816077366556564\n",
      "R-square on test set :  0.8792293975087697\n",
      "RMSE on training set :  1.470736248803262\n",
      "RMSE on test set :  3.580579215631582\n"
     ]
    }
   ],
   "source": [
    "# Get score of the rf_tuned_regressor\n",
    "Rf_tuned_model = get_model_score(rf_tuned_regressor)"
   ]
  },
  {
   "cell_type": "markdown",
   "metadata": {
    "id": "a1WHqIX9tOTC"
   },
   "source": [
    "**Observations and insights: _____**\n",
    "- Overfitting is reduced on this tuned model compared to the original random forest, reducing the gap from .1 to .05, approximately. Even still the accuracy overall was lower for both training and test sets, given the slightly lower R-square values for both by comparison.\n",
    "- RMSE values were closer in range, and higher than desired perhaps, also pointing to present, but less bias in the tuned model.\n",
    "- This model performed even slightly better than the tuned decision tree model, with an R-square value of .85 on the test set, but still lower than the training set by .05."
   ]
  },
  {
   "cell_type": "markdown",
   "metadata": {
    "id": "ItsgSUyiIrdI"
   },
   "source": [
    "**Feature Importance**"
   ]
  },
  {
   "cell_type": "code",
   "execution_count": 53,
   "metadata": {
    "id": "9khvM2ZhtOTC"
   },
   "outputs": [
    {
     "name": "stdout",
     "output_type": "stream",
     "text": [
      "                                Imp\n",
      "Power                      0.609539\n",
      "Year                       0.219088\n",
      "Transmission_Manual        0.085306\n",
      "Mileage                    0.016888\n",
      "Fuel_Type_Diesel           0.015323\n",
      "kilometers_driven_log      0.008174\n",
      "Seats                      0.006185\n",
      "Brand_Mercedes-Benz        0.004930\n",
      "Brand_Mahindra             0.004223\n",
      "Brand_Honda                0.004093\n",
      "Brand_Land                 0.003625\n",
      "Brand_Mini                 0.003179\n",
      "Brand_Tata                 0.002889\n",
      "Brand_Skoda                0.002556\n",
      "Brand_Chevrolet            0.002217\n",
      "Brand_Toyota               0.002189\n",
      "Brand_Audi                 0.001548\n",
      "Location_Kolkata           0.001121\n",
      "Brand_Hyundai              0.000970\n",
      "Brand_Volkswagen           0.000928\n",
      "Brand_BMW                  0.000920\n",
      "Brand_Porsche              0.000750\n",
      "Location_Hyderabad         0.000467\n",
      "Location_Coimbatore        0.000434\n",
      "Owner_Type_Second          0.000367\n",
      "Fuel_Type_Electric         0.000280\n",
      "Location_Bangalore         0.000242\n",
      "Location_Jaipur            0.000230\n",
      "Owner_Type_Third           0.000204\n",
      "Location_Pune              0.000195\n",
      "Location_Mumbai            0.000166\n",
      "Location_Kochi             0.000136\n",
      "Location_Chennai           0.000098\n",
      "Brand_Ford                 0.000097\n",
      "Brand_Hindustan            0.000085\n",
      "Location_Delhi             0.000080\n",
      "Owner_Type_Fourth & Above  0.000053\n",
      "Brand_Jeep                 0.000045\n",
      "Brand_Renault              0.000043\n",
      "Brand_Jaguar               0.000033\n",
      "Brand_Mitsubishi           0.000027\n",
      "Brand_Bentley              0.000023\n",
      "Brand_Fiat                 0.000022\n",
      "Brand_Nissan               0.000019\n",
      "Brand_Volvo                0.000005\n",
      "Brand_Force                0.000004\n",
      "Brand_Datsun               0.000003\n",
      "Fuel_Type_LPG              0.000002\n",
      "Brand_OpelCorsa            0.000000\n",
      "Brand_Isuzu                0.000000\n",
      "Brand_ISUZU                0.000000\n",
      "Brand_Smart                0.000000\n",
      "const                      0.000000\n"
     ]
    }
   ],
   "source": [
    "# Print important features of tuned decision tree similar to decision trees\n",
    "print(pd.DataFrame(rf_tuned_regressor.feature_importances_, columns = [\"Imp\"], index = X_train.columns).sort_values(by = 'Imp', ascending = False))"
   ]
  },
  {
   "cell_type": "markdown",
   "metadata": {
    "id": "PBoHEXnjtOTC"
   },
   "source": [
    "**Observations and insights: ______**\n",
    "- Like the previous decision tree and random forest models, Power and Year are identified as being most important, in that order, and accounting for 80%+ in determining the predicted price.\n",
    "- Given the consistency of these findings, a simpler model could be developed in which most other variables are dropped."
   ]
  },
  {
   "cell_type": "code",
   "execution_count": 84,
   "metadata": {
    "id": "DCInk4Y8tOTC"
   },
   "outputs": [],
   "source": [
    "# Defining list of models you have trained\n",
    "models = [lr,olsmodel1, ridge,xgb, dtree,rf_estimator, dtree_tuned, rf_tuned_regressor]\n",
    "\n",
    "# Defining empty lists to add train and test results\n",
    "r2_train = []\n",
    "r2_test = []\n",
    "rmse_train = []\n",
    "rmse_test = []\n",
    "\n",
    "# Looping through all the models to get the rmse and r2 scores\n",
    "for model in models:\n",
    "    \n",
    "    # Accuracy score\n",
    "    j = get_model_score(model, False)\n",
    "    \n",
    "    r2_train.append(j[0])\n",
    "    \n",
    "    r2_test.append(j[1])\n",
    "    \n",
    "    rmse_train.append(j[2])\n",
    "    \n",
    "    rmse_test.append(j[3])"
   ]
  },
  {
   "cell_type": "code",
   "execution_count": 85,
   "metadata": {
    "id": "zuLokC7xtOTD"
   },
   "outputs": [
    {
     "data": {
      "text/html": [
       "<div>\n",
       "<style scoped>\n",
       "    .dataframe tbody tr th:only-of-type {\n",
       "        vertical-align: middle;\n",
       "    }\n",
       "\n",
       "    .dataframe tbody tr th {\n",
       "        vertical-align: top;\n",
       "    }\n",
       "\n",
       "    .dataframe thead th {\n",
       "        text-align: right;\n",
       "    }\n",
       "</style>\n",
       "<table border=\"1\" class=\"dataframe\">\n",
       "  <thead>\n",
       "    <tr style=\"text-align: right;\">\n",
       "      <th></th>\n",
       "      <th>Model</th>\n",
       "      <th>Train_r2</th>\n",
       "      <th>Test_r2</th>\n",
       "      <th>Train_RMSE</th>\n",
       "      <th>Test_RMSE</th>\n",
       "    </tr>\n",
       "  </thead>\n",
       "  <tbody>\n",
       "    <tr>\n",
       "      <th>0</th>\n",
       "      <td>Linear Regression-sklearn</td>\n",
       "      <td>0.871921</td>\n",
       "      <td>0.855197</td>\n",
       "      <td>3.881119</td>\n",
       "      <td>3.920680</td>\n",
       "    </tr>\n",
       "    <tr>\n",
       "      <th>1</th>\n",
       "      <td>Linear Regression-statsmodel</td>\n",
       "      <td>0.871921</td>\n",
       "      <td>0.855197</td>\n",
       "      <td>3.881119</td>\n",
       "      <td>3.920680</td>\n",
       "    </tr>\n",
       "    <tr>\n",
       "      <th>2</th>\n",
       "      <td>Ridge</td>\n",
       "      <td>0.870418</td>\n",
       "      <td>0.853353</td>\n",
       "      <td>3.903821</td>\n",
       "      <td>3.945566</td>\n",
       "    </tr>\n",
       "    <tr>\n",
       "      <th>3</th>\n",
       "      <td>XGBoost</td>\n",
       "      <td>0.988625</td>\n",
       "      <td>0.888887</td>\n",
       "      <td>1.156613</td>\n",
       "      <td>3.434429</td>\n",
       "    </tr>\n",
       "    <tr>\n",
       "      <th>4</th>\n",
       "      <td>Decision Tree</td>\n",
       "      <td>0.999992</td>\n",
       "      <td>0.779637</td>\n",
       "      <td>0.030836</td>\n",
       "      <td>4.836624</td>\n",
       "    </tr>\n",
       "    <tr>\n",
       "      <th>5</th>\n",
       "      <td>Random Forest</td>\n",
       "      <td>0.982483</td>\n",
       "      <td>0.879730</td>\n",
       "      <td>1.435300</td>\n",
       "      <td>3.573151</td>\n",
       "    </tr>\n",
       "    <tr>\n",
       "      <th>6</th>\n",
       "      <td>Decision Tree- tuned</td>\n",
       "      <td>0.891983</td>\n",
       "      <td>0.812826</td>\n",
       "      <td>3.564207</td>\n",
       "      <td>4.457541</td>\n",
       "    </tr>\n",
       "    <tr>\n",
       "      <th>7</th>\n",
       "      <td>Random Forest - tuned</td>\n",
       "      <td>0.908355</td>\n",
       "      <td>0.845534</td>\n",
       "      <td>3.283007</td>\n",
       "      <td>4.049388</td>\n",
       "    </tr>\n",
       "  </tbody>\n",
       "</table>\n",
       "</div>"
      ],
      "text/plain": [
       "                          Model  Train_r2   Test_r2  Train_RMSE  Test_RMSE\n",
       "0     Linear Regression-sklearn  0.871921  0.855197    3.881119   3.920680\n",
       "1  Linear Regression-statsmodel  0.871921  0.855197    3.881119   3.920680\n",
       "2                         Ridge  0.870418  0.853353    3.903821   3.945566\n",
       "3                       XGBoost  0.988625  0.888887    1.156613   3.434429\n",
       "4                 Decision Tree  0.999992  0.779637    0.030836   4.836624\n",
       "5                 Random Forest  0.982483  0.879730    1.435300   3.573151\n",
       "6          Decision Tree- tuned  0.891983  0.812826    3.564207   4.457541\n",
       "7         Random Forest - tuned  0.908355  0.845534    3.283007   4.049388"
      ]
     },
     "execution_count": 85,
     "metadata": {},
     "output_type": "execute_result"
    }
   ],
   "source": [
    "comparison_frame = pd.DataFrame({'Model':['Linear Regression-sklearn','Linear Regression-statsmodel','Ridge','XGBoost','Decision Tree', 'Random Forest', 'Decision Tree- tuned','Random Forest - tuned'], \n",
    "                                          'Train_r2': r2_train,'Test_r2': r2_test,\n",
    "                                          'Train_RMSE': rmse_train,'Test_RMSE': rmse_test}) \n",
    "comparison_frame"
   ]
  },
  {
   "cell_type": "markdown",
   "metadata": {},
   "source": [
    "Let's try and run the models using the pared down features discerned from the statsmodel LR model"
   ]
  },
  {
   "cell_type": "markdown",
   "metadata": {
    "id": "TZrq2E9VtOTD"
   },
   "source": [
    "**Observations: _____**\n",
    "\n",
    "- The Linear Regression models appears to have delivered the most accurate, least overfit model of those created, given that the training and testing R2 results were closest (difference of only ~.015) and all above .85.  Ridge produced a suitable model as well, but did little to nothing in improving the existing linear regression model values.\n",
    "\n",
    "-  The initial decision tree and random forest models were overfit, despite showing high accuracy in the training sets' R2 values. The Hyperparameter tuning did improve the overfitting notably, but were still more biased when compared to the linear regression models."
   ]
  },
  {
   "cell_type": "markdown",
   "metadata": {
    "id": "acSjU_ZFvyVt"
   },
   "source": [
    "**Note:** You can also try some other algorithms such as KNN and compare the model performance with the existing ones."
   ]
  },
  {
   "cell_type": "markdown",
   "metadata": {
    "id": "58KMVhO_tOTD"
   },
   "source": [
    "### **Insights**\n",
    "\n",
    "**Refined insights**:\n",
    "- What are the most meaningful insights from the data relevant to the problem?\n",
    "\n",
    "- Results consistently show that the engine power and year built of the used car are most determinative in the market value of the used car. Mileage, KM driven, and transmission type may also impact price, but to a much lower degree.\n",
    "- Conversely, most locations sold and many brands did not show a significant impact on price in any of the used cars.\n",
    "- Although many brands did not figure significantly in the overall price, some brands did significantly impact used car value. Hindustan, Mini Cooper, Land Rover, Mercedes-Benz, Audi, BMW, Jaguar, and Volvo cars all sold for higher prices, while Tata, Datsun, Chevrolet, Fiat, and Mahindra resulted in lower price  and Chevrolet used cars sold for lower prices, as found in the OLS model.\n",
    "\n",
    "**Comparison of various techniques and their relative performance**:\n",
    "- How do different techniques perform? Which one is performing relatively better? Is there scope to improve the performance further?\n",
    "- Checking for Multicollinearity and then removing features with significant VIF scores prior to applying any of the models helped decomplexify the dataset, thus allowing for more reliable results from each model.\n",
    "- Both Ordinary Least Squares (OLS) Linear Regression (LR) models from sklearn and statsmodel packages  delivered nearly identical models that seemed to properly fit the data, given the relatively high and proximate R-square values of the training and test data (.87 & .85, respectively).\n",
    "- The Ridge model provided a model comparable to the LR  models as well.\n",
    "- The Decision Tree and Random Forest initial models created overfit models, given the high training data R-square values (~.99), compared to the notably lower test values (.78 & .88, respectively).\n",
    "- The tuned Decision Tree and Random Forest were able to eliminate some of the overfitting of the original models with lower training R-squared values (.89 &.90, respectively), but still had notable bias, given the significantly lower test values (.81 & .84, respectively).\n",
    "- All models included the RMSE values for training and test that hovered around 4.\n",
    "- The LR models performed nearly identically, delivering a well fitting model, especially compared to the decision tree and random forest models.\n",
    "- The statsmodel LR model was improved by removing insignificant variables, but did not produce comparatively better results.\n",
    "- The feature importance analysis revealed most of the features impact the Decision Tree and Random Forest models very little. - Some of these features could be eliminated, and further iterations could then be run on these models.\n",
    "- K-nearest neighbor could be applied to the dataset in order to better refine the data, and then additional modeling could be done to see if a more desirable model could be formulated.\n",
    "\n",
    "**Proposal for the final solution design**:\n",
    "- What model do you propose to be adopted? Why is this the best solution to adopt?\n",
    "- I propose utilizing the iterated statsmodel LR model, despite it not significantly improving the performance compared to the first iteration. Even still, it is the simplest model, given that it removed an additional 13 variables deemed insignificant from the test and training set, thus creating the relatively simplest model, with only 39 possible inputs.\n",
    "- The model shows no overfitting or underfitting, given the R-square value of the test set.\n",
    "\n"
   ]
  }
 ],
 "metadata": {
  "colab": {
   "collapsed_sections": [
    "a1WHqIX9tOTC",
    "PBoHEXnjtOTC",
    "TZrq2E9VtOTD"
   ],
   "name": "Reference_Notebook_Milestone_2_Regression.ipynb",
   "provenance": []
  },
  "kernelspec": {
   "display_name": "Python 3 (ipykernel)",
   "language": "python",
   "name": "python3"
  },
  "language_info": {
   "codemirror_mode": {
    "name": "ipython",
    "version": 3
   },
   "file_extension": ".py",
   "mimetype": "text/x-python",
   "name": "python",
   "nbconvert_exporter": "python",
   "pygments_lexer": "ipython3",
   "version": "3.9.12"
  }
 },
 "nbformat": 4,
 "nbformat_minor": 1
}
